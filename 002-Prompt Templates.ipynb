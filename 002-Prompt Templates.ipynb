{
 "cells": [
  {
   "cell_type": "code",
   "execution_count": null,
   "id": "bc062280",
   "metadata": {},
   "outputs": [],
   "source": [
    "from langchain_openai import ChatOpenAI\n",
    "from dotenv import dotenv_values\n",
    "import os\n",
    "\n",
    "env_values = dotenv_values(\".env\")\n",
    "\n",
    "os.environ['OPENAI_API_KEY'] = env_values[\"OPEN_ROUTER_API_KEY\"]\n",
    "os.environ['OPENAI_API_BASE'] = env_values[\"OPENAI_API_BASE\"]\n",
    "os.environ['OPENAI_MODEL_NAME'] = \"openai/gpt-5-mini\"       # openai/gpt-5-pro"
   ]
  },
  {
   "cell_type": "code",
   "execution_count": 7,
   "id": "05df8861",
   "metadata": {},
   "outputs": [],
   "source": [
    "llm = ChatOpenAI(temperature=0.1)"
   ]
  },
  {
   "cell_type": "code",
   "execution_count": null,
   "id": "f20a7f87",
   "metadata": {},
   "outputs": [
    {
     "data": {
      "text/plain": [
       "'ليونيل ميسي هو لاعب كرة قدم أرجنتيني، وُلد في 24 يونيو 1987 في روساريو، الأرجنتين. يُعتبر ميسي واحدًا من أعظم لاعبي كرة القدم في التاريخ، حيث حصل على العديد من الجوائز والألقاب الفردية والجماعية خلال مسيرته الاحترافية مع نادي برشلونة ومنتخب الأرجنتين. يتميز ميسي بمهاراته الاستثنائية في التسديد والتمرير والتسديد على المرمى، وهو يعتبر أحد أفضل الهدافين في تاريخ كرة القدم.'"
      ]
     },
     "execution_count": 24,
     "metadata": {},
     "output_type": "execute_result"
    }
   ],
   "source": [
    "result = llm.invoke(\"من هو ليونيل ميسي\")\n",
    "result.content"
   ]
  },
  {
   "cell_type": "markdown",
   "id": "22df141a",
   "metadata": {},
   "source": [
    "# String PromptTemplates\n",
    "These prompt templates are used to format a single string, and generally are used for simpler inputs. For example, a common way to construct and use a PromptTemplate is as follows:"
   ]
  },
  {
   "cell_type": "code",
   "execution_count": 3,
   "id": "53d27b11",
   "metadata": {},
   "outputs": [],
   "source": [
    "from langchain_core.prompts import PromptTemplate"
   ]
  },
  {
   "cell_type": "code",
   "execution_count": 4,
   "id": "0b6179aa",
   "metadata": {},
   "outputs": [
    {
     "name": "stdout",
     "output_type": "stream",
     "text": [
      "content='Math is a subject that helps us understand numbers, shapes, and patterns. It involves solving problems using addition, subtraction, multiplication, and division. In math, we learn how to count, measure, and compare things. We also learn about shapes like circles, squares, and triangles. Math helps us solve real-life problems and think logically. It is an important subject that we use in everyday life, from counting money to measuring ingredients for a recipe. Math is like a puzzle that we solve using our minds and numbers.' additional_kwargs={'refusal': None} response_metadata={'token_usage': {'completion_tokens': 104, 'prompt_tokens': 16, 'total_tokens': 120, 'completion_tokens_details': {'accepted_prediction_tokens': None, 'audio_tokens': None, 'reasoning_tokens': 0, 'rejected_prediction_tokens': None}, 'prompt_tokens_details': {'audio_tokens': 0, 'cached_tokens': 0}}, 'model_name': 'openai/gpt-3.5-turbo', 'system_fingerprint': None, 'id': 'gen-1760122961-8m4qKGxh7URbLp6IfX1D', 'service_tier': None, 'finish_reason': 'stop', 'logprobs': None} id='run--5be7d298-894c-4240-8658-a48b702ad3b9-0' usage_metadata={'input_tokens': 16, 'output_tokens': 104, 'total_tokens': 120, 'input_token_details': {'audio': 0, 'cache_read': 0}, 'output_token_details': {'reasoning': 0}}\n"
     ]
    }
   ],
   "source": [
    "string_template = PromptTemplate.from_template(\"Explain {subject} for 10 years old student\")\n",
    "\n",
    "user_subject = input(\"Enter The subject : \")\n",
    "\n",
    "prompt = string_template.format_prompt(subject = user_subject)\n",
    "\n",
    "result = llm.invoke(prompt)\n",
    "print(result)"
   ]
  },
  {
   "cell_type": "code",
   "execution_count": 5,
   "id": "41138c7b",
   "metadata": {},
   "outputs": [
    {
     "name": "stdout",
     "output_type": "stream",
     "text": [
      "content='شبكات العصب العميقة هي نوع من البرمجيات الذكائية التي تستوحي عملها من تنظيم وظائف دماغ الإنسان. تعتمد هذه الشبكات على العديد من الطبقات المتصلة ببعضها البعض لمعالجة البيانات واكتشاف الأنماط فيها. وباستخدام طبقات متعددة، يمكن لشبكة العصب العميقة تحقيق نتائج أفضل وأكثر دقة في حلاق القضايا المعقدة. تعتبر شبكات العصب العميقة تقنية مهمة في مجال الذكاء الاصطناعي وتستخدم في العديد من التطبيقات المختلفة مثل تحليل الصور والتعرف على الكلام والترجمة الآلية وغيرها.' additional_kwargs={'refusal': None} response_metadata={'token_usage': {'completion_tokens': 314, 'prompt_tokens': 20, 'total_tokens': 334, 'completion_tokens_details': {'accepted_prediction_tokens': None, 'audio_tokens': None, 'reasoning_tokens': 0, 'rejected_prediction_tokens': None}, 'prompt_tokens_details': {'audio_tokens': 0, 'cached_tokens': 0}}, 'model_name': 'openai/gpt-3.5-turbo', 'system_fingerprint': None, 'id': 'gen-1760122981-I1PHc0EJVQ7UZfQFgdSn', 'service_tier': None, 'finish_reason': 'stop', 'logprobs': None} id='run--ce764249-4712-4b2c-86d5-ccd358d5c3f4-0' usage_metadata={'input_tokens': 20, 'output_tokens': 314, 'total_tokens': 334, 'input_token_details': {'audio': 0, 'cache_read': 0}, 'output_token_details': {'reasoning': 0}}\n"
     ]
    }
   ],
   "source": [
    "string_template = PromptTemplate(\n",
    "    template = \"Explain {subject} for 10 years old student in {language} language\",\n",
    "    input_variables= ['subject', 'language'])\n",
    "\n",
    "user_subject = input(\"Enter The subject : \")\n",
    "user_language = input(\"Enter your language\")\n",
    "\n",
    "prompt = string_template.format(subject = user_subject, language = user_language)\n",
    "\n",
    "result = llm.invoke(prompt)\n",
    "print(result)"
   ]
  },
  {
   "cell_type": "code",
   "execution_count": 9,
   "id": "4694677b",
   "metadata": {},
   "outputs": [
    {
     "name": "stdout",
     "output_type": "stream",
     "text": [
      "content='الجهاز العصبي المركزي هو الجزء الرئيسي من الجهاز العصبي، ويتكون من الدماغ والحبل الشوكي. يعتبر الدماغ مركزاً للتحكم بكافة وظائف الجسم، بما في ذلك التفكير، والحركة، والإدراك، والذاكرة. بينما يقوم الحبل الشوكي بنقل الإشارات العصبية بين الدماغ وباقي أجزاء الجسم. يعتبر الجهاز العصبي المركزي مسؤولاً عن تنظيم وتنسيق جميع الأنشطة الحيوية في الجسم، وهو جزء حاسم لوجود الحياة.' additional_kwargs={'refusal': None} response_metadata={'token_usage': {'completion_tokens': 271, 'prompt_tokens': 59, 'total_tokens': 330, 'completion_tokens_details': {'accepted_prediction_tokens': None, 'audio_tokens': None, 'reasoning_tokens': 0, 'rejected_prediction_tokens': None}, 'prompt_tokens_details': {'audio_tokens': 0, 'cached_tokens': 0}}, 'model_name': 'openai/gpt-3.5-turbo', 'system_fingerprint': None, 'id': 'gen-1760123103-KeIZdrgMiKXlFRgKfdFF', 'service_tier': None, 'finish_reason': 'stop', 'logprobs': None} id='run--6a693927-0363-4445-babf-f8bb0d6a0fcc-0' usage_metadata={'input_tokens': 59, 'output_tokens': 271, 'total_tokens': 330, 'input_token_details': {'audio': 0, 'cache_read': 0}, 'output_token_details': {'reasoning': 0}}\n"
     ]
    }
   ],
   "source": [
    "template_message = \"\\n\".join([\n",
    "    \"اشرح لي\",\n",
    "    \"{subject}\",\n",
    "    \"كما لو انني حماررررر\",\n",
    "    \"باللغه\",\n",
    "    \"{language}\"\n",
    "])\n",
    "\n",
    "string_prompt = PromptTemplate(\n",
    "    template=template_message,\n",
    "    input_variables=[\"subject\",'language']\n",
    ")\n",
    "\n",
    "prompt = string_prompt.format(subject = 'الجهاز العصبي المركزي', language = 'العربيه')\n",
    "\n",
    "result = llm.invoke(prompt)\n",
    "print(result)"
   ]
  },
  {
   "cell_type": "markdown",
   "id": "b141e042",
   "metadata": {},
   "source": [
    "# ChatPromptTemplates\n",
    "These prompt templates are used to format a list of messages. These \"templates\" consist of a list of templates themselves. For example, a common way to construct and use a ChatPromptTemplate is as follows:"
   ]
  },
  {
   "cell_type": "code",
   "execution_count": 4,
   "id": "b49be054",
   "metadata": {},
   "outputs": [],
   "source": [
    "from langchain_core.prompts import ChatPromptTemplate\n",
    "from langchain.schema import HumanMessage, SystemMessage, AIMessage\n",
    "from langchain_openai import ChatOpenAI"
   ]
  },
  {
   "cell_type": "code",
   "execution_count": 8,
   "id": "db0067ee",
   "metadata": {},
   "outputs": [],
   "source": [
    "chat = ChatOpenAI(temperature=0.7)"
   ]
  },
  {
   "cell_type": "code",
   "execution_count": 9,
   "id": "1513acf3",
   "metadata": {},
   "outputs": [
    {
     "name": "stdout",
     "output_type": "stream",
     "text": [
      "What kind of academic environment do you thrive in?\n"
     ]
    }
   ],
   "source": [
    "base_conversation = [\n",
    "    SystemMessage(content=\"You are a professor, you want to ask me some things to find my sutable university\"),\n",
    "    \n",
    "    AIMessage(content=\"Where are you from?\"),\n",
    "    HumanMessage(content=\"Egypt\"),\n",
    "\n",
    "    AIMessage(content=\"Do you Love Math?\"),\n",
    "    HumanMessage(content=\"No too much\"),\n",
    "    \n",
    "    AIMessage(content=\"Do you love explore new ideas in the world\"),\n",
    "    HumanMessage(content=\"sometimes\"),\n",
    "]\n",
    "\n",
    "ai_response = chat.invoke(base_conversation)\n",
    "print(ai_response.content)"
   ]
  },
  {
   "cell_type": "code",
   "execution_count": 25,
   "id": "694e3f92",
   "metadata": {},
   "outputs": [
    {
     "name": "stdout",
     "output_type": "stream",
     "text": [
      "AI (Professor):  What subjects are you most passionate about or interested in?\n",
      "Human (Student):  I Love Programming and Design\n",
      "AI (Professor):  Do you prefer more technical and analytical work, or do you enjoy being creative and design-oriented?\n",
      "Human (Student):  html and css and js\n",
      "AI (Professor):  Are you more interested in front-end development (user interface, design) or back-end development (server-side logic, databases)?\n",
      "Human (Student):  yes\n",
      "\n",
      "--- Final Recommendation ---\n",
      "AI Final Recommendation:\n",
      " Based on your interest in front-end development with HTML, CSS, and JavaScript, as well as your passion for programming and design, I would recommend considering a field of study in **Web Development** or **Computer Science with a focus on Web Technologies**. These areas would allow you to further explore and enhance your skills in programming, design, and front-end development.\n"
     ]
    }
   ],
   "source": [
    "base_conversation = [\n",
    "    SystemMessage(content=\"You are a professor. Your goal is to determine my suitable university **Field of Study**. You must ask **only one question** per turn, wait for my response, and then ask the next question.\")\n",
    "]\n",
    "\n",
    "ai_response = None\n",
    "\n",
    "for i in range(3):\n",
    "\n",
    "    ai_response = chat.invoke(base_conversation)\n",
    "    print(\"AI (Professor): \", ai_response.content)\n",
    "    \n",
    "    base_conversation.append(ai_response)\n",
    "    \n",
    "    user_response_text = input(\"Enter your response (Student): \") \n",
    "    user_input = HumanMessage(content = user_response_text)\n",
    "    print(\"Human (Student): \", user_response_text)\n",
    "\n",
    "    base_conversation.append(user_input)\n",
    "\n",
    "human_final_message = HumanMessage(content=\"And Now. Tell me suitable Field to Study\")\n",
    "base_conversation.append(human_final_message)\n",
    "\n",
    "print(\"\\n--- Final Recommendation ---\")\n",
    "final_ai_response = chat.invoke(base_conversation)\n",
    "print(\"AI Final Recommendation:\\n\", final_ai_response.content)"
   ]
  }
 ],
 "metadata": {
  "kernelspec": {
   "display_name": "ai_env",
   "language": "python",
   "name": "python3"
  },
  "language_info": {
   "codemirror_mode": {
    "name": "ipython",
    "version": 3
   },
   "file_extension": ".py",
   "mimetype": "text/x-python",
   "name": "python",
   "nbconvert_exporter": "python",
   "pygments_lexer": "ipython3",
   "version": "3.9.23"
  }
 },
 "nbformat": 4,
 "nbformat_minor": 5
}

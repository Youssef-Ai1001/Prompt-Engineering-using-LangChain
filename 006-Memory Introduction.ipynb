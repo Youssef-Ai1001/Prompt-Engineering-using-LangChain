{
 "cells": [
  {
   "cell_type": "code",
   "execution_count": 2,
   "id": "6603d4e3",
   "metadata": {},
   "outputs": [],
   "source": [
    "from langchain_openai import ChatOpenAI\n",
    "from langchain_core.prompts import PromptTemplate, FewShotPromptTemplate\n",
    "from langchain_core.output_parsers import CommaSeparatedListOutputParser\n",
    "from dotenv import dotenv_values\n",
    "\n",
    "env_values = dotenv_values(\".env\")\n",
    "\n",
    "OPENAI_API_KEY = env_values[\"OPEN_ROUTER_API_KEY\"]\n",
    "OPENAI_API_BASE = env_values[\"OPENAI_API_BASE\"]\n",
    "MODEL_NAME = \"openai/gpt-5-mini\"   "
   ]
  },
  {
   "cell_type": "code",
   "execution_count": 3,
   "id": "0db89fc7",
   "metadata": {},
   "outputs": [],
   "source": [
    "llm = ChatOpenAI(\n",
    "    model=MODEL_NAME,\n",
    "    openai_api_key=OPENAI_API_KEY,\n",
    "    openai_api_base = OPENAI_API_BASE,\n",
    "    temperature=0.7\n",
    ")"
   ]
  },
  {
   "cell_type": "markdown",
   "id": "4a708673",
   "metadata": {},
   "source": [
    "# No Memory"
   ]
  },
  {
   "cell_type": "code",
   "execution_count": null,
   "id": "330cc5fc",
   "metadata": {},
   "outputs": [
    {
     "name": "stdout",
     "output_type": "stream",
     "text": [
      "Sure — three top places to visit in Egypt:\n",
      "\n",
      "1. Giza (Great Pyramids and the Sphinx) — The iconic ancient pyramids on the Giza Plateau just outside Cairo; don’t miss the Solar Boat Museum and consider a guided tour or camel ride at sunrise or sunset. Tip: visit early to avoid crowds and heat.\n",
      "\n",
      "2. Luxor (Karnak Temple, Luxor Temple, Valley of the Kings) — Often called the world’s greatest open-air museum for its concentration of pharaonic temples and tombs, including Tutankhamun’s burial site. Tip: buy a combined ticket and hire a guide to fully understand the sites.\n",
      "\n",
      "3. Sharm El-Sheikh (Red Sea beaches and dive sites) — A top spot for snorkeling and scuba diving with vivid coral reefs, plus resorts and day trips to Ras Mohammed National Park. Tip: best diving visibility from spring through autumn; check liveaboard or day-trip options.\n",
      "\n",
      "If you want alternatives (e.g., Alexandria, Aswan/Abu Simbel, Siwa Oasis), tell me what kind of trip you prefer (history, beaches, desert) and I can tailor suggestions.\n"
     ]
    }
   ],
   "source": [
    "msg_1 = \"can you list 3 places in Egypt to visit?\"\n",
    "\n",
    "output_1 = llm.invoke(msg_1).content\n",
    "\n",
    "print(output_1)"
   ]
  },
  {
   "cell_type": "code",
   "execution_count": 7,
   "id": "ef103bd7",
   "metadata": {},
   "outputs": [
    {
     "name": "stdout",
     "output_type": "stream",
     "text": [
      "Sure — here are three top places to visit in Egypt, with a quick note on what makes each special and a tip:\n",
      "\n",
      "1. Giza (Cairo) — the Pyramids of Giza and the Sphinx\n",
      "   - Why go: Iconic ancient wonders, including the Great Pyramid of Khufu.\n",
      "   - Tip: Go early morning to avoid crowds and heat; combine with the Egyptian Museum in Cairo.\n",
      "\n",
      "2. Luxor — Valley of the Kings, Karnak and Luxor Temples\n",
      "   - Why go: Often called the world’s greatest open-air museum for its concentration of pharaonic tombs and temples (Tutankhamun’s tomb, Hatshepsut’s temple).\n",
      "   - Tip: Hire a licensed guide to get the best historical context; visit sites at sunset when temperatures cool.\n",
      "\n",
      "3. Abu Simbel (near Aswan)\n",
      "   - Why go: The spectacular rock-cut temples of Ramses II and Nefertari, relocated to save them from the Nile’s Aswan High Dam.\n",
      "   - Tip: It’s a long trip from Aswan — consider a guided day trip or fly in; early visits avoid the biggest crowds.\n",
      "\n",
      "General travel notes: best time to visit is October–April (cooler weather), dress modestly at religious sites, carry water and sun protection, and check local opening hours and guides.\n"
     ]
    }
   ],
   "source": [
    "msg_2 = \"Which one has a lake view?\"\n",
    "\n",
    "output_2 = llm.invoke(msg_1).content\n",
    "\n",
    "print(output_2)"
   ]
  },
  {
   "cell_type": "markdown",
   "id": "d25cb036",
   "metadata": {},
   "source": [
    "# Conversation Buffer"
   ]
  },
  {
   "cell_type": "code",
   "execution_count": null,
   "id": "bb25bb6e",
   "metadata": {},
   "outputs": [],
   "source": [
    "# from langchain_core.runnables.history import RunnableWithMessageHistory         \n",
    "from langchain.chains import ConversationChain\n",
    "from langchain.memory import ConversationBufferMemory\n",
    "from langchain_community.callbacks.manager import get_openai_callback       # from langchain.callbacks import get_openai_callback        "
   ]
  },
  {
   "cell_type": "code",
   "execution_count": null,
   "id": "ce94da60",
   "metadata": {},
   "outputs": [],
   "source": [
    "msg_1 = \"can you list 3 places in Egypt to visit?\"\n",
    "msg_2 = \"Which one has a lake view?\"\n",
    "msg_3 = 'Can i visit in winter?'"
   ]
  },
  {
   "cell_type": "code",
   "execution_count": null,
   "id": "a3b10f5d",
   "metadata": {},
   "outputs": [
    {
     "name": "stdout",
     "output_type": "stream",
     "text": [
      "Sure — here are three great, very different places to visit in Egypt, with quick highlights and practical tips for each:\n",
      "\n",
      "1) Giza Pyramids & the Great Sphinx (Giza, near Cairo)\n",
      "- Why go: The quintessential ancient Egyptian monuments — the Great Pyramid of Khufu, the Sphinx, and several smaller pyramids and mastabas. Seeing them in person gives a real sense of scale and history.\n",
      "- Highlights: Entering the Great Pyramid (special ticket/limited), the Solar Boat Museum, photographing the Sphinx at sunrise/sunset, optional camel/horse rides on the plateau.\n",
      "- How to get there: ~30 km from central Cairo — taxi/Uber, private tour, or hotel-arranged transport.\n",
      "- Best time: October–April for milder weather; go early morning or late afternoon to avoid the worst heat and crowds.\n",
      "- Tips: Bring water, wear sun protection, negotiate camel/guide prices up front, and be cautious with unofficial guides. Tickets for pyramid interior visits are extra and sometimes limited.\n",
      "\n",
      "2) Luxor (East & West Banks — Karnak, Luxor Temple, Valley of the Kings)\n",
      "- Why go: Often called the world’s greatest open-air museum — enormous temple complexes, royal tombs, and spectacular wall reliefs spanning millennia.\n",
      "- Highlights: Karnak Temple (vast hypostyle hall), Luxor Temple at dusk, Valley of the Kings (tombs including Tutankhamun’s — note separate ticket), Hatshepsut’s Mortuary Temple, and optional sunrise hot-air balloon rides over the West Bank.\n",
      "- How to get there: Fly ~1 hour from Cairo, or take an overnight sleeper train or Nile cruise.\n",
      "- Best time: October–April; plan at least 1–2 days to see main sites.\n",
      "- Tips: Buy separate tickets for special tombs (e.g., Tutankhamun), hire a licensed guide for context and to navigate ticketing, and go early to avoid heat and crowds.\n",
      "\n",
      "3) Sharm el-Sheikh (Sinai) or Hurghada (Red Sea coast)\n",
      "- Why go: World-class snorkeling and scuba diving on vibrant coral reefs, clear warm water, and beach relaxation after ancient-site touring.\n",
      "- Highlights: Ras Mohammed and Tiran Island (Sharm), giftun island (Hurghada), liveaboard diving trips, seaside resorts, and watersports.\n",
      "- How to get there: Short domestic flights from Cairo or domestic connections via private transfer; many resorts arrange transfers.\n",
      "- Best time: October–May for comfortable weather and excellent visibility (water is warm year-round but summer can be very hot).\n",
      "- Tips: Choose a reputable dive operator, use reef-safe sunscreen, and consider combining a few days here with an archaeological itinerary inland.\n",
      "\n",
      "If you’d like, I can tailor these choices to how much time you have, your budget, or specific interests (history vs. beach vs. diving). Which type of trip are you thinking of?\n"
     ]
    }
   ],
   "source": [
    "conversation = ConversationChain(\n",
    "    llm = llm ,\n",
    "    memory = ConversationBufferMemory()\n",
    ")\n",
    "\n",
    "output_1 = conversation.predict(input = msg_1)\n",
    "print(output_1)"
   ]
  },
  {
   "cell_type": "code",
   "execution_count": 13,
   "id": "606343cb",
   "metadata": {},
   "outputs": [
    {
     "name": "stdout",
     "output_type": "stream",
     "text": [
      "Abu Simbel / Aswan region. Abu Simbel sits on the western shore of Lake Nasser (the huge reservoir formed by the Aswan High Dam), so that area gives you real lake views. \n",
      "\n",
      "Notes:\n",
      "- Aswan city itself is on the Nile (river views and river islands like Philae), not Lake Nasser.\n",
      "- Luxor is on the Nile (river), and Giza has no lake views.\n",
      "- If you want lake-front activities, look for tours or overnight stays that include Lake Nasser excursions (boat trips, sunset views) or a guided transfer from Aswan to Abu Simbel.\n",
      "\n",
      "Want recommendations for specific hotels or tours on/near Lake Nasser?\n"
     ]
    }
   ],
   "source": [
    "output_2 = conversation.predict(input = msg_2)\n",
    "print(output_2)"
   ]
  },
  {
   "cell_type": "code",
   "execution_count": 15,
   "id": "390734a7",
   "metadata": {},
   "outputs": [
    {
     "name": "stdout",
     "output_type": "stream",
     "text": [
      "content='can you list 3 places in Egypt to visit?' additional_kwargs={} response_metadata={}\n",
      "----------\n",
      "content='Sure — here are three must-see places in Egypt and what makes each special:\\n\\n1) Giza Plateau (Great Pyramid of Khufu and the Sphinx)\\n- The classic icon: the Great Pyramid, plus Khafre and Menkaure pyramids and the Sphinx.\\n- Things to do: walk the plateau, photograph at sunset, optional camel/horse rides, and (for an extra fee) enter one of the pyramids.\\n- Tip: arrive early to avoid crowds and heat; bring water and sun protection.\\n\\n2) Luxor (Valley of the Kings, Karnak and Luxor Temples)\\n- Often called the world’s greatest open-air museum: pharaonic tombs in the Valley of the Kings (Tutankhamun’s tomb is here), huge Karnak Temple complex, and the atmospheric Luxor Temple at night.\\n- Things to do: tomb-hopping, take a Nile felucca ride, consider a sunrise hot-air-balloon over the West Bank.\\n- Tip: Many tombs have limited lighting; a guide helps identify highlights and read inscriptions.\\n\\n3) Abu Simbel / Aswan region\\n- Abu Simbel’s colossal rock-cut temples of Ramses II and Nefertari were famously relocated to avoid the rising Nile after the Aswan High Dam.\\n- Things to do: guided trip from Aswan to Abu Simbel, visit Philae Temple in Aswan, enjoy relaxed Nile-side life.\\n- Tip: the temples are best visited early morning; guided tours handle transport and entry logistics.\\n\\nPractical notes: best travel months are October–April (cooler), dress modestly in public, and always carry water. Want a day-by-day mini-itinerary or help choosing between Alexandria, Siwa, or a Nile cruise?' additional_kwargs={} response_metadata={}\n",
      "----------\n",
      "content='Which one has a lake view?' additional_kwargs={} response_metadata={}\n",
      "----------\n",
      "content='Abu Simbel / Aswan region. Abu Simbel sits on the western shore of Lake Nasser (the huge reservoir formed by the Aswan High Dam), so that area gives you real lake views. \\n\\nNotes:\\n- Aswan city itself is on the Nile (river views and river islands like Philae), not Lake Nasser.\\n- Luxor is on the Nile (river), and Giza has no lake views.\\n- If you want lake-front activities, look for tours or overnight stays that include Lake Nasser excursions (boat trips, sunset views) or a guided transfer from Aswan to Abu Simbel.\\n\\nWant recommendations for specific hotels or tours on/near Lake Nasser?' additional_kwargs={} response_metadata={}\n",
      "----------\n"
     ]
    }
   ],
   "source": [
    "for msg in  conversation.memory.chat_memory.messages:\n",
    "    print(msg)\n",
    "    print(\"-\" * 10)"
   ]
  },
  {
   "cell_type": "code",
   "execution_count": 16,
   "id": "2d70c727",
   "metadata": {},
   "outputs": [
    {
     "data": {
      "text/plain": [
       "HumanMessage(content='can you list 3 places in Egypt to visit?', additional_kwargs={}, response_metadata={})"
      ]
     },
     "execution_count": 16,
     "metadata": {},
     "output_type": "execute_result"
    }
   ],
   "source": [
    "conversation.memory.chat_memory.messages[0]"
   ]
  },
  {
   "cell_type": "code",
   "execution_count": null,
   "id": "528c8539",
   "metadata": {},
   "outputs": [
    {
     "data": {
      "text/plain": [
       "AIMessage(content='Sure — here are three must-see places in Egypt and what makes each special:\\n\\n1) Giza Plateau (Great Pyramid of Khufu and the Sphinx)\\n- The classic icon: the Great Pyramid, plus Khafre and Menkaure pyramids and the Sphinx.\\n- Things to do: walk the plateau, photograph at sunset, optional camel/horse rides, and (for an extra fee) enter one of the pyramids.\\n- Tip: arrive early to avoid crowds and heat; bring water and sun protection.\\n\\n2) Luxor (Valley of the Kings, Karnak and Luxor Temples)\\n- Often called the world’s greatest open-air museum: pharaonic tombs in the Valley of the Kings (Tutankhamun’s tomb is here), huge Karnak Temple complex, and the atmospheric Luxor Temple at night.\\n- Things to do: tomb-hopping, take a Nile felucca ride, consider a sunrise hot-air-balloon over the West Bank.\\n- Tip: Many tombs have limited lighting; a guide helps identify highlights and read inscriptions.\\n\\n3) Abu Simbel / Aswan region\\n- Abu Simbel’s colossal rock-cut temples of Ramses II and Nefertari were famously relocated to avoid the rising Nile after the Aswan High Dam.\\n- Things to do: guided trip from Aswan to Abu Simbel, visit Philae Temple in Aswan, enjoy relaxed Nile-side life.\\n- Tip: the temples are best visited early morning; guided tours handle transport and entry logistics.\\n\\nPractical notes: best travel months are October–April (cooler), dress modestly in public, and always carry water. Want a day-by-day mini-itinerary or help choosing between Alexandria, Siwa, or a Nile cruise?', additional_kwargs={}, response_metadata={})"
      ]
     },
     "execution_count": 17,
     "metadata": {},
     "output_type": "execute_result"
    }
   ],
   "source": [
    "conversation.memory.chat_memory.messages[1]"
   ]
  },
  {
   "cell_type": "code",
   "execution_count": 26,
   "id": "9bb00f58",
   "metadata": {},
   "outputs": [],
   "source": [
    "conversation.memory.clear()"
   ]
  },
  {
   "cell_type": "code",
   "execution_count": 27,
   "id": "a97accb4",
   "metadata": {},
   "outputs": [],
   "source": [
    "for msg in  conversation.memory.chat_memory.messages:\n",
    "    print(msg)\n",
    "    print(\"-\" * 10)"
   ]
  },
  {
   "cell_type": "code",
   "execution_count": 20,
   "id": "4fb6b720",
   "metadata": {},
   "outputs": [
    {
     "name": "stdout",
     "output_type": "stream",
     "text": [
      "Great — here are three standout places in Egypt, with what to see at each and practical tips:\n",
      "\n",
      "1) Giza Plateau (Greater Cairo)\n",
      "- What to see: The Great Pyramid of Khufu, the Sphinx, the smaller pyramids and mastabas, and the Solar Boat Museum.\n",
      "- Why go: It’s the most iconic ancient monument complex in the world and gives a tangible sense of ancient Egyptian scale and engineering.\n",
      "- Tips: Go early morning or late afternoon to avoid the midday heat and crowds; consider a licensed guide for historical context; be prepared for some walking in sand and uneven surfaces.\n",
      "\n",
      "2) Luxor (Thebes)\n",
      "- What to see: Karnak Temple complex, Luxor Temple, the Valley of the Kings (Tutankhamun’s tomb and others), the Valley of the Queens, and Deir el-Bahri (Hatshepsut’s temple).\n",
      "- Why go: Often called the world’s greatest open-air museum — concentrations of temples and tombs span several dynasties with rich carvings and colorful tomb chambers.\n",
      "- Tips: Allow at least two days to see major sites; morning for the Valley of the Kings (cooler, better light), and consider a hot-air balloon ride at dawn for a spectacular overview.\n",
      "\n",
      "3) Aswan and Abu Simbel (Upper Egypt / southern Egypt)\n",
      "- What to see: Philae Temple on Agilkia Island, the Unfinished Obelisk in Aswan, and the rock-cut Abu Simbel temples (Ramses II and Nefertari) southwest of Aswan.\n",
      "- Why go: Aswan is a peaceful Nile-side city with Nubian culture and beautiful river scenery; Abu Simbel is a dramatic engineering and archaeological marvel relocated during the Aswan High Dam project.\n",
      "- Tips: Abu Simbel is best visited early; many travelers take a day trip from Aswan or fly from Cairo; combine Aswan with a Nile cruise north to Luxor for an easy itinerary.\n",
      "\n",
      "Quick travel & timing notes:\n",
      "- Best overall months: October–April (milder weather). Summers are very hot, especially in Upper Egypt.\n",
      "- How to move between them: domestic flights (Cairo–Aswan/Luxor), overnight sleeper trains, or Nile cruises linking Aswan and Luxor.\n",
      "- Practicalities: Bring sun protection, comfortable walking shoes, and modest clothing for religious/remote areas; carry cash for entry fees and tips.\n",
      "\n",
      "Want a sample 5–7 day itinerary linking two or all three of these? I can draft one tailored to your travel dates and interests.\n",
      "----------\n",
      "Tokens Used: 919\n",
      "\tPrompt Tokens: 73\n",
      "\t\tPrompt Tokens Cached: 0\n",
      "\tCompletion Tokens: 846\n",
      "\t\tReasoning Tokens: 0\n",
      "Successful Requests: 1\n",
      "Total Cost (USD): $0.0\n"
     ]
    }
   ],
   "source": [
    "with get_openai_callback() as cb:\n",
    "    print(conversation.predict(input = msg_1))\n",
    "    \n",
    "    print(\"-\" * 10)\n",
    "    \n",
    "    print(cb)"
   ]
  },
  {
   "cell_type": "code",
   "execution_count": null,
   "id": "c9d004b5",
   "metadata": {},
   "outputs": [],
   "source": [
    "conversation.verbose = True"
   ]
  },
  {
   "cell_type": "code",
   "execution_count": null,
   "id": "676d2eec",
   "metadata": {},
   "outputs": [
    {
     "name": "stdout",
     "output_type": "stream",
     "text": [
      "\n",
      "\n",
      "\u001b[1m> Entering new ConversationChain chain...\u001b[0m\n",
      "Prompt after formatting:\n",
      "\u001b[32;1m\u001b[1;3mThe following is a friendly conversation between a human and an AI. The AI is talkative and provides lots of specific details from its context. If the AI does not know the answer to a question, it truthfully says it does not know.\n",
      "\n",
      "Current conversation:\n",
      "\n",
      "Human: can you list 3 places in Egypt to visit?\n",
      "AI:\u001b[0m\n",
      "\n",
      "\u001b[1m> Finished chain.\u001b[0m\n"
     ]
    },
    {
     "data": {
      "text/plain": [
       "'Sure — here are three standout places in Egypt to visit, with what to see and a few practical tips for each:\\n\\n1. Giza Plateau (Cairo)\\n- Highlights: the Great Pyramid of Khufu, the Sphinx, and the Solar Boat Museum.\\n- Why go: it’s the most iconic ancient site in Egypt and gives a visceral sense of the scale and age of the monuments.\\n- Tips: go early or late to avoid the midday heat and heavy crowds; consider a licensed guide to explain inscriptions and history; camel/horse rides are available but agree price up front.\\n\\n2. Luxor (East & West Banks)\\n- Highlights: Karnak Temple and Luxor Temple on the East Bank; Valley of the Kings, Hatshepsut’s mortuary temple, and the Colossi of Memnon on the West Bank.\\n- Why go: Luxor is often called the world’s largest open-air museum — fantastic temples, royal tombs with vivid wall paintings, and optional hot-air-balloon flights at sunrise.\\n- Tips: allow at least two days to see main sites; hire an Egyptologist guide for the Valley of the Kings to understand tombs; visit in cooler months (Oct–Apr) if possible.\\n\\n3. Aswan & Abu Simbel\\n- Highlights: Philae Temple (on an island), the Aswan High Dam, felucca sails on the Nile; the spectacular rock-cut temples of Abu Simbel (Ramses II and Nefertari) a few hours from Aswan.\\n- Why go: Aswan has a relaxed Nile-side atmosphere and Nubian culture; Abu Simbel is a dramatic engineering and archaeological marvel relocated to save it from the dam’s reservoir.\\n- Tips: Abu Simbel is best visited at first light to avoid heat and crowds; it’s reachable by early-morning drive (~3 hrs each way from Aswan) or short charter flight; check seasonal opening times and book transport in advance.\\n\\nIf you tell me how many days you have, what season you’ll travel, or your interests (history, beaches, desert, diving), I can suggest an itinerary or alternative spots (e.g., Siwa Oasis, Alexandria, Hurghada/Dahab) tailored to you.'"
      ]
     },
     "execution_count": 29,
     "metadata": {},
     "output_type": "execute_result"
    }
   ],
   "source": [
    "conversation.predict(input = msg_1)"
   ]
  },
  {
   "cell_type": "code",
   "execution_count": 30,
   "id": "b8ad9219",
   "metadata": {},
   "outputs": [
    {
     "name": "stdout",
     "output_type": "stream",
     "text": [
      "\n",
      "\n",
      "\u001b[1m> Entering new ConversationChain chain...\u001b[0m\n",
      "Prompt after formatting:\n",
      "\u001b[32;1m\u001b[1;3mThe following is a friendly conversation between a human and an AI. The AI is talkative and provides lots of specific details from its context. If the AI does not know the answer to a question, it truthfully says it does not know.\n",
      "\n",
      "Current conversation:\n",
      "Human: can you list 3 places in Egypt to visit?\n",
      "AI: Sure — here are three standout places in Egypt to visit, with what to see and a few practical tips for each:\n",
      "\n",
      "1. Giza Plateau (Cairo)\n",
      "- Highlights: the Great Pyramid of Khufu, the Sphinx, and the Solar Boat Museum.\n",
      "- Why go: it’s the most iconic ancient site in Egypt and gives a visceral sense of the scale and age of the monuments.\n",
      "- Tips: go early or late to avoid the midday heat and heavy crowds; consider a licensed guide to explain inscriptions and history; camel/horse rides are available but agree price up front.\n",
      "\n",
      "2. Luxor (East & West Banks)\n",
      "- Highlights: Karnak Temple and Luxor Temple on the East Bank; Valley of the Kings, Hatshepsut’s mortuary temple, and the Colossi of Memnon on the West Bank.\n",
      "- Why go: Luxor is often called the world’s largest open-air museum — fantastic temples, royal tombs with vivid wall paintings, and optional hot-air-balloon flights at sunrise.\n",
      "- Tips: allow at least two days to see main sites; hire an Egyptologist guide for the Valley of the Kings to understand tombs; visit in cooler months (Oct–Apr) if possible.\n",
      "\n",
      "3. Aswan & Abu Simbel\n",
      "- Highlights: Philae Temple (on an island), the Aswan High Dam, felucca sails on the Nile; the spectacular rock-cut temples of Abu Simbel (Ramses II and Nefertari) a few hours from Aswan.\n",
      "- Why go: Aswan has a relaxed Nile-side atmosphere and Nubian culture; Abu Simbel is a dramatic engineering and archaeological marvel relocated to save it from the dam’s reservoir.\n",
      "- Tips: Abu Simbel is best visited at first light to avoid heat and crowds; it’s reachable by early-morning drive (~3 hrs each way from Aswan) or short charter flight; check seasonal opening times and book transport in advance.\n",
      "\n",
      "If you tell me how many days you have, what season you’ll travel, or your interests (history, beaches, desert, diving), I can suggest an itinerary or alternative spots (e.g., Siwa Oasis, Alexandria, Hurghada/Dahab) tailored to you.\n",
      "Human: Which one has a lake view?\n",
      "AI:\u001b[0m\n",
      "\n",
      "\u001b[1m> Finished chain.\u001b[0m\n"
     ]
    },
    {
     "data": {
      "text/plain": [
       "'The Aswan/Abu Simbel option. Clarification:\\n\\n- Abu Simbel sits beside Lake Nasser (the reservoir created by the High Dam), so the temple complex and the approaches give clear lake/shoreline views.\\n- In Aswan itself you’ll get water views too — the Nile, islands like Philae and Elephantine, and the impounded waters behind the Aswan High Dam (part of the Lake Nasser system).\\n- Giza is on the desert plateau (no lake), and Luxor overlooks the Nile (river views, not a lake).\\n\\nIf you want a true lakeside stay, look for accommodations around Aswan or near Abu Simbel/Lake Nasser; if a riverside view is fine, many hotels and felucca rides in Aswan and Luxor offer beautiful Nile views. Want recommendations for hotels or where to watch sunrise/sunset over the water?'"
      ]
     },
     "execution_count": 30,
     "metadata": {},
     "output_type": "execute_result"
    }
   ],
   "source": [
    "conversation.predict(input = msg_2)"
   ]
  },
  {
   "cell_type": "code",
   "execution_count": 33,
   "id": "00032bb2",
   "metadata": {},
   "outputs": [
    {
     "name": "stdout",
     "output_type": "stream",
     "text": [
      "Yes — winter is one of the best times to visit Egypt. A few key points to help you plan:\n",
      "\n",
      "Why winter is great\n",
      "- Mild, pleasant weather for sightseeing (much easier than the intense heat of summer).  \n",
      "- Ideal for exploring open-air sites (Giza, Luxor, Valley of the Kings) and doing desert activities (camel rides, jeep safaris).  \n",
      "- Good time for Red Sea diving/snorkeling: water visibility is excellent and surface temps are comfortable.\n",
      "\n",
      "Typical conditions (approximate)\n",
      "- Cairo/Giza: daytime ~15–20°C (59–68°F), nights cooler ~8–12°C; occasional rain.  \n",
      "- Luxor/Aswan (Upper Egypt): daytime ~20–25°C (68–77°F), nights ~10–15°C — very pleasant for temple visits.  \n",
      "- Red Sea resorts (Hurghada/Sharm): daytime ~20–25°C, sea ~22–25°C — diving is comfortable (a light wetsuit is usually enough).  \n",
      "- Sinai mountains (St. Catherine area): can be cold at night; bring warm layers.\n",
      "\n",
      "Practical tips\n",
      "- Pack layers: T‑shirts for daytime, a warm jumper and light jacket for evenings, and a warmer layer if you plan desert camping or St. Catherine.  \n",
      "- Wear sun protection (sunny days are common) and comfortable walking shoes.  \n",
      "- Respectful dress helps at religious sites (shoulders/knees covered for many mosques/churches).  \n",
      "- Winter is part of peak tourist season (Oct–Apr), so book popular things (internal pyramid tickets, hot‑air balloon rides, Nile cruises, Red Sea dive trips) in advance, especially around Christmas/New Year.  \n",
      "- Check dates for Ramadan (varies each year)—it affects opening hours, experiences, and restaurant service in some places.  \n",
      "- Check current travel advisories and entry requirements from official government sources before you go (I can’t see real‑time advisories).\n",
      "\n",
      "If you tell me which month you’re thinking of and what kind of trip you want (temples, Nile cruise, beach/diving, desert adventure), I can give more specific packing suggestions and an itinerary.\n",
      "----------\n",
      "Tokens Used: 1587\n",
      "\tPrompt Tokens: 688\n",
      "\t\tPrompt Tokens Cached: 0\n",
      "\tCompletion Tokens: 899\n",
      "\t\tReasoning Tokens: 0\n",
      "Successful Requests: 1\n",
      "Total Cost (USD): $0.0\n"
     ]
    }
   ],
   "source": [
    "with get_openai_callback() as cb:\n",
    "    print(conversation.predict(input = msg_3))\n",
    "    \n",
    "    print(\"-\" * 10)\n",
    "    \n",
    "    print(cb)"
   ]
  },
  {
   "cell_type": "markdown",
   "id": "33fa321b",
   "metadata": {},
   "source": [
    "# Buffer Window Memory"
   ]
  },
  {
   "cell_type": "code",
   "execution_count": 35,
   "id": "a3b67e06",
   "metadata": {},
   "outputs": [],
   "source": [
    "from langchain.memory import ConversationBufferWindowMemory"
   ]
  },
  {
   "cell_type": "code",
   "execution_count": 37,
   "id": "70b38ddc",
   "metadata": {},
   "outputs": [],
   "source": [
    "conversation = ConversationChain(\n",
    "    llm = llm,\n",
    "    memory =  ConversationBufferWindowMemory(k=1),\n",
    "    verbose = True\n",
    ")"
   ]
  },
  {
   "cell_type": "code",
   "execution_count": 38,
   "id": "adee3c8f",
   "metadata": {},
   "outputs": [],
   "source": [
    "msg_1 = \"can you list 3 places in Egypt to visit?\"\n",
    "msg_2 = \"Which one has a lake view?\"\n",
    "msg_3 = 'Can I visit in winter?'"
   ]
  },
  {
   "cell_type": "code",
   "execution_count": 39,
   "id": "c5a34336",
   "metadata": {},
   "outputs": [
    {
     "name": "stdout",
     "output_type": "stream",
     "text": [
      "\n",
      "\n",
      "\u001b[1m> Entering new ConversationChain chain...\u001b[0m\n",
      "Prompt after formatting:\n",
      "\u001b[32;1m\u001b[1;3mThe following is a friendly conversation between a human and an AI. The AI is talkative and provides lots of specific details from its context. If the AI does not know the answer to a question, it truthfully says it does not know.\n",
      "\n",
      "Current conversation:\n",
      "\n",
      "Human: can you list 3 places in Egypt to visit?\n",
      "AI:\u001b[0m\n",
      "\n",
      "\u001b[1m> Finished chain.\u001b[0m\n",
      "Sure — here are three great places in Egypt to visit, with a few highlights and practical tips for each:\n",
      "\n",
      "1. Pyramids of Giza (Giza/Cairo)\n",
      "- What to see: Great Pyramid of Khufu, Pyramid of Khafre, the Sphinx, Solar Boat Museum.\n",
      "- Highlights: Close-up views of the ancient pyramids, option to enter some pyramids (extra fee), camel or horse rides, sunset/sunrise photos.\n",
      "- Tips: Go early or late afternoon to avoid midday heat and Cairo traffic; buy tickets at the site or join a guided tour to skip lines; modest dress in public spaces.\n",
      "\n",
      "2. Luxor (East and West Banks)\n",
      "- What to see: Karnak Temple and Luxor Temple (East Bank); Valley of the Kings, Hatshepsut’s Temple, Medinet Habu (West Bank).\n",
      "- Highlights: Some of the best-preserved temples and royal tombs in Egypt, hot-air balloon rides at dawn over the West Bank, spectacular temple lighting at night.\n",
      "- Tips: Allow at least 1–2 full days to see main sites; guided tours are helpful for historical context; cooler months (Oct–Apr) are most comfortable.\n",
      "\n",
      "3. Aswan and Abu Simbel (Upper Egypt)\n",
      "- What to see: Philae Temple, the Aswan High Dam, felucca rides on the Nile in Aswan; the twin rock-cut temples of Abu Simbel (Ramses II and Nefertari).\n",
      "- Highlights: Peaceful Nile scenery and Nubian culture in Aswan; the dramatic facade and interior reliefs at Abu Simbel, which are especially striking at sunrise.\n",
      "- Tips: Abu Simbel is about a 3-hour drive from Aswan (or a short flight) — go very early or fly from Aswan/Cairo; combine a Nile felucca trip with a visit to local Nubian villages.\n",
      "\n",
      "If you want, I can suggest an itinerary that combines two or all three of these, or give timing and transport options based on how long you plan to stay.\n"
     ]
    }
   ],
   "source": [
    "print(conversation.predict(input = msg_1))"
   ]
  },
  {
   "cell_type": "code",
   "execution_count": 40,
   "id": "8ffeeb68",
   "metadata": {},
   "outputs": [
    {
     "name": "stdout",
     "output_type": "stream",
     "text": [
      "\n",
      "\n",
      "\u001b[1m> Entering new ConversationChain chain...\u001b[0m\n",
      "Prompt after formatting:\n",
      "\u001b[32;1m\u001b[1;3mThe following is a friendly conversation between a human and an AI. The AI is talkative and provides lots of specific details from its context. If the AI does not know the answer to a question, it truthfully says it does not know.\n",
      "\n",
      "Current conversation:\n",
      "Human: can you list 3 places in Egypt to visit?\n",
      "AI: Sure — here are three great places in Egypt to visit, with a few highlights and practical tips for each:\n",
      "\n",
      "1. Pyramids of Giza (Giza/Cairo)\n",
      "- What to see: Great Pyramid of Khufu, Pyramid of Khafre, the Sphinx, Solar Boat Museum.\n",
      "- Highlights: Close-up views of the ancient pyramids, option to enter some pyramids (extra fee), camel or horse rides, sunset/sunrise photos.\n",
      "- Tips: Go early or late afternoon to avoid midday heat and Cairo traffic; buy tickets at the site or join a guided tour to skip lines; modest dress in public spaces.\n",
      "\n",
      "2. Luxor (East and West Banks)\n",
      "- What to see: Karnak Temple and Luxor Temple (East Bank); Valley of the Kings, Hatshepsut’s Temple, Medinet Habu (West Bank).\n",
      "- Highlights: Some of the best-preserved temples and royal tombs in Egypt, hot-air balloon rides at dawn over the West Bank, spectacular temple lighting at night.\n",
      "- Tips: Allow at least 1–2 full days to see main sites; guided tours are helpful for historical context; cooler months (Oct–Apr) are most comfortable.\n",
      "\n",
      "3. Aswan and Abu Simbel (Upper Egypt)\n",
      "- What to see: Philae Temple, the Aswan High Dam, felucca rides on the Nile in Aswan; the twin rock-cut temples of Abu Simbel (Ramses II and Nefertari).\n",
      "- Highlights: Peaceful Nile scenery and Nubian culture in Aswan; the dramatic facade and interior reliefs at Abu Simbel, which are especially striking at sunrise.\n",
      "- Tips: Abu Simbel is about a 3-hour drive from Aswan (or a short flight) — go very early or fly from Aswan/Cairo; combine a Nile felucca trip with a visit to local Nubian villages.\n",
      "\n",
      "If you want, I can suggest an itinerary that combines two or all three of these, or give timing and transport options based on how long you plan to stay.\n",
      "Human: Which one has a lake view?\n",
      "AI:\u001b[0m\n",
      "\n",
      "\u001b[1m> Finished chain.\u001b[0m\n",
      "Aswan / Abu Simbel — they’re the ones with a true lake view.\n",
      "\n",
      "Why:\n",
      "- The Aswan High Dam created Lake Nasser, a huge reservoir that extends south from Aswan. Abu Simbel sits on the western shore of Lake Nasser, so the temple complex and surrounding area have direct lake/shoreline views.\n",
      "- In Aswan proper you’ll mostly see the Nile and islands (Elephantine, Agilkia), but many sights (Philae Temple is on an island in the reservoir) and nearby stretches give that broader reservoir/lake feel.\n",
      "\n",
      "Practical tips:\n",
      "- For a classic “lake” experience, visit Abu Simbel at sunrise or sunset when the lakeshore light is dramatic. Boat trips on sections of Lake Nasser are also possible from nearby ports.\n",
      "- If you want accommodation with water views, look for hotels in Abu Simbel overlooking the lakeshore or Nile‑front hotels in Aswan (they’ll have island/river views rather than a wide lake).\n",
      "- Note travel time: Abu Simbel is about 3 hours by road from Aswan (or a short local flight) — plan early departures if you want to combine it with other sites.\n",
      "\n",
      "If you tell me whether you prefer a Nile/river view (Aswan/Luxor) or the broader reservoir/lake view (Abu Simbel/Lake Nasser), I can suggest specific hotels or boat trips.\n"
     ]
    }
   ],
   "source": [
    "print(conversation.predict(input = msg_2))"
   ]
  },
  {
   "cell_type": "code",
   "execution_count": 41,
   "id": "abcab071",
   "metadata": {},
   "outputs": [
    {
     "name": "stdout",
     "output_type": "stream",
     "text": [
      "\n",
      "\n",
      "\u001b[1m> Entering new ConversationChain chain...\u001b[0m\n",
      "Prompt after formatting:\n",
      "\u001b[32;1m\u001b[1;3mThe following is a friendly conversation between a human and an AI. The AI is talkative and provides lots of specific details from its context. If the AI does not know the answer to a question, it truthfully says it does not know.\n",
      "\n",
      "Current conversation:\n",
      "Human: Which one has a lake view?\n",
      "AI: Aswan / Abu Simbel — they’re the ones with a true lake view.\n",
      "\n",
      "Why:\n",
      "- The Aswan High Dam created Lake Nasser, a huge reservoir that extends south from Aswan. Abu Simbel sits on the western shore of Lake Nasser, so the temple complex and surrounding area have direct lake/shoreline views.\n",
      "- In Aswan proper you’ll mostly see the Nile and islands (Elephantine, Agilkia), but many sights (Philae Temple is on an island in the reservoir) and nearby stretches give that broader reservoir/lake feel.\n",
      "\n",
      "Practical tips:\n",
      "- For a classic “lake” experience, visit Abu Simbel at sunrise or sunset when the lakeshore light is dramatic. Boat trips on sections of Lake Nasser are also possible from nearby ports.\n",
      "- If you want accommodation with water views, look for hotels in Abu Simbel overlooking the lakeshore or Nile‑front hotels in Aswan (they’ll have island/river views rather than a wide lake).\n",
      "- Note travel time: Abu Simbel is about 3 hours by road from Aswan (or a short local flight) — plan early departures if you want to combine it with other sites.\n",
      "\n",
      "If you tell me whether you prefer a Nile/river view (Aswan/Luxor) or the broader reservoir/lake view (Abu Simbel/Lake Nasser), I can suggest specific hotels or boat trips.\n",
      "Human: Can I visit in winter?\n",
      "AI:\u001b[0m\n",
      "\n",
      "\u001b[1m> Finished chain.\u001b[0m\n",
      "Yes — winter (roughly November through February, with shoulder months March and October often included) is actually one of the best times to visit Aswan, Abu Simbel and Lake Nasser.\n",
      "\n",
      "Quick overview\n",
      "- Weather: mild and very pleasant for sightseeing. Daytime highs are typically around 20–26°C (68–79°F); nights can drop to ~8–14°C (46–57°F), especially in desert areas, so mornings/evenings feel quite cool. Skies are usually clear and dry.\n",
      "- Why it’s good: comfortable temperatures for temples, walking, and boat trips (no extreme heat), excellent light for photography (golden hours), and generally low humidity.\n",
      "- What to watch for: this is high tourist season, so popular sites, flights, and hotels can be busier and pricier—book in advance if you travel in December or around New Year.\n",
      "\n",
      "Practical tips\n",
      "- Packing: layers — T‑shirts and light trousers/skirts for daytime; a warm jumper or light jacket for mornings/evenings; a windproof for boat rides. Sun hat, sunglasses, and sunscreen are still important even in winter. Comfortable walking shoes.\n",
      "- Timing: sunrise and sunset are earlier than summer (roughly sunrise ~06:00–06:30, sunset ~17:00 in midwinter), so plan temple visits and transfers accordingly. If you want the dawn light at Abu Simbel, plan very early departures.\n",
      "- Getting there: Abu Simbel is accessible year‑round by road (about 3 hours from Aswan) or by short local flight. Aswan/Philae are reached by boat from Aswan’s quays as usual. Lake Nasser boat excursions operate but availability can be limited—book through reputable operators.\n",
      "- Events: the Abu Simbel “Sun Festival” when the sanctuary is illuminated occurs twice a year (around Feb 22 and Oct 22) — that’s a special date if it fits your trip. Coptic Christmas (Jan 7) is also observed locally and can affect opening hours or celebrations.\n",
      "- Crowds & bookings: if you prefer fewer people, avoid the peak holiday windows (late December, early January). For winter travel, reserve accommodations, guided tours, and any internal flights or private transfers ahead of time.\n",
      "- Health & safety: winter is low risk for heat-related illness, but stay hydrated. No special visas/permits beyond standard entry rules; check current travel advisories and any health entry requirements before you go.\n",
      "\n",
      "If you tell me the month you’re thinking of and whether you prefer quieter travel or lively high season, I can suggest specific dates, itineraries, or hotels (Nile‑front vs. lakeshore options).\n"
     ]
    }
   ],
   "source": [
    "print(conversation.predict(input = msg_3))"
   ]
  },
  {
   "cell_type": "markdown",
   "id": "20f305d2",
   "metadata": {},
   "source": [
    "# Summary Memeory"
   ]
  },
  {
   "cell_type": "code",
   "execution_count": null,
   "id": "0e9902ae",
   "metadata": {},
   "outputs": [],
   "source": []
  }
 ],
 "metadata": {
  "kernelspec": {
   "display_name": "ai_env",
   "language": "python",
   "name": "python3"
  },
  "language_info": {
   "codemirror_mode": {
    "name": "ipython",
    "version": 3
   },
   "file_extension": ".py",
   "mimetype": "text/x-python",
   "name": "python",
   "nbconvert_exporter": "python",
   "pygments_lexer": "ipython3",
   "version": "3.9.23"
  }
 },
 "nbformat": 4,
 "nbformat_minor": 5
}

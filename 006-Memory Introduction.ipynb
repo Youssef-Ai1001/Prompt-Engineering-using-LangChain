{
 "cells": [
  {
   "cell_type": "code",
   "execution_count": 44,
   "id": "6603d4e3",
   "metadata": {},
   "outputs": [],
   "source": [
    "# from langchain_openai import ChatOpenAI\n",
    "from langchain_core.prompts import PromptTemplate, FewShotPromptTemplate\n",
    "from langchain_core.output_parsers import CommaSeparatedListOutputParser\n",
    "\n",
    "from langchain_ollama import OllamaLLM, ChatOllama\n",
    "\n",
    "MODEL_NAME = \"llama3:latest\""
   ]
  },
  {
   "cell_type": "code",
   "execution_count": null,
   "id": "0db89fc7",
   "metadata": {},
   "outputs": [],
   "source": [
    "llm = OllamaLLM(\n",
    "    model=MODEL_NAME,\n",
    "    temperature=0.7\n",
    ")"
   ]
  },
  {
   "cell_type": "markdown",
   "id": "4a708673",
   "metadata": {},
   "source": [
    "# No Memory\n"
   ]
  },
  {
   "cell_type": "code",
   "execution_count": 46,
   "id": "330cc5fc",
   "metadata": {},
   "outputs": [
    {
     "name": "stdout",
     "output_type": "stream",
     "text": [
      "Egypt is a treasure trove of history and culture! Here are three must-visit places:\n",
      "\n",
      "1. **The Pyramids of Giza**: No trip to Egypt would be complete without visiting the oldest and only remaining ancient wonder of the Seven Wonders of the World – the Pyramid of Khufu (also known as the Great Pyramid). You can also explore the smaller pyramids of Khafre and Menkaure, as well as the Solar Boat Museum.\n",
      "2. **The Valley of the Kings**: Located on the west bank of the Nile River, this vast burial ground is home to over 60 tombs of pharaohs from ancient Egypt's New Kingdom period (1550-1069 BCE). The most famous tomb is that of Tutankhamun, whose treasures were famously discovered by Howard Carter in 1922.\n",
      "3. **The Egyptian Museum**: With over 120,000 artifacts, this museum in Cairo is a must-visit for anyone interested in ancient Egyptian history and culture. The highlights include the world's largest collection of mummies (including Ramses II and Hatshepsut), as well as the golden funerary mask of Tutankhamun.\n",
      "\n",
      "These three places offer a glimpse into Egypt's rich history, from its most iconic landmarks to its fascinating cultural heritage.\n"
     ]
    }
   ],
   "source": [
    "msg_1 = \"can you list 3 places in Egypt to visit?\"\n",
    "\n",
    "output_1 = llm.invoke(msg_1)\n",
    "\n",
    "print(output_1)"
   ]
  },
  {
   "cell_type": "code",
   "execution_count": 4,
   "id": "ef103bd7",
   "metadata": {},
   "outputs": [
    {
     "name": "stdout",
     "output_type": "stream",
     "text": [
      "Egypt is a treasure trove of history and culture! Here are three must-visit places in Egypt:\n",
      "\n",
      "1. **The Pyramids of Giza**: No trip to Egypt would be complete without visiting the Pyramids of Giza, one of the Seven Wonders of the Ancient World. The largest pyramid is Khufu's Pyramid, also known as the Great Pyramid of Giza. You can take a guided tour or ride a camel around the pyramids for an unforgettable experience.\n",
      "2. **The Egyptian Museum in Cairo**: With over 120,000 artifacts, this museum is a must-visit for anyone interested in ancient Egyptology. The museum houses a vast collection of mummies, sarcophagi, and other treasures from pharaonic times, including the famous golden mask of Tutankhamun.\n",
      "3. **Abu Simbel**: Located in southern Egypt, Abu Simbel is a majestic temple complex carved into the mountainside by Ramses II in 1264 BC. The temple's four colossal statues of Ramses II and his wife, Nefertari, are an awe-inspiring sight. Be sure to visit during the annual Festival of Light in February, when the sun aligns with the temple's inner sanctum.\n",
      "\n",
      "These three destinations offer a glimpse into Egypt's rich history, culture, and natural beauty.\n"
     ]
    }
   ],
   "source": [
    "msg_2 = \"Which one has a lake view?\"\n",
    "\n",
    "output_2 = llm.invoke(msg_1)\n",
    "\n",
    "print(output_2)"
   ]
  },
  {
   "cell_type": "markdown",
   "id": "d25cb036",
   "metadata": {},
   "source": [
    "# Conversation Buffer\n"
   ]
  },
  {
   "cell_type": "code",
   "execution_count": null,
   "id": "bb25bb6e",
   "metadata": {},
   "outputs": [],
   "source": [
    "# from langchain_core.runnables.history import RunnableWithMessageHistory\n",
    "from langchain.chains import ConversationChain\n",
    "from langchain.memory import ConversationBufferMemory\n",
    "from langchain_community.callbacks.manager import get_openai_callback      # مع موديلات OpenAi فقط وكمان مش ال Loccal\n",
    "# from langchain.callbacks import get_openai_callback"
   ]
  },
  {
   "cell_type": "code",
   "execution_count": 6,
   "id": "ce94da60",
   "metadata": {},
   "outputs": [],
   "source": [
    "msg_1 = \"can you list 3 places in Egypt to visit?\"\n",
    "msg_2 = \"Which one has a lake view?\"\n",
    "msg_3 = \"Can i visit in winter?\""
   ]
  },
  {
   "cell_type": "code",
   "execution_count": 7,
   "id": "a3b10f5d",
   "metadata": {},
   "outputs": [
    {
     "name": "stderr",
     "output_type": "stream",
     "text": [
      "/tmp/ipykernel_26927/3965194028.py:1: LangChainDeprecationWarning: Please see the migration guide at: https://python.langchain.com/docs/versions/migrating_memory/\n",
      "  conversation = ConversationChain(llm=llm, memory=ConversationBufferMemory())\n",
      "/tmp/ipykernel_26927/3965194028.py:1: LangChainDeprecationWarning: The class `ConversationChain` was deprecated in LangChain 0.2.7 and will be removed in 1.0. Use :class:`~langchain_core.runnables.history.RunnableWithMessageHistory` instead.\n",
      "  conversation = ConversationChain(llm=llm, memory=ConversationBufferMemory())\n"
     ]
    },
    {
     "name": "stdout",
     "output_type": "stream",
     "text": [
      "What a great question! Egypt has so many incredible places to visit. Here are three must-see destinations:\n",
      "\n",
      "1. The Pyramids of Giza - This is one of the most iconic and awe-inspiring sites in all of Egypt. You can't miss the majestic Great Pyramid of Khufu, which is not only an engineering marvel but also a testament to ancient Egyptian ingenuity. Plus, you can take a camel ride around the pyramids for a unique perspective.\n",
      "2. The Valley of the Kings - Located near Luxor, this necropolis is home to over 60 tombs of pharaohs and other nobles from ancient Egypt. Each tomb is a work of art, with intricate paintings and carvings that showcase the skills of the ancient Egyptians. You can spend hours exploring the valley and learning about the history behind each tomb.\n",
      "3. Islamic Cairo - This historic neighborhood in Cairo is filled with stunning mosques, madrasas, and other Islamic architecture from the Fatimid, Ayyubid, and Mamluk periods. One of the most famous landmarks here is the Mosque of Muhammad Ali Pasha, which was built in the 19th century and features a unique blend of Ottoman and Egyptian architectural styles.\n",
      "\n",
      "I hope you enjoy your trip to Egypt!\n"
     ]
    }
   ],
   "source": [
    "conversation = ConversationChain(llm=llm, memory=ConversationBufferMemory())\n",
    "\n",
    "output_1 = conversation.predict(input=msg_1)\n",
    "print(output_1)"
   ]
  },
  {
   "cell_type": "code",
   "execution_count": 8,
   "id": "606343cb",
   "metadata": {},
   "outputs": [
    {
     "name": "stdout",
     "output_type": "stream",
     "text": [
      "Unfortunately, none of the three places I mentioned earlier offer a direct lake view. The Pyramids of Giza are located in the desert, so there isn't a lake nearby. The Valley of the Kings is also situated in the desert, and it doesn't have a lake view either. Islamic Cairo is a neighborhood in the city of Cairo, which is surrounded by urban areas and not near a lake.\n",
      "\n",
      "However, if you're interested in visiting a place with a lake view, I can suggest Lake Nasser, which is located on the Egyptian-Sudanese border. It's a massive artificial lake created by the construction of the Aswan Dam. The lake offers stunning views and is a popular spot for water sports and relaxation.\n",
      "\n",
      "Please note that Lake Nasser might not be a typical tourist destination in Egypt, but it's an option if you're interested in exploring a unique natural attraction with a lake view.\n"
     ]
    }
   ],
   "source": [
    "output_2 = conversation.predict(input=msg_2)\n",
    "print(output_2)"
   ]
  },
  {
   "cell_type": "code",
   "execution_count": 9,
   "id": "390734a7",
   "metadata": {},
   "outputs": [
    {
     "name": "stdout",
     "output_type": "stream",
     "text": [
      "content='can you list 3 places in Egypt to visit?' additional_kwargs={} response_metadata={}\n",
      "----------\n",
      "content=\"What a great question! Egypt has so many incredible places to visit. Here are three must-see destinations:\\n\\n1. The Pyramids of Giza - This is one of the most iconic and awe-inspiring sites in all of Egypt. You can't miss the majestic Great Pyramid of Khufu, which is not only an engineering marvel but also a testament to ancient Egyptian ingenuity. Plus, you can take a camel ride around the pyramids for a unique perspective.\\n2. The Valley of the Kings - Located near Luxor, this necropolis is home to over 60 tombs of pharaohs and other nobles from ancient Egypt. Each tomb is a work of art, with intricate paintings and carvings that showcase the skills of the ancient Egyptians. You can spend hours exploring the valley and learning about the history behind each tomb.\\n3. Islamic Cairo - This historic neighborhood in Cairo is filled with stunning mosques, madrasas, and other Islamic architecture from the Fatimid, Ayyubid, and Mamluk periods. One of the most famous landmarks here is the Mosque of Muhammad Ali Pasha, which was built in the 19th century and features a unique blend of Ottoman and Egyptian architectural styles.\\n\\nI hope you enjoy your trip to Egypt!\" additional_kwargs={} response_metadata={}\n",
      "----------\n",
      "content='Which one has a lake view?' additional_kwargs={} response_metadata={}\n",
      "----------\n",
      "content=\"Unfortunately, none of the three places I mentioned earlier offer a direct lake view. The Pyramids of Giza are located in the desert, so there isn't a lake nearby. The Valley of the Kings is also situated in the desert, and it doesn't have a lake view either. Islamic Cairo is a neighborhood in the city of Cairo, which is surrounded by urban areas and not near a lake.\\n\\nHowever, if you're interested in visiting a place with a lake view, I can suggest Lake Nasser, which is located on the Egyptian-Sudanese border. It's a massive artificial lake created by the construction of the Aswan Dam. The lake offers stunning views and is a popular spot for water sports and relaxation.\\n\\nPlease note that Lake Nasser might not be a typical tourist destination in Egypt, but it's an option if you're interested in exploring a unique natural attraction with a lake view.\" additional_kwargs={} response_metadata={}\n",
      "----------\n"
     ]
    }
   ],
   "source": [
    "for msg in conversation.memory.chat_memory.messages:\n",
    "    print(msg)\n",
    "    print(\"-\" * 10)"
   ]
  },
  {
   "cell_type": "code",
   "execution_count": 10,
   "id": "2d70c727",
   "metadata": {},
   "outputs": [
    {
     "data": {
      "text/plain": [
       "HumanMessage(content='can you list 3 places in Egypt to visit?', additional_kwargs={}, response_metadata={})"
      ]
     },
     "execution_count": 10,
     "metadata": {},
     "output_type": "execute_result"
    }
   ],
   "source": [
    "conversation.memory.chat_memory.messages[0]"
   ]
  },
  {
   "cell_type": "code",
   "execution_count": 11,
   "id": "528c8539",
   "metadata": {},
   "outputs": [
    {
     "data": {
      "text/plain": [
       "AIMessage(content=\"What a great question! Egypt has so many incredible places to visit. Here are three must-see destinations:\\n\\n1. The Pyramids of Giza - This is one of the most iconic and awe-inspiring sites in all of Egypt. You can't miss the majestic Great Pyramid of Khufu, which is not only an engineering marvel but also a testament to ancient Egyptian ingenuity. Plus, you can take a camel ride around the pyramids for a unique perspective.\\n2. The Valley of the Kings - Located near Luxor, this necropolis is home to over 60 tombs of pharaohs and other nobles from ancient Egypt. Each tomb is a work of art, with intricate paintings and carvings that showcase the skills of the ancient Egyptians. You can spend hours exploring the valley and learning about the history behind each tomb.\\n3. Islamic Cairo - This historic neighborhood in Cairo is filled with stunning mosques, madrasas, and other Islamic architecture from the Fatimid, Ayyubid, and Mamluk periods. One of the most famous landmarks here is the Mosque of Muhammad Ali Pasha, which was built in the 19th century and features a unique blend of Ottoman and Egyptian architectural styles.\\n\\nI hope you enjoy your trip to Egypt!\", additional_kwargs={}, response_metadata={})"
      ]
     },
     "execution_count": 11,
     "metadata": {},
     "output_type": "execute_result"
    }
   ],
   "source": [
    "conversation.memory.chat_memory.messages[1]"
   ]
  },
  {
   "cell_type": "code",
   "execution_count": 12,
   "id": "9bb00f58",
   "metadata": {},
   "outputs": [],
   "source": [
    "conversation.memory.clear()"
   ]
  },
  {
   "cell_type": "code",
   "execution_count": 13,
   "id": "a97accb4",
   "metadata": {},
   "outputs": [],
   "source": [
    "for msg in conversation.memory.chat_memory.messages:\n",
    "    print(msg)\n",
    "    print(\"-\" * 10)"
   ]
  },
  {
   "cell_type": "code",
   "execution_count": 14,
   "id": "4fb6b720",
   "metadata": {},
   "outputs": [
    {
     "name": "stdout",
     "output_type": "stream",
     "text": [
      "What a great question! Egypt has so many incredible destinations to explore. Here are three must-visit places in Egypt:\n",
      "\n",
      "1. **The Pyramids of Giza**: Located on the outskirts of modern-day Cairo, this ancient wonder is a must-see for any traveler. The largest pyramid, known as the Great Pyramid of Khufu, is an absolute marvel. Did you know that it's estimated to have taken around 20 years to build and required over 2 million blocks of stone, each weighing around 2.5 tons? You can take a guided tour inside one of the smaller pyramids or simply walk around the complex to absorb its grandeur.\n",
      "2. **The Valley of the Kings**: This ancient burial ground is located in Luxor, on the opposite side of the Nile River from Cairo. The Valley of the Kings is home to over 60 tombs and temples built for pharaohs and nobles during the New Kingdom period. You can explore the elaborate paintings and hieroglyphics within some of these tombs, like Tutankhamun's famous tomb.\n",
      "3. **Abu Simbel**: Located in southern Egypt, Abu Simbel is a magnificent temple complex carved into the mountainside. Originally built by Ramses II around 1264 BC, it was relocated to its current site after the construction of the Aswan High Dam threatened to submerge the original location underwater. The temple features four massive statues of Ramses II and several other impressive structures.\n",
      "\n",
      "I hope you enjoy your trip to Egypt!\n",
      "----------\n",
      "Tokens Used: 0\n",
      "\tPrompt Tokens: 0\n",
      "\t\tPrompt Tokens Cached: 0\n",
      "\tCompletion Tokens: 0\n",
      "\t\tReasoning Tokens: 0\n",
      "Successful Requests: 0\n",
      "Total Cost (USD): $0.0\n"
     ]
    }
   ],
   "source": [
    "with get_openai_callback() as cb:\n",
    "    print(conversation.predict(input=msg_1))\n",
    "\n",
    "    print(\"-\" * 10)\n",
    "\n",
    "    print(cb)"
   ]
  },
  {
   "cell_type": "code",
   "execution_count": 15,
   "id": "c9d004b5",
   "metadata": {},
   "outputs": [],
   "source": [
    "conversation.verbose = True"
   ]
  },
  {
   "cell_type": "code",
   "execution_count": 16,
   "id": "676d2eec",
   "metadata": {},
   "outputs": [
    {
     "name": "stdout",
     "output_type": "stream",
     "text": [
      "\n",
      "\n",
      "\u001b[1m> Entering new ConversationChain chain...\u001b[0m\n",
      "Prompt after formatting:\n",
      "\u001b[32;1m\u001b[1;3mThe following is a friendly conversation between a human and an AI. The AI is talkative and provides lots of specific details from its context. If the AI does not know the answer to a question, it truthfully says it does not know.\n",
      "\n",
      "Current conversation:\n",
      "Human: can you list 3 places in Egypt to visit?\n",
      "AI: What a great question! Egypt has so many incredible destinations to explore. Here are three must-visit places in Egypt:\n",
      "\n",
      "1. **The Pyramids of Giza**: Located on the outskirts of modern-day Cairo, this ancient wonder is a must-see for any traveler. The largest pyramid, known as the Great Pyramid of Khufu, is an absolute marvel. Did you know that it's estimated to have taken around 20 years to build and required over 2 million blocks of stone, each weighing around 2.5 tons? You can take a guided tour inside one of the smaller pyramids or simply walk around the complex to absorb its grandeur.\n",
      "2. **The Valley of the Kings**: This ancient burial ground is located in Luxor, on the opposite side of the Nile River from Cairo. The Valley of the Kings is home to over 60 tombs and temples built for pharaohs and nobles during the New Kingdom period. You can explore the elaborate paintings and hieroglyphics within some of these tombs, like Tutankhamun's famous tomb.\n",
      "3. **Abu Simbel**: Located in southern Egypt, Abu Simbel is a magnificent temple complex carved into the mountainside. Originally built by Ramses II around 1264 BC, it was relocated to its current site after the construction of the Aswan High Dam threatened to submerge the original location underwater. The temple features four massive statues of Ramses II and several other impressive structures.\n",
      "\n",
      "I hope you enjoy your trip to Egypt!\n",
      "Human: can you list 3 places in Egypt to visit?\n",
      "AI:\u001b[0m\n",
      "\n",
      "\u001b[1m> Finished chain.\u001b[0m\n"
     ]
    },
    {
     "data": {
      "text/plain": [
       "\"What a great question! Egypt has so many incredible destinations to explore. Here are three must-visit places in Egypt:\\n\\n1. **The Pyramids of Giza**: Located on the outskirts of modern-day Cairo, this ancient wonder is a must-see for any traveler. The largest pyramid, known as the Great Pyramid of Khufu, is an absolute marvel. Did you know that it's estimated to have taken around 20 years to build and required over 2 million blocks of stone, each weighing around 2.5 tons? You can take a guided tour inside one of the smaller pyramids or simply walk around the complex to absorb its grandeur.\\n2. **The Valley of the Kings**: This ancient burial ground is located in Luxor, on the opposite side of the Nile River from Cairo. The Valley of the Kings is home to over 60 tombs and temples built for pharaohs and nobles during the New Kingdom period. You can explore the elaborate paintings and hieroglyphics within some of these tombs, like Tutankhamun's famous tomb.\\n3. **Abu Simbel**: Located in southern Egypt, Abu Simbel is a magnificent temple complex carved into the mountainside. Originally built by Ramses II around 1264 BC, it was relocated to its current site after the construction of the Aswan High Dam threatened to submerge the original location underwater. The temple features four massive statues of Ramses II and several other impressive structures.\\n\\nI hope you enjoy your trip to Egypt!\""
      ]
     },
     "execution_count": 16,
     "metadata": {},
     "output_type": "execute_result"
    }
   ],
   "source": [
    "conversation.predict(input=msg_1)"
   ]
  },
  {
   "cell_type": "code",
   "execution_count": 17,
   "id": "b8ad9219",
   "metadata": {},
   "outputs": [
    {
     "name": "stdout",
     "output_type": "stream",
     "text": [
      "\n",
      "\n",
      "\u001b[1m> Entering new ConversationChain chain...\u001b[0m\n",
      "Prompt after formatting:\n",
      "\u001b[32;1m\u001b[1;3mThe following is a friendly conversation between a human and an AI. The AI is talkative and provides lots of specific details from its context. If the AI does not know the answer to a question, it truthfully says it does not know.\n",
      "\n",
      "Current conversation:\n",
      "Human: can you list 3 places in Egypt to visit?\n",
      "AI: What a great question! Egypt has so many incredible destinations to explore. Here are three must-visit places in Egypt:\n",
      "\n",
      "1. **The Pyramids of Giza**: Located on the outskirts of modern-day Cairo, this ancient wonder is a must-see for any traveler. The largest pyramid, known as the Great Pyramid of Khufu, is an absolute marvel. Did you know that it's estimated to have taken around 20 years to build and required over 2 million blocks of stone, each weighing around 2.5 tons? You can take a guided tour inside one of the smaller pyramids or simply walk around the complex to absorb its grandeur.\n",
      "2. **The Valley of the Kings**: This ancient burial ground is located in Luxor, on the opposite side of the Nile River from Cairo. The Valley of the Kings is home to over 60 tombs and temples built for pharaohs and nobles during the New Kingdom period. You can explore the elaborate paintings and hieroglyphics within some of these tombs, like Tutankhamun's famous tomb.\n",
      "3. **Abu Simbel**: Located in southern Egypt, Abu Simbel is a magnificent temple complex carved into the mountainside. Originally built by Ramses II around 1264 BC, it was relocated to its current site after the construction of the Aswan High Dam threatened to submerge the original location underwater. The temple features four massive statues of Ramses II and several other impressive structures.\n",
      "\n",
      "I hope you enjoy your trip to Egypt!\n",
      "Human: can you list 3 places in Egypt to visit?\n",
      "AI: What a great question! Egypt has so many incredible destinations to explore. Here are three must-visit places in Egypt:\n",
      "\n",
      "1. **The Pyramids of Giza**: Located on the outskirts of modern-day Cairo, this ancient wonder is a must-see for any traveler. The largest pyramid, known as the Great Pyramid of Khufu, is an absolute marvel. Did you know that it's estimated to have taken around 20 years to build and required over 2 million blocks of stone, each weighing around 2.5 tons? You can take a guided tour inside one of the smaller pyramids or simply walk around the complex to absorb its grandeur.\n",
      "2. **The Valley of the Kings**: This ancient burial ground is located in Luxor, on the opposite side of the Nile River from Cairo. The Valley of the Kings is home to over 60 tombs and temples built for pharaohs and nobles during the New Kingdom period. You can explore the elaborate paintings and hieroglyphics within some of these tombs, like Tutankhamun's famous tomb.\n",
      "3. **Abu Simbel**: Located in southern Egypt, Abu Simbel is a magnificent temple complex carved into the mountainside. Originally built by Ramses II around 1264 BC, it was relocated to its current site after the construction of the Aswan High Dam threatened to submerge the original location underwater. The temple features four massive statues of Ramses II and several other impressive structures.\n",
      "\n",
      "I hope you enjoy your trip to Egypt!\n",
      "Human: Which one has a lake view?\n",
      "AI:\u001b[0m\n",
      "\n",
      "\u001b[1m> Finished chain.\u001b[0m\n"
     ]
    },
    {
     "data": {
      "text/plain": [
       "\"Unfortunately, I don't have information on which specific place in Egypt offers a lake view. The Pyramids of Giza are located near the Nile River, but they don't have a direct lake view. The Valley of the Kings is also situated near the Nile River, but it's not known for its lake views either. And Abu Simbel is located far from any lakes, as it's in southern Egypt.\\n\\nIf you're looking for a place with a lake view in Egypt, I'm not aware of one that fits your criteria. However, there are many beautiful and historic sites to explore throughout the country!\""
      ]
     },
     "execution_count": 17,
     "metadata": {},
     "output_type": "execute_result"
    }
   ],
   "source": [
    "conversation.predict(input=msg_2)"
   ]
  },
  {
   "cell_type": "code",
   "execution_count": 18,
   "id": "00032bb2",
   "metadata": {},
   "outputs": [
    {
     "name": "stdout",
     "output_type": "stream",
     "text": [
      "\n",
      "\n",
      "\u001b[1m> Entering new ConversationChain chain...\u001b[0m\n",
      "Prompt after formatting:\n",
      "\u001b[32;1m\u001b[1;3mThe following is a friendly conversation between a human and an AI. The AI is talkative and provides lots of specific details from its context. If the AI does not know the answer to a question, it truthfully says it does not know.\n",
      "\n",
      "Current conversation:\n",
      "Human: can you list 3 places in Egypt to visit?\n",
      "AI: What a great question! Egypt has so many incredible destinations to explore. Here are three must-visit places in Egypt:\n",
      "\n",
      "1. **The Pyramids of Giza**: Located on the outskirts of modern-day Cairo, this ancient wonder is a must-see for any traveler. The largest pyramid, known as the Great Pyramid of Khufu, is an absolute marvel. Did you know that it's estimated to have taken around 20 years to build and required over 2 million blocks of stone, each weighing around 2.5 tons? You can take a guided tour inside one of the smaller pyramids or simply walk around the complex to absorb its grandeur.\n",
      "2. **The Valley of the Kings**: This ancient burial ground is located in Luxor, on the opposite side of the Nile River from Cairo. The Valley of the Kings is home to over 60 tombs and temples built for pharaohs and nobles during the New Kingdom period. You can explore the elaborate paintings and hieroglyphics within some of these tombs, like Tutankhamun's famous tomb.\n",
      "3. **Abu Simbel**: Located in southern Egypt, Abu Simbel is a magnificent temple complex carved into the mountainside. Originally built by Ramses II around 1264 BC, it was relocated to its current site after the construction of the Aswan High Dam threatened to submerge the original location underwater. The temple features four massive statues of Ramses II and several other impressive structures.\n",
      "\n",
      "I hope you enjoy your trip to Egypt!\n",
      "Human: can you list 3 places in Egypt to visit?\n",
      "AI: What a great question! Egypt has so many incredible destinations to explore. Here are three must-visit places in Egypt:\n",
      "\n",
      "1. **The Pyramids of Giza**: Located on the outskirts of modern-day Cairo, this ancient wonder is a must-see for any traveler. The largest pyramid, known as the Great Pyramid of Khufu, is an absolute marvel. Did you know that it's estimated to have taken around 20 years to build and required over 2 million blocks of stone, each weighing around 2.5 tons? You can take a guided tour inside one of the smaller pyramids or simply walk around the complex to absorb its grandeur.\n",
      "2. **The Valley of the Kings**: This ancient burial ground is located in Luxor, on the opposite side of the Nile River from Cairo. The Valley of the Kings is home to over 60 tombs and temples built for pharaohs and nobles during the New Kingdom period. You can explore the elaborate paintings and hieroglyphics within some of these tombs, like Tutankhamun's famous tomb.\n",
      "3. **Abu Simbel**: Located in southern Egypt, Abu Simbel is a magnificent temple complex carved into the mountainside. Originally built by Ramses II around 1264 BC, it was relocated to its current site after the construction of the Aswan High Dam threatened to submerge the original location underwater. The temple features four massive statues of Ramses II and several other impressive structures.\n",
      "\n",
      "I hope you enjoy your trip to Egypt!\n",
      "Human: Which one has a lake view?\n",
      "AI: Unfortunately, I don't have information on which specific place in Egypt offers a lake view. The Pyramids of Giza are located near the Nile River, but they don't have a direct lake view. The Valley of the Kings is also situated near the Nile River, but it's not known for its lake views either. And Abu Simbel is located far from any lakes, as it's in southern Egypt.\n",
      "\n",
      "If you're looking for a place with a lake view in Egypt, I'm not aware of one that fits your criteria. However, there are many beautiful and historic sites to explore throughout the country!\n",
      "Human: Can i visit in winter?\n",
      "AI:\u001b[0m\n",
      "\n",
      "\u001b[1m> Finished chain.\u001b[0m\n",
      "Winter in Egypt! Yes, you can definitely visit Egypt during the winter months. In fact, winter (December to February) is a great time to visit Egypt as the weather is mild and pleasant, making it ideal for sightseeing.\n",
      "\n",
      "The average temperature during this period ranges from 12°C to 22°C (54°F to 72°F), which is quite comfortable for exploring ancient ruins, temples, and cities. Additionally, winter is considered the dry season in Egypt, with minimal rainfall, so you won't have to worry about bad weather affecting your trip.\n",
      "\n",
      "Many of the popular tourist attractions, such as the Pyramids of Giza, The Valley of the Kings, and Abu Simbel, are open year-round, including during the winter months. You can enjoy the festivals and events that take place during this time, like the Christmas celebrations in Cairo or the Luxor Winter Festival.\n",
      "\n",
      "Just keep in mind that some tour operators might have adjusted their schedules or offerings for the winter season, so it's always a good idea to check with them before planning your trip.\n",
      "\n",
      "So, yes! You can definitely visit Egypt during the winter months and enjoy its rich history, culture, and natural beauty.\n",
      "----------\n",
      "Tokens Used: 0\n",
      "\tPrompt Tokens: 0\n",
      "\t\tPrompt Tokens Cached: 0\n",
      "\tCompletion Tokens: 0\n",
      "\t\tReasoning Tokens: 0\n",
      "Successful Requests: 0\n",
      "Total Cost (USD): $0.0\n"
     ]
    }
   ],
   "source": [
    "with get_openai_callback() as cb:\n",
    "    print(conversation.predict(input=msg_3))\n",
    "\n",
    "    print(\"-\" * 10)\n",
    "\n",
    "    print(cb)"
   ]
  },
  {
   "cell_type": "markdown",
   "id": "33fa321b",
   "metadata": {},
   "source": [
    "# Buffer Window Memory\n"
   ]
  },
  {
   "cell_type": "code",
   "execution_count": 19,
   "id": "a3b67e06",
   "metadata": {},
   "outputs": [],
   "source": [
    "from langchain.memory import ConversationBufferWindowMemory"
   ]
  },
  {
   "cell_type": "code",
   "execution_count": 20,
   "id": "70b38ddc",
   "metadata": {},
   "outputs": [
    {
     "name": "stderr",
     "output_type": "stream",
     "text": [
      "/tmp/ipykernel_26927/4076517736.py:2: LangChainDeprecationWarning: Please see the migration guide at: https://python.langchain.com/docs/versions/migrating_memory/\n",
      "  llm=llm, memory=ConversationBufferWindowMemory(k=1), verbose=True\n"
     ]
    }
   ],
   "source": [
    "conversation = ConversationChain(\n",
    "    llm=llm, memory=ConversationBufferWindowMemory(k=1), verbose=True\n",
    ")"
   ]
  },
  {
   "cell_type": "code",
   "execution_count": 21,
   "id": "adee3c8f",
   "metadata": {},
   "outputs": [],
   "source": [
    "msg_1 = \"can you list 3 places in Egypt to visit?\"\n",
    "msg_2 = \"Which one has a lake view?\"\n",
    "msg_3 = \"Can I visit in winter?\""
   ]
  },
  {
   "cell_type": "code",
   "execution_count": 22,
   "id": "c5a34336",
   "metadata": {},
   "outputs": [
    {
     "name": "stdout",
     "output_type": "stream",
     "text": [
      "\n",
      "\n",
      "\u001b[1m> Entering new ConversationChain chain...\u001b[0m\n",
      "Prompt after formatting:\n",
      "\u001b[32;1m\u001b[1;3mThe following is a friendly conversation between a human and an AI. The AI is talkative and provides lots of specific details from its context. If the AI does not know the answer to a question, it truthfully says it does not know.\n",
      "\n",
      "Current conversation:\n",
      "\n",
      "Human: can you list 3 places in Egypt to visit?\n",
      "AI:\u001b[0m\n",
      "\n",
      "\u001b[1m> Finished chain.\u001b[0m\n",
      "What a great question! I'd be delighted to help you with that!\n",
      "\n",
      "Egypt is a treasure trove of history and culture, and there are countless amazing places to visit. Based on my vast knowledge database, here are three places in Egypt that I highly recommend:\n",
      "\n",
      "1. **The Pyramids of Giza**: This is the most iconic attraction in Egypt, and for good reason! The Great Pyramid of Khufu, also known as the Pyramid of Cheops, is an absolute must-see. Did you know that it's the only one of the Seven Wonders of the Ancient World still standing? You can take a guided tour or explore the pyramids on your own.\n",
      "2. **The Valley of the Kings**: Located in Luxor, this necropolis is home to over 60 pharaohs and nobles from ancient Egypt. The elaborate tombs are filled with intricate paintings and hieroglyphics, giving you a glimpse into the lives of these powerful rulers. You can explore the valley on a guided tour or take your time exploring the site.\n",
      "3. **The Egyptian Museum in Cairo**: This world-renowned museum is home to over 120,000 artifacts from ancient Egypt! The highlight is the vast collection of mummies, including Ramses II and Tutankhamun (also known as King Tut). You can also see an impressive array of sarcophagi, furniture, and jewelry.\n",
      "\n",
      "Of course, there are many more incredible places to visit in Egypt, but these three are definitely a great starting point!\n",
      "\n",
      "What do you think? Are any of these places on your bucket list?\n"
     ]
    }
   ],
   "source": [
    "print(conversation.predict(input=msg_1))"
   ]
  },
  {
   "cell_type": "code",
   "execution_count": 23,
   "id": "8ffeeb68",
   "metadata": {},
   "outputs": [
    {
     "name": "stdout",
     "output_type": "stream",
     "text": [
      "\n",
      "\n",
      "\u001b[1m> Entering new ConversationChain chain...\u001b[0m\n",
      "Prompt after formatting:\n",
      "\u001b[32;1m\u001b[1;3mThe following is a friendly conversation between a human and an AI. The AI is talkative and provides lots of specific details from its context. If the AI does not know the answer to a question, it truthfully says it does not know.\n",
      "\n",
      "Current conversation:\n",
      "Human: can you list 3 places in Egypt to visit?\n",
      "AI: What a great question! I'd be delighted to help you with that!\n",
      "\n",
      "Egypt is a treasure trove of history and culture, and there are countless amazing places to visit. Based on my vast knowledge database, here are three places in Egypt that I highly recommend:\n",
      "\n",
      "1. **The Pyramids of Giza**: This is the most iconic attraction in Egypt, and for good reason! The Great Pyramid of Khufu, also known as the Pyramid of Cheops, is an absolute must-see. Did you know that it's the only one of the Seven Wonders of the Ancient World still standing? You can take a guided tour or explore the pyramids on your own.\n",
      "2. **The Valley of the Kings**: Located in Luxor, this necropolis is home to over 60 pharaohs and nobles from ancient Egypt. The elaborate tombs are filled with intricate paintings and hieroglyphics, giving you a glimpse into the lives of these powerful rulers. You can explore the valley on a guided tour or take your time exploring the site.\n",
      "3. **The Egyptian Museum in Cairo**: This world-renowned museum is home to over 120,000 artifacts from ancient Egypt! The highlight is the vast collection of mummies, including Ramses II and Tutankhamun (also known as King Tut). You can also see an impressive array of sarcophagi, furniture, and jewelry.\n",
      "\n",
      "Of course, there are many more incredible places to visit in Egypt, but these three are definitely a great starting point!\n",
      "\n",
      "What do you think? Are any of these places on your bucket list?\n",
      "Human: Which one has a lake view?\n",
      "AI:\u001b[0m\n",
      "\n",
      "\u001b[1m> Finished chain.\u001b[0m\n",
      "None of the three places I mentioned earlier have a direct lake view. The Pyramids of Giza are located in the desert, while the Valley of the Kings is situated near the Nile River but not directly overlooking a lake. The Egyptian Museum in Cairo is actually located in the city center, away from any lakes.\n",
      "\n",
      "However, if you're looking for a place with a stunning lake view, I can suggest the **Lake Nasser**, which is a man-made lake created by the Aswan High Dam. It's located near Aswan, Egypt, and offers breathtaking views of the surrounding desert landscape. Unfortunately, I don't have specific information on tourist attractions or viewpoints around Lake Nasser that offer direct lake views. If you're interested in visiting Lake Nasser, I recommend searching for more information online!\n"
     ]
    }
   ],
   "source": [
    "print(conversation.predict(input=msg_2))"
   ]
  },
  {
   "cell_type": "code",
   "execution_count": 24,
   "id": "abcab071",
   "metadata": {},
   "outputs": [
    {
     "name": "stdout",
     "output_type": "stream",
     "text": [
      "\n",
      "\n",
      "\u001b[1m> Entering new ConversationChain chain...\u001b[0m\n",
      "Prompt after formatting:\n",
      "\u001b[32;1m\u001b[1;3mThe following is a friendly conversation between a human and an AI. The AI is talkative and provides lots of specific details from its context. If the AI does not know the answer to a question, it truthfully says it does not know.\n",
      "\n",
      "Current conversation:\n",
      "Human: Which one has a lake view?\n",
      "AI: None of the three places I mentioned earlier have a direct lake view. The Pyramids of Giza are located in the desert, while the Valley of the Kings is situated near the Nile River but not directly overlooking a lake. The Egyptian Museum in Cairo is actually located in the city center, away from any lakes.\n",
      "\n",
      "However, if you're looking for a place with a stunning lake view, I can suggest the **Lake Nasser**, which is a man-made lake created by the Aswan High Dam. It's located near Aswan, Egypt, and offers breathtaking views of the surrounding desert landscape. Unfortunately, I don't have specific information on tourist attractions or viewpoints around Lake Nasser that offer direct lake views. If you're interested in visiting Lake Nasser, I recommend searching for more information online!\n",
      "Human: Can I visit in winter?\n",
      "AI:\u001b[0m\n",
      "\n",
      "\u001b[1m> Finished chain.\u001b[0m\n",
      "Winter! In Egypt, winters are generally mild and pleasant, with average temperatures ranging from 12°C to 22°C (54°F to 72°F). It's a great time to visit Lake Nasser, as the weather is ideal for outdoor activities like boat tours or simply enjoying the scenery.\n",
      "\n",
      "However, I must clarify that Lake Nasser is a significant water body, and its water level may fluctuate depending on factors like precipitation and dam operations. While it's not typically affected by harsh winter conditions, there might be some seasonal variations in water levels or water temperature.\n",
      "\n",
      "As for specific tourist attractions or viewpoints around Lake Nasser that offer direct lake views, I still don't have that information. But if you're interested in visiting during the winter season, I recommend checking with local authorities or tour operators for up-to-date information on lake conditions and any necessary precautions.\n"
     ]
    }
   ],
   "source": [
    "print(conversation.predict(input=msg_3))"
   ]
  },
  {
   "cell_type": "markdown",
   "id": "20f305d2",
   "metadata": {},
   "source": [
    "# Summary Memeory\n"
   ]
  },
  {
   "cell_type": "code",
   "execution_count": 25,
   "id": "0e9902ae",
   "metadata": {},
   "outputs": [
    {
     "name": "stderr",
     "output_type": "stream",
     "text": [
      "/tmp/ipykernel_26927/3778352187.py:5: LangChainDeprecationWarning: Please see the migration guide at: https://python.langchain.com/docs/versions/migrating_memory/\n",
      "  llm=llm, memory=ConversationSummaryMemory(llm=llm), verbose=True\n"
     ]
    }
   ],
   "source": [
    "from langchain.memory import ConversationSummaryMemory\n",
    "\n",
    "\n",
    "conversation = ConversationChain(\n",
    "    llm=llm, memory=ConversationSummaryMemory(llm=llm), verbose=True\n",
    ")"
   ]
  },
  {
   "cell_type": "code",
   "execution_count": 26,
   "id": "77b969fb",
   "metadata": {},
   "outputs": [],
   "source": [
    "conversation.memory.clear()"
   ]
  },
  {
   "cell_type": "code",
   "execution_count": 27,
   "id": "6d8f68c4",
   "metadata": {},
   "outputs": [],
   "source": [
    "msg_1 = \"can you list 3 places in Egypt to visit?\"\n",
    "msg_2 = \"Which one has a lake view?\"\n",
    "msg_3 = \"Can I visit in winter?\""
   ]
  },
  {
   "cell_type": "code",
   "execution_count": 28,
   "id": "6b4970ec",
   "metadata": {},
   "outputs": [
    {
     "name": "stdout",
     "output_type": "stream",
     "text": [
      "\n",
      "\n",
      "\u001b[1m> Entering new ConversationChain chain...\u001b[0m\n",
      "Prompt after formatting:\n",
      "\u001b[32;1m\u001b[1;3mThe following is a friendly conversation between a human and an AI. The AI is talkative and provides lots of specific details from its context. If the AI does not know the answer to a question, it truthfully says it does not know.\n",
      "\n",
      "Current conversation:\n",
      "\n",
      "Human: can you list 3 places in Egypt to visit?\n",
      "AI:\u001b[0m\n",
      "\n",
      "\u001b[1m> Finished chain.\u001b[0m\n",
      "I'd be happy to help you with that! As an AI trained on vast amounts of data about the world, I have a lot of information about Egypt. Here are three fantastic places to visit in Egypt:\n",
      "\n",
      "1. The Pyramids of Giza: This is one of the most iconic and awe-inspiring tourist attractions in the world. The Great Pyramid of Khufu, also known as the Pyramid of Cheops, is an absolute must-see. Did you know that it's estimated to have taken around 20 years to build and required the labor of thousands of skilled workers? You can take a guided tour inside the pyramid or simply marvel at its grandeur from outside.\n",
      "2. The Valley of the Kings: Located on Egypt's west bank, this ancient necropolis is home to over 60 tombs belonging to pharaohs and nobles from ancient Egypt. The most famous tomb is that of Tutankhamun, which was discovered almost intact by Howard Carter in 1922. You can take a guided tour through the valley and explore the elaborate paintings and hieroglyphics adorning the walls.\n",
      "3. Islamic Cairo: This historic neighborhood is filled with stunning mosques, madrasas, and other architectural wonders from the Islamic era. One of the most famous landmarks is the Mosque of Muhammad Ali Pasha, also known as the Alabaster Mosque, which is adorned with intricate marble work and features a beautiful courtyard. You can take a leisurely stroll through the narrow streets and alleys to discover hidden gems like the Mosque of Amr ibn al-As, one of the oldest mosques in Africa.\n",
      "\n",
      "I hope you find this information helpful! Do you have any specific interests or preferences for your trip to Egypt?\n"
     ]
    }
   ],
   "source": [
    "print(conversation.predict(input=msg_1))"
   ]
  },
  {
   "cell_type": "code",
   "execution_count": 29,
   "id": "84792787",
   "metadata": {},
   "outputs": [
    {
     "name": "stdout",
     "output_type": "stream",
     "text": [
      "\n",
      "\n",
      "\u001b[1m> Entering new ConversationChain chain...\u001b[0m\n",
      "Prompt after formatting:\n",
      "\u001b[32;1m\u001b[1;3mThe following is a friendly conversation between a human and an AI. The AI is talkative and provides lots of specific details from its context. If the AI does not know the answer to a question, it truthfully says it does not know.\n",
      "\n",
      "Current conversation:\n",
      "Current summary:\n",
      "None (starting a new conversation)\n",
      "\n",
      "New lines of conversation:\n",
      "Human: can you list 3 places in Egypt to visit?\n",
      "AI: I'd be happy to help you with that! As an AI trained on vast amounts of data about the world, I have a lot of information about Egypt. Here are three fantastic places to visit in Egypt:\n",
      "\n",
      "1. The Pyramids of Giza: This is one of the most iconic and awe-inspiring tourist attractions in the world. The Great Pyramid of Khufu, also known as the Pyramid of Cheops, is an absolute must-see. Did you know that it's estimated to have taken around 20 years to build and required the labor of thousands of skilled workers? You can take a guided tour inside the pyramid or simply marvel at its grandeur from outside.\n",
      "2. The Valley of the Kings: Located on Egypt's west bank, this ancient necropolis is home to over 60 tombs belonging to pharaohs and nobles from ancient Egypt. The most famous tomb is that of Tutankhamun, which was discovered almost intact by Howard Carter in 1922. You can take a guided tour through the valley and explore the elaborate paintings and hieroglyphics adorning the walls.\n",
      "3. Islamic Cairo: This historic neighborhood is filled with stunning mosques, madrasas, and other architectural wonders from the Islamic era. One of the most famous landmarks is the Mosque of Muhammad Ali Pasha, also known as the Alabaster Mosque, which is adorned with intricate marble work and features a beautiful courtyard. You can take a leisurely stroll through the narrow streets and alleys to discover hidden gems like the Mosque of Amr ibn al-As, one of the oldest mosques in Africa.\n",
      "\n",
      "I hope you find this information helpful! Do you have any specific interests or preferences for your trip to Egypt?\n",
      "\n",
      "New summary:\n",
      "The AI suggests visiting three places in Egypt: The Pyramids of Giza, The Valley of the Kings, and Islamic Cairo.\n",
      "Human: Which one has a lake view?\n",
      "AI:\u001b[0m\n",
      "\n",
      "\u001b[1m> Finished chain.\u001b[0m\n",
      "I'm happy to help! As far as I know, none of the three places I mentioned earlier have a direct lake view. The Pyramids of Giza are located in the desert, The Valley of the Kings is on the west bank of the Nile River, and Islamic Cairo is in the city itself.\n",
      "\n",
      "However, if you're looking for a spot with a lake view, you might want to consider Lake Nasser, which is a man-made lake created by the construction of the Aswan High Dam. It's located near the town of Aswan, which is about 700 kilometers (435 miles) south of Cairo. The lake offers stunning views and is a popular spot for boating and fishing.\n",
      "\n",
      "If you're looking for something more specific or nearby to the places I mentioned earlier, please let me know!\n"
     ]
    }
   ],
   "source": [
    "print(conversation.predict(input=msg_2))"
   ]
  },
  {
   "cell_type": "code",
   "execution_count": 30,
   "id": "405a0b3f",
   "metadata": {},
   "outputs": [
    {
     "name": "stdout",
     "output_type": "stream",
     "text": [
      "\n",
      "\n",
      "\u001b[1m> Entering new ConversationChain chain...\u001b[0m\n",
      "Prompt after formatting:\n",
      "\u001b[32;1m\u001b[1;3mThe following is a friendly conversation between a human and an AI. The AI is talkative and provides lots of specific details from its context. If the AI does not know the answer to a question, it truthfully says it does not know.\n",
      "\n",
      "Current conversation:\n",
      "Current summary:\n",
      "The AI suggests visiting three places in Egypt: The Pyramids of Giza, The Valley of the Kings, and Islamic Cairo.\n",
      "Human: Can I visit in winter?\n",
      "AI:\u001b[0m\n",
      "\n",
      "\u001b[1m> Finished chain.\u001b[0m\n",
      "Winter! That's a great time to visit Egypt. The winter months, from December to February, are actually considered the best time to visit Egypt. The weather is mild and pleasant, with average temperatures ranging from 12°C to 20°C (54°F to 68°F). This makes it ideal for sightseeing and exploring the country's many historical sites.\n",
      "\n",
      "In fact, the winter months see a significant decrease in humidity, which can make the desert climate more comfortable. Additionally, the cooler weather reduces the risk of heat exhaustion, making it easier for tourists to navigate the crowded streets and attractions.\n",
      "\n",
      "As for the specific places I suggested earlier, all three locations are year-round destinations and can be visited comfortably during winter. The Pyramids of Giza, being outdoor monuments, may require a bit more planning due to potential cooler temperatures, but Islamic Cairo and The Valley of the Kings are both well-ventilated and relatively warm indoors.\n",
      "\n",
      "So, if you're planning a trip to Egypt in winter, I think you'll have a wonderful time exploring these incredible destinations!\n"
     ]
    }
   ],
   "source": [
    "print(conversation.predict(input=msg_3))"
   ]
  },
  {
   "cell_type": "code",
   "execution_count": 31,
   "id": "98f5b8e4",
   "metadata": {},
   "outputs": [
    {
     "name": "stdout",
     "output_type": "stream",
     "text": [
      "\n",
      "\n",
      "\u001b[1m> Entering new ConversationChain chain...\u001b[0m\n",
      "Prompt after formatting:\n",
      "\u001b[32;1m\u001b[1;3mThe following is a friendly conversation between a human and an AI. The AI is talkative and provides lots of specific details from its context. If the AI does not know the answer to a question, it truthfully says it does not know.\n",
      "\n",
      "Current conversation:\n",
      "Here is the new summary:\n",
      "\n",
      "The AI suggests visiting three places in Egypt: The Pyramids of Giza, The Valley of the Kings, and Islamic Cairo. Winter is considered the best time to visit Egypt during this period, from December to February, with mild and pleasant weather, ranging from 12°C to 20°C (54°F to 68°F). This makes it ideal for sightseeing and exploring historical sites, as humidity decreases and the risk of heat exhaustion reduces, making it comfortable for tourists.\n",
      "Human: Can I visit in winter?\n",
      "AI:\u001b[0m\n",
      "\n",
      "\u001b[1m> Finished chain.\u001b[0m\n",
      "According to our records, yes, you can definitely visit Egypt during the winter season, which typically falls between December and February. During this period, the weather is quite pleasant, with temperatures ranging from 12°C to 20°C (54°F to 68°F). The humidity also decreases significantly, making it an excellent time to explore the historical sites without worrying about the heat or discomfort. It's considered one of the best times to visit Egypt, and I highly recommend it!\n",
      "----------\n",
      "Tokens Used: 0\n",
      "\tPrompt Tokens: 0\n",
      "\t\tPrompt Tokens Cached: 0\n",
      "\tCompletion Tokens: 0\n",
      "\t\tReasoning Tokens: 0\n",
      "Successful Requests: 0\n",
      "Total Cost (USD): $0.0\n"
     ]
    }
   ],
   "source": [
    "with get_openai_callback() as cb:\n",
    "    print(conversation.predict(input=msg_3))\n",
    "\n",
    "    print(\"-\" * 10)\n",
    "\n",
    "    print(cb)"
   ]
  },
  {
   "cell_type": "markdown",
   "id": "8b3e74b3",
   "metadata": {},
   "source": [
    "# Entities Memory\n"
   ]
  },
  {
   "cell_type": "code",
   "execution_count": 32,
   "id": "958fbc53",
   "metadata": {},
   "outputs": [],
   "source": [
    "from langchain.memory import ConversationEntityMemory\n",
    "from langchain.memory.prompt import ENTITY_MEMORY_CONVERSATION_TEMPLATE\n",
    "from langchain.chains import ConversationChain"
   ]
  },
  {
   "cell_type": "code",
   "execution_count": 33,
   "id": "711a7697",
   "metadata": {},
   "outputs": [
    {
     "name": "stderr",
     "output_type": "stream",
     "text": [
      "/tmp/ipykernel_26927/2510324403.py:3: LangChainDeprecationWarning: Please see the migration guide at: https://python.langchain.com/docs/versions/migrating_memory/\n",
      "  memory=ConversationEntityMemory(llm=llm),\n",
      "/home/mango/miniconda3/envs/ai_env/lib/python3.9/site-packages/pydantic/main.py:253: LangChainDeprecationWarning: Please see the migration guide at: https://python.langchain.com/docs/versions/migrating_memory/\n",
      "  validated_self = self.__pydantic_validator__.validate_python(data, self_instance=self)\n"
     ]
    }
   ],
   "source": [
    "conversation = ConversationChain(\n",
    "    llm=llm,\n",
    "    memory=ConversationEntityMemory(llm=llm),\n",
    "    prompt=ENTITY_MEMORY_CONVERSATION_TEMPLATE,\n",
    "    verbose=True,\n",
    ")"
   ]
  },
  {
   "cell_type": "code",
   "execution_count": 34,
   "id": "b951ee5a",
   "metadata": {},
   "outputs": [],
   "source": [
    "msg_1 = \"can you list 3 places in Egypt to visit?\"\n",
    "msg_2 = \"Which one has a lake view?\"\n",
    "msg_3 = \"Can I visit in winter?\""
   ]
  },
  {
   "cell_type": "code",
   "execution_count": 35,
   "id": "4fb757a4",
   "metadata": {},
   "outputs": [],
   "source": [
    "conversation.memory.clear()"
   ]
  },
  {
   "cell_type": "code",
   "execution_count": 36,
   "id": "05bb9045",
   "metadata": {},
   "outputs": [
    {
     "name": "stdout",
     "output_type": "stream",
     "text": [
      "\n",
      "\n",
      "\u001b[1m> Entering new ConversationChain chain...\u001b[0m\n",
      "Prompt after formatting:\n",
      "\u001b[32;1m\u001b[1;3mYou are an assistant to a human, powered by a large language model trained by OpenAI.\n",
      "\n",
      "You are designed to be able to assist with a wide range of tasks, from answering simple questions to providing in-depth explanations and discussions on a wide range of topics. As a language model, you are able to generate human-like text based on the input you receive, allowing you to engage in natural-sounding conversations and provide responses that are coherent and relevant to the topic at hand.\n",
      "\n",
      "You are constantly learning and improving, and your capabilities are constantly evolving. You are able to process and understand large amounts of text, and can use this knowledge to provide accurate and informative responses to a wide range of questions. You have access to some personalized information provided by the human in the Context section below. Additionally, you are able to generate your own text based on the input you receive, allowing you to engage in discussions and provide explanations and descriptions on a wide range of topics.\n",
      "\n",
      "Overall, you are a powerful tool that can help with a wide range of tasks and provide valuable insights and information on a wide range of topics. Whether the human needs help with a specific question or just wants to have a conversation about a particular topic, you are here to assist.\n",
      "\n",
      "Context:\n",
      "{'Based on the last line of conversation': '', 'the output is:\\n\\nEgypt': ''}\n",
      "\n",
      "Current conversation:\n",
      "\n",
      "Last line:\n",
      "Human: can you list 3 places in Egypt to visit?\n",
      "You:\u001b[0m\n",
      "\n",
      "\u001b[1m> Finished chain.\u001b[0m\n",
      "I'd be happy to help!\n",
      "\n",
      "There are countless amazing places to visit in Egypt, but here are three must-see destinations:\n",
      "\n",
      "1. **The Pyramids of Giza**: No trip to Egypt would be complete without visiting the iconic Pyramids of Giza, the last of the Seven Wonders of the Ancient World still standing. The largest pyramid, the Great Pyramid of Khufu, is an absolute marvel.\n",
      "2. **The Valley of the Kings**: Located on the west bank of the Nile River, the Valley of the Kings is a vast burial ground for pharaohs and nobles from ancient Egypt. With over 60 tombs to explore, you'll discover intricate hieroglyphics, colorful paintings, and fascinating history.\n",
      "3. **Abu Simbel**: This magnificent temple complex in southern Egypt was built by Ramses II around 1250 BCE. The site is famous for its massive rock-cut temples, which were carved out of the mountainside to honor the gods Amun and Ra. The temple's sheer scale and stunning architecture make it a breathtaking experience.\n",
      "\n",
      "These three destinations offer a great starting point for your Egyptian adventure! Would you like me to suggest more places or provide information on how to plan your trip?\n",
      "----------\n",
      "Tokens Used: 0\n",
      "\tPrompt Tokens: 0\n",
      "\t\tPrompt Tokens Cached: 0\n",
      "\tCompletion Tokens: 0\n",
      "\t\tReasoning Tokens: 0\n",
      "Successful Requests: 0\n",
      "Total Cost (USD): $0.0\n"
     ]
    }
   ],
   "source": [
    "with get_openai_callback() as cb:\n",
    "    print(conversation.predict(input=msg_1))\n",
    "\n",
    "    print(\"-\" * 10)\n",
    "\n",
    "    print(cb)"
   ]
  },
  {
   "cell_type": "code",
   "execution_count": 37,
   "id": "8c2eefa1",
   "metadata": {},
   "outputs": [
    {
     "name": "stdout",
     "output_type": "stream",
     "text": [
      "\n",
      "\n",
      "\u001b[1m> Entering new ConversationChain chain...\u001b[0m\n",
      "Prompt after formatting:\n",
      "\u001b[32;1m\u001b[1;3mYou are an assistant to a human, powered by a large language model trained by OpenAI.\n",
      "\n",
      "You are designed to be able to assist with a wide range of tasks, from answering simple questions to providing in-depth explanations and discussions on a wide range of topics. As a language model, you are able to generate human-like text based on the input you receive, allowing you to engage in natural-sounding conversations and provide responses that are coherent and relevant to the topic at hand.\n",
      "\n",
      "You are constantly learning and improving, and your capabilities are constantly evolving. You are able to process and understand large amounts of text, and can use this knowledge to provide accurate and informative responses to a wide range of questions. You have access to some personalized information provided by the human in the Context section below. Additionally, you are able to generate your own text based on the input you receive, allowing you to engage in discussions and provide explanations and descriptions on a wide range of topics.\n",
      "\n",
      "Overall, you are a powerful tool that can help with a wide range of tasks and provide valuable insights and information on a wide range of topics. Whether the human needs help with a specific question or just wants to have a conversation about a particular topic, you are here to assist.\n",
      "\n",
      "Context:\n",
      "{'Since there is no proper noun in the last line of conversation': '', 'the output would be:\\n\\nNONE': ''}\n",
      "\n",
      "Current conversation:\n",
      "Human: can you list 3 places in Egypt to visit?\n",
      "AI: I'd be happy to help!\n",
      "\n",
      "There are countless amazing places to visit in Egypt, but here are three must-see destinations:\n",
      "\n",
      "1. **The Pyramids of Giza**: No trip to Egypt would be complete without visiting the iconic Pyramids of Giza, the last of the Seven Wonders of the Ancient World still standing. The largest pyramid, the Great Pyramid of Khufu, is an absolute marvel.\n",
      "2. **The Valley of the Kings**: Located on the west bank of the Nile River, the Valley of the Kings is a vast burial ground for pharaohs and nobles from ancient Egypt. With over 60 tombs to explore, you'll discover intricate hieroglyphics, colorful paintings, and fascinating history.\n",
      "3. **Abu Simbel**: This magnificent temple complex in southern Egypt was built by Ramses II around 1250 BCE. The site is famous for its massive rock-cut temples, which were carved out of the mountainside to honor the gods Amun and Ra. The temple's sheer scale and stunning architecture make it a breathtaking experience.\n",
      "\n",
      "These three destinations offer a great starting point for your Egyptian adventure! Would you like me to suggest more places or provide information on how to plan your trip?\n",
      "Last line:\n",
      "Human: Which one has a lake view?\n",
      "You:\u001b[0m\n",
      "\n",
      "\u001b[1m> Finished chain.\u001b[0m\n",
      "Unfortunately, none of the three places I mentioned earlier have a direct lake view. The Pyramids of Giza are located in the desert, while the Valley of the Kings is situated near the Nile River, but not with a lake view. Abu Simbel temple complex is also situated in the desert, with no nearby lakes.\n",
      "\n",
      "If you're looking for a destination with a lake view in Egypt, I can suggest the Lake Nasser area, which is located at the Aswan High Dam. It's a beautiful spot with stunning views of the lake and surrounding landscape. Alternatively, you could visit the city of Marsa Alam, which has a picturesque lake and coastal scenery. Would you like me to provide more information on these destinations or help with planning your trip?\n",
      "----------\n",
      "Tokens Used: 0\n",
      "\tPrompt Tokens: 0\n",
      "\t\tPrompt Tokens Cached: 0\n",
      "\tCompletion Tokens: 0\n",
      "\t\tReasoning Tokens: 0\n",
      "Successful Requests: 0\n",
      "Total Cost (USD): $0.0\n"
     ]
    }
   ],
   "source": [
    "with get_openai_callback() as cb:\n",
    "    print(conversation.predict(input=msg_2))\n",
    "\n",
    "    print(\"-\" * 10)\n",
    "\n",
    "    print(cb)"
   ]
  },
  {
   "cell_type": "code",
   "execution_count": 38,
   "id": "6c93c48b",
   "metadata": {},
   "outputs": [
    {
     "name": "stdout",
     "output_type": "stream",
     "text": [
      "\n",
      "\n",
      "\u001b[1m> Entering new ConversationChain chain...\u001b[0m\n",
      "Prompt after formatting:\n",
      "\u001b[32;1m\u001b[1;3mYou are an assistant to a human, powered by a large language model trained by OpenAI.\n",
      "\n",
      "You are designed to be able to assist with a wide range of tasks, from answering simple questions to providing in-depth explanations and discussions on a wide range of topics. As a language model, you are able to generate human-like text based on the input you receive, allowing you to engage in natural-sounding conversations and provide responses that are coherent and relevant to the topic at hand.\n",
      "\n",
      "You are constantly learning and improving, and your capabilities are constantly evolving. You are able to process and understand large amounts of text, and can use this knowledge to provide accurate and informative responses to a wide range of questions. You have access to some personalized information provided by the human in the Context section below. Additionally, you are able to generate your own text based on the input you receive, allowing you to engage in discussions and provide explanations and descriptions on a wide range of topics.\n",
      "\n",
      "Overall, you are a powerful tool that can help with a wide range of tasks and provide valuable insights and information on a wide range of topics. Whether the human needs help with a specific question or just wants to have a conversation about a particular topic, you are here to assist.\n",
      "\n",
      "Context:\n",
      "{'Lake Nasser': '', 'Aswan High Dam': '', 'Marsa Alam': ''}\n",
      "\n",
      "Current conversation:\n",
      "Human: can you list 3 places in Egypt to visit?\n",
      "AI: I'd be happy to help!\n",
      "\n",
      "There are countless amazing places to visit in Egypt, but here are three must-see destinations:\n",
      "\n",
      "1. **The Pyramids of Giza**: No trip to Egypt would be complete without visiting the iconic Pyramids of Giza, the last of the Seven Wonders of the Ancient World still standing. The largest pyramid, the Great Pyramid of Khufu, is an absolute marvel.\n",
      "2. **The Valley of the Kings**: Located on the west bank of the Nile River, the Valley of the Kings is a vast burial ground for pharaohs and nobles from ancient Egypt. With over 60 tombs to explore, you'll discover intricate hieroglyphics, colorful paintings, and fascinating history.\n",
      "3. **Abu Simbel**: This magnificent temple complex in southern Egypt was built by Ramses II around 1250 BCE. The site is famous for its massive rock-cut temples, which were carved out of the mountainside to honor the gods Amun and Ra. The temple's sheer scale and stunning architecture make it a breathtaking experience.\n",
      "\n",
      "These three destinations offer a great starting point for your Egyptian adventure! Would you like me to suggest more places or provide information on how to plan your trip?\n",
      "Human: Which one has a lake view?\n",
      "AI: Unfortunately, none of the three places I mentioned earlier have a direct lake view. The Pyramids of Giza are located in the desert, while the Valley of the Kings is situated near the Nile River, but not with a lake view. Abu Simbel temple complex is also situated in the desert, with no nearby lakes.\n",
      "\n",
      "If you're looking for a destination with a lake view in Egypt, I can suggest the Lake Nasser area, which is located at the Aswan High Dam. It's a beautiful spot with stunning views of the lake and surrounding landscape. Alternatively, you could visit the city of Marsa Alam, which has a picturesque lake and coastal scenery. Would you like me to provide more information on these destinations or help with planning your trip?\n",
      "Last line:\n",
      "Human: Can I visit in winter?\n",
      "You:\u001b[0m\n",
      "\n",
      "\u001b[1m> Finished chain.\u001b[0m\n",
      "Winter is a great time to visit Egypt! The weather is generally mild, with average temperatures ranging from 12°C to 20°C (54°F to 68°F). This makes it an ideal time to explore the country's ancient sites and cities without the scorching heat of summer.\n",
      "\n",
      "In fact, winter is considered the best time to visit Abu Simbel temple complex, as the cooler weather makes it more comfortable to explore the site. Additionally, the winter months are also a great time for Nile cruises, as the temperatures are pleasant and the crowds are smaller compared to peak season.\n",
      "\n",
      "As for Lake Nasser and Marsa Alam, they can be visited year-round, but winter might be a better option if you prefer milder weather. The lake views will still be stunning, and the cooler weather will make it more comfortable to explore the surrounding areas.\n",
      "\n",
      "So, yes! Winter is an excellent time to visit Egypt, and I'd be happy to help you plan your trip during this period. Would you like me to suggest some winter-specific activities or provide more information on what to expect during this time?\n",
      "----------\n",
      "Tokens Used: 0\n",
      "\tPrompt Tokens: 0\n",
      "\t\tPrompt Tokens Cached: 0\n",
      "\tCompletion Tokens: 0\n",
      "\t\tReasoning Tokens: 0\n",
      "Successful Requests: 0\n",
      "Total Cost (USD): $0.0\n"
     ]
    }
   ],
   "source": [
    "with get_openai_callback() as cb:\n",
    "    print(conversation.predict(input=msg_3))\n",
    "\n",
    "    print(\"-\" * 10)\n",
    "\n",
    "    print(cb)"
   ]
  },
  {
   "cell_type": "markdown",
   "id": "ec5777e5",
   "metadata": {},
   "source": [
    "# Memory Types\n",
    "Take a Look : https://python.langchain.com/api_reference/langchain/memory.html"
   ]
  },
  {
   "cell_type": "markdown",
   "id": "003a14d8",
   "metadata": {},
   "source": [
    "# Memory Saving and Loading"
   ]
  },
  {
   "cell_type": "markdown",
   "id": "67f0d464",
   "metadata": {},
   "source": [
    "#### Save conversation-Memory"
   ]
  },
  {
   "cell_type": "code",
   "execution_count": null,
   "id": "56ea1a53",
   "metadata": {},
   "outputs": [],
   "source": [
    "from langchain.memory import ConversationSummaryMemory\n",
    "from langchain.schema import messages_to_dict, messages_from_dict\n",
    "from langchain.chains import ConversationChain\n",
    "import json\n",
    "\n",
    "conversation = ConversationChain(\n",
    "    llm = llm,\n",
    "    memory = ConversationSummaryMemory(llm=llm),\n",
    "    verbose = True\n",
    ")"
   ]
  },
  {
   "cell_type": "code",
   "execution_count": 69,
   "id": "11094a1a",
   "metadata": {},
   "outputs": [
    {
     "name": "stdout",
     "output_type": "stream",
     "text": [
      "\n",
      "\n",
      "\u001b[1m> Entering new ConversationChain chain...\u001b[0m\n",
      "Prompt after formatting:\n",
      "\u001b[32;1m\u001b[1;3mThe following is a friendly conversation between a human and an AI. The AI is talkative and provides lots of specific details from its context. If the AI does not know the answer to a question, it truthfully says it does not know.\n",
      "\n",
      "Current conversation:\n",
      "\n",
      "Human: can you list 3 places in Egypt to visit?\n",
      "AI:\u001b[0m\n",
      "\n",
      "\u001b[1m> Finished chain.\u001b[0m\n",
      "\n",
      "\n",
      "\u001b[1m> Entering new ConversationChain chain...\u001b[0m\n",
      "Prompt after formatting:\n",
      "\u001b[32;1m\u001b[1;3mThe following is a friendly conversation between a human and an AI. The AI is talkative and provides lots of specific details from its context. If the AI does not know the answer to a question, it truthfully says it does not know.\n",
      "\n",
      "Current conversation:\n",
      "Current summary: None (new conversation)\n",
      "\n",
      "New lines of conversation:\n",
      "\n",
      "Human: can you list 3 places in Egypt to visit?\n",
      "AI: I'd be happy to help you with that! Egypt is a country with a rich history and culture, and there are many fascinating places to visit. Here are three must-see destinations:\n",
      "\n",
      "1. The Pyramids of Giza: This is one of the most iconic attractions in Egypt, and it's definitely worth visiting. The pyramids were built around 2580 BC as tombs for the pharaohs, and they're an incredible feat of engineering. You can take a guided tour to learn more about the history and construction of the pyramids.\n",
      "2. The Valley of the Kings: Located on the west bank of the Nile River in Luxor, this is another important archaeological site that's worth visiting. The valley is home to the tombs of many pharaohs from ancient Egypt, including Tutankhamun. You can take a guided tour to learn more about the history and significance of each tomb.\n",
      "3. Islamic Cairo: This historic neighborhood in Cairo is filled with mosques, madrasas, and other Islamic monuments that date back to the Fatimid and Ottoman periods. Some popular attractions include the Mosque of Muhammad Ali, the Al-Azhar University, and the Khan el-Khalili market.\n",
      "\n",
      "I hope these suggestions are helpful!\n",
      "\n",
      "New summary: The AI provides recommendations for 3 places to visit in Egypt, including the Pyramids of Giza, the Valley of the Kings, and Islamic Cairo.\n",
      "Human: Which one has a lake view?\n",
      "AI:\u001b[0m\n",
      "\n",
      "\u001b[1m> Finished chain.\u001b[0m\n"
     ]
    }
   ],
   "source": [
    "message_1 = \"can you list 3 places in Egypt to visit?\"\n",
    "message_2 = \"Which one has a lake view?\"\n",
    "\n",
    "output_1 = conversation.predict(input = message_1)\n",
    "output_2 = conversation.predict(input = message_2)"
   ]
  },
  {
   "cell_type": "code",
   "execution_count": 70,
   "id": "f4ab084a",
   "metadata": {},
   "outputs": [
    {
     "data": {
      "text/plain": [
       "[HumanMessage(content='can you list 3 places in Egypt to visit?', additional_kwargs={}, response_metadata={}),\n",
       " AIMessage(content=\"I'd be happy to help you with that! Egypt is a country with a rich history and culture, and there are many fascinating places to visit. Here are three must-see destinations:\\n\\n1. The Pyramids of Giza: This is one of the most iconic attractions in Egypt, and it's definitely worth visiting. The pyramids were built around 2580 BC as tombs for the pharaohs, and they're an incredible feat of engineering. You can take a guided tour to learn more about the history and construction of the pyramids.\\n2. The Valley of the Kings: Located on the west bank of the Nile River in Luxor, this is another important archaeological site that's worth visiting. The valley is home to the tombs of many pharaohs from ancient Egypt, including Tutankhamun. You can take a guided tour to learn more about the history and significance of each tomb.\\n3. Islamic Cairo: This historic neighborhood in Cairo is filled with mosques, madrasas, and other Islamic monuments that date back to the Fatimid and Ottoman periods. Some popular attractions include the Mosque of Muhammad Ali, the Al-Azhar University, and the Khan el-Khalili market.\\n\\nI hope these suggestions are helpful!\", additional_kwargs={}, response_metadata={}),\n",
       " HumanMessage(content='Which one has a lake view?', additional_kwargs={}, response_metadata={}),\n",
       " AIMessage(content=\"None of the three places I mentioned earlier have a direct lake view. However, if you're interested in visiting a location with a lake view, I can suggest the Lake Nasser area. It's located near the Aswan High Dam and offers stunning views of Lake Nasser, which is a massive man-made lake created by the construction of the dam.\\n\\nUnfortunately, I don't have information on specific tourist attractions or must-see destinations in this area. But if you're interested in exploring the surrounding region, I can provide more general information about the area's history, culture, and natural beauty. Just let me know!\", additional_kwargs={}, response_metadata={})]"
      ]
     },
     "execution_count": 70,
     "metadata": {},
     "output_type": "execute_result"
    }
   ],
   "source": [
    "conversation.memory.chat_memory.messages"
   ]
  },
  {
   "cell_type": "code",
   "execution_count": 71,
   "id": "d5be8956",
   "metadata": {},
   "outputs": [],
   "source": [
    "dicts = messages_to_dict(conversation.memory.chat_memory.messages)\n",
    "\n",
    "with open (\"./conversation-memory.json\", 'w') as dest:\n",
    "    dest.write(json.dumps(dicts, ensure_ascii=False))"
   ]
  },
  {
   "cell_type": "markdown",
   "id": "a02983e1",
   "metadata": {},
   "source": [
    "#### Load Conversation-Memory"
   ]
  },
  {
   "cell_type": "code",
   "execution_count": 72,
   "id": "e489150d",
   "metadata": {},
   "outputs": [],
   "source": [
    "from langchain.memory import ChatMessageHistory\n",
    "\n",
    "with open (\"./conversation-memory.json\", 'r') as src:\n",
    "    saved_Conversation_memory = json.loads(src.read())\n",
    "    \n",
    "history = ChatMessageHistory()\n",
    "history.messages = messages_from_dict(saved_Conversation_memory)"
   ]
  },
  {
   "cell_type": "code",
   "execution_count": 74,
   "id": "934d8d4a",
   "metadata": {},
   "outputs": [],
   "source": [
    "memory = ConversationSummaryMemory(llm=llm)\n",
    "memory = memory.from_messages(chat_memory=history, llm=llm)\n",
    "\n",
    "conversation = ConversationChain(\n",
    "    llm = llm,\n",
    "    memory = memory,\n",
    "    verbose = True\n",
    ")"
   ]
  },
  {
   "cell_type": "code",
   "execution_count": 77,
   "id": "4be4be94",
   "metadata": {},
   "outputs": [
    {
     "name": "stdout",
     "output_type": "stream",
     "text": [
      "\n",
      "\n",
      "\u001b[1m> Entering new ConversationChain chain...\u001b[0m\n",
      "Prompt after formatting:\n",
      "\u001b[32;1m\u001b[1;3mThe following is a friendly conversation between a human and an AI. The AI is talkative and provides lots of specific details from its context. If the AI does not know the answer to a question, it truthfully says it does not know.\n",
      "\n",
      "Current conversation:\n",
      "The AI provides a list of three must-see destinations in Egypt: The Pyramids of Giza, The Valley of the Kings, and Islamic Cairo. Additionally, when asked which one has a lake view, the AI responds that none of those locations have a direct lake view, but suggests the Lake Nasser area for stunning views of Lake Nasser.\n",
      "Human: Can I visit in winter?\n",
      "AI:\u001b[0m\n",
      "\n",
      "\u001b[1m> Finished chain.\u001b[0m\n",
      "Winter! That's an excellent time to visit Egypt. The winters are generally mild and pleasant, with average temperatures ranging from 12°C (54°F) to 18°C (64°F). This makes it ideal for sightseeing and outdoor activities.\n",
      "\n",
      "As for the specific destinations I mentioned earlier, the Pyramids of Giza are open year-round, including winter. However, it's essential to note that some areas might be closed or have restricted access due to weather conditions. The Valley of the Kings is also accessible during winter, but you should be prepared for possible sandstorms or strong winds.\n",
      "\n",
      "Islamic Cairo is a great place to explore during winter, as the cooler temperatures make it more comfortable to walk around and admire the architecture. Some mosques and historical sites might have limited hours or be closed due to renovations, so it's always a good idea to check ahead of time.\n",
      "\n",
      "As for Lake Nasser, the area remains accessible year-round, but the best time to visit is during the winter months when the water levels are higher, offering more dramatic views. Keep in mind that some areas near the lake might be affected by strong winds or sandstorms, so it's crucial to check local weather forecasts and plan accordingly.\n",
      "\n",
      "Overall, winter is a great time to visit Egypt, and you can enjoy the sights without the scorching summer heat!\n"
     ]
    }
   ],
   "source": [
    "message_3 = \"Can I visit in winter?\"\n",
    "print(conversation.predict(input = message_3))"
   ]
  }
 ],
 "metadata": {
  "kernelspec": {
   "display_name": "ai_env",
   "language": "python",
   "name": "python3"
  },
  "language_info": {
   "codemirror_mode": {
    "name": "ipython",
    "version": 3
   },
   "file_extension": ".py",
   "mimetype": "text/x-python",
   "name": "python",
   "nbconvert_exporter": "python",
   "pygments_lexer": "ipython3",
   "version": "3.9.23"
  }
 },
 "nbformat": 4,
 "nbformat_minor": 5
}

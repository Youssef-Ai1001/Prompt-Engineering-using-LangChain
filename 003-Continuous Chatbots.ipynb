{
 "cells": [
  {
   "cell_type": "markdown",
   "id": "33e96a52",
   "metadata": {},
   "source": [
    "# Continuous Chatbots\n",
    "\n",
    "- System: Context or background information\n",
    "- Human: Message from the user\n",
    "- AI: Message from the LLM"
   ]
  },
  {
   "cell_type": "code",
   "execution_count": 27,
   "id": "3f012614",
   "metadata": {},
   "outputs": [],
   "source": [
    "from langchain_openai import ChatOpenAI\n",
    "from langchain_core.messages import HumanMessage, SystemMessage, AIMessage\n",
    "from dotenv import dotenv_values\n",
    "import os\n",
    "\n",
    "env_values = dotenv_values(\".env\")\n",
    "\n",
    "OPENAI_API_KEY = env_values[\"OPEN_ROUTER_API_KEY\"]\n",
    "OPENAI_API_BASE = env_values[\"OPENAI_API_BASE\"]\n",
    "MODEL_NAME = \"openai/gpt-5-mini\"             # openai/gpt-5-pro"
   ]
  },
  {
   "cell_type": "code",
   "execution_count": 28,
   "id": "bc484b45",
   "metadata": {},
   "outputs": [],
   "source": [
    "chat  = ChatOpenAI(\n",
    "    model=MODEL_NAME,\n",
    "    openai_api_key=OPENAI_API_KEY,\n",
    "    openai_api_base=OPENAI_API_BASE,\n",
    "    temperature = 0.5\n",
    ")"
   ]
  },
  {
   "cell_type": "code",
   "execution_count": 29,
   "id": "7bcf6199",
   "metadata": {},
   "outputs": [
    {
     "name": "stdout",
     "output_type": "stream",
     "text": [
      "ممتاز — هقولك خطة عملية وبسيطة تقدر تمشي عليها خطوة بخطوة علشان تتعلم البرمجة من الصفر بطريقة احترافية.\n",
      "\n",
      "1) اختار لغة بداية\n",
      "- لو عاوز سريع تتعلم مبادئ وتطبق على حاجات متنوعة: ابدأ بـ Python.\n",
      "- لو مهتم بتطوير ويب (واجهة مستخدم): ابدأ بـ JavaScript.\n",
      "اختر واحدة وركز عليها أول 3 شهور.\n",
      "\n",
      "2) فهم الأساسيات (الأول 1–2 شهر)\n",
      "- المتغيرات، الأنواع، الشروط (if)، الحلقات (for/while)، الدوال، القوائم/المصفوفات، القواميس/المعاجم، التعامل مع الملفات.\n",
      "- اتعلم كتابة كود واضح ومنسق.\n",
      "\n",
      "3) أدوات محترف من البداية\n",
      "- محرر كود: VS Code.\n",
      "- نظام إدارة الإصدارات: Git (تعلم commit وbranch وpush).\n",
      "- تشغيل الكود من الترمينال، وفهم الأخطاء (debugging).\n",
      "\n",
      "4) اتبع دورة منظمة + مصدر عملي\n",
      "- اختار مسار من مصدر واحد (مثل دورة تفاعلية أو كورس فيديو كامل) وكمّلها. أمثلة: CS50 أو FreeCodeCamp أو \"Automate the Boring Stuff\" لبايثون.\n",
      "- اقرأ التوثيق الرسمي عند الحاجة.\n",
      "\n",
      "5) طبق عملياً كل يوم\n",
      "- كل ما تتعلم مفهوم، اعمله مشروع صغير فوراً. (مثال: برنامج قائمة مهام، حاسبة، سكريبت ينظم ملفات).\n",
      "- قانون مهم: 70% تطبيق / 30% نظرية.\n",
      "\n",
      "6) مشاريع تصنعها بنفسك (الأشهر 2–6)\n",
      "- ابدأ بمشاريع بسيطة ثم زد التعقيد: موقع شخصي، API صغير، برنامج سطر أوامر، تحليل بيانات بسيط.\n",
      "- ضع المشاريع على GitHub واصنع صفحة بسيطة تعرضها (Portfolio).\n",
      "\n",
      "7) تعلّم مبادئ مهمة بعد الأساس (بعد 3 أشهر)\n",
      "- هياكل بيانات وخوارزميات أساسية (قوائم مرتبطة، أشجار، بحث، فرز).\n",
      "- مفاهيم برمجة كائنية (OOP).\n",
      "- اختبارات تلقائية (unit tests)، مبادئ كتابة كود نظيف (Clean Code).\n",
      "\n",
      "8) ممارسة حل المشاكل\n",
      "- اخصص وقت لحل مسائل على مواقع مثل HackerRank, LeetCode (للتحضير للمقابلات).\n",
      "- ابدأ بالمسائل السهلة ثم المتوسطة.\n",
      "\n",
      "9) تواصل وشارك\n",
      "- انضم لمجتمعات (GitHub, StackOverflow, منتديات عربية).\n",
      "- اعرض مشاريعك، اطلب ملاحظات، شارك في مشاريع مفتوحة المصدر لو تقدر.\n",
      "\n",
      "10) حافظ على الاستمرارية وتعلّم باستمرار\n",
      "- كل أسبوع اتعلم حاجة جديدة أو حسّن مشروعك.\n",
      "- اقرأ كود ناس تانية وتعلم أنماط تصميم.\n",
      "\n",
      "خطة زمنية مقترحة (إنكليزي لكن بسيطة):\n",
      "- 0–1 شهر: أساسيات اللغة + محرر + Git + مشروع بسيط.\n",
      "- 1–3 أشهر: مشاريع صغيرة متكررة + مبادئ OOP + نشر مشاريع على GitHub.\n",
      "- 3–6 أشهر: مشروع متوسط (مثلاً تطبيق ويب بسيط أو بوت) + هياكل بيانات وخوارزميات أساسية + البدء في حل مسائل.\n",
      "- 6–12 شهر: مشروع أكبر يتم استخدامه كمحفظة أعمال + التقدم في خوارزميات + التقديم على فرص تدريب/وظائف.\n",
      "\n",
      "روتين يومي مقترح (لو وقتك 2–3 ساعات يومياً)\n",
      "- 30–45 د: مراجعة/قراءة نظرية سريعة.\n",
      "- 60–90 د: كتابة كود وتطبيق عملي.\n",
      "- 20–30 د: حل مسألة صغيرة أو قراءة كود مفتوح.\n",
      "- نهاية الأسبوع: تحديث مشروع أو نشر شيء جديد.\n",
      "\n",
      "مصادر مفيدة\n",
      "- Python: Automate the Boring Stuff, Real Python, freeCodeCamp tutorials.\n",
      "- JavaScript: MDN Web Docs, Eloquent JavaScript, freeCodeCamp.\n",
      "- دورات: CS50 (Harvard), Coursera, Udemy (دورات عالية التقييم).\n",
      "- مواقع تمرين: freeCodeCamp, HackerRank, LeetCode، Codewars.\n",
      "\n",
      "نصائح مهمة قصيرة\n",
      "- ركّز على الفهم لا الحفظ.\n",
      "- اكسر المشكلة لمهام صغيرة.\n",
      "- ارفع مشاريعك على GitHub دائماً.\n",
      "- لا تخاف من طرح الأسئلة وطلب مراجعة كود.\n",
      "- الثبات أهم من السرعة — اتعلم كل يوم ولو ساعة.\n",
      "\n",
      "عايز خطة مخصصة؟ قلّي:\n",
      "- أنت مهتم بأي مجال (ويب، بيانات، جوال، أنظمة، غيره)؟\n",
      "- قد إيه تقدر تذاكر في الأسبوع (ساعات)؟\n",
      "أعملك جدول مفصل يناسبك.\n"
     ]
    }
   ],
   "source": [
    "system_msg = SystemMessage(\n",
    "    content=\"انت مهندس برمجيات محترف عليك ان تنصحني بشكل مبسط جدا\"\n",
    ")\n",
    "\n",
    "human_msg = HumanMessage(\n",
    "    content=\"انا عاوز طريقه احترافيه لتعلم البرمجه من الصفر. اعمل اي\"\n",
    ")\n",
    "\n",
    "response = chat.invoke([\n",
    "    system_msg,\n",
    "    human_msg\n",
    "])\n",
    "\n",
    "print(response.content)"
   ]
  }
 ],
 "metadata": {
  "kernelspec": {
   "display_name": "ai_env",
   "language": "python",
   "name": "python3"
  },
  "language_info": {
   "codemirror_mode": {
    "name": "ipython",
    "version": 3
   },
   "file_extension": ".py",
   "mimetype": "text/x-python",
   "name": "python",
   "nbconvert_exporter": "python",
   "pygments_lexer": "ipython3",
   "version": "3.9.23"
  }
 },
 "nbformat": 4,
 "nbformat_minor": 5
}

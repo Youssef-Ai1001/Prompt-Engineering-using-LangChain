{
 "cells": [
  {
   "cell_type": "markdown",
   "id": "887dd488",
   "metadata": {},
   "source": [
    "# Output Parser | Listing"
   ]
  },
  {
   "cell_type": "code",
   "execution_count": 1,
   "id": "0b17788d",
   "metadata": {},
   "outputs": [],
   "source": [
    "from langchain_openai import ChatOpenAI\n",
    "from langchain_core.prompts import PromptTemplate, FewShotPromptTemplate\n",
    "from langchain_core.output_parsers import CommaSeparatedListOutputParser\n",
    "from dotenv import dotenv_values\n",
    "\n",
    "env_values = dotenv_values(\".env\")\n",
    "\n",
    "OPENAI_API_KEY = env_values[\"OPEN_ROUTER_API_KEY\"]\n",
    "OPENAI_API_BASE = env_values[\"OPENAI_API_BASE\"]\n",
    "MODEL_NAME = \"openai/gpt-5-mini\"   "
   ]
  },
  {
   "cell_type": "code",
   "execution_count": 2,
   "id": "d11a21a1",
   "metadata": {},
   "outputs": [],
   "source": [
    "llm = ChatOpenAI(\n",
    "    model=MODEL_NAME,\n",
    "    openai_api_key=OPENAI_API_KEY,\n",
    "    openai_api_base = OPENAI_API_BASE,\n",
    "    temperature=0.7\n",
    ")"
   ]
  },
  {
   "cell_type": "code",
   "execution_count": 3,
   "id": "172de752",
   "metadata": {},
   "outputs": [
    {
     "name": "stdout",
     "output_type": "stream",
     "text": [
      "- Koshari (koshary) — a hearty street-food mix of rice, macaroni, lentils, chickpeas, spiced tomato sauce and fried onions.  \n",
      "- Ful medames — slow-cooked fava beans mashed or whole, typically served for breakfast with olive oil, lemon, cumin and bread.  \n",
      "- Molokhia (mulukhiyah) — a green jute-leaf stew flavored with garlic and coriander, usually served over rice or with bread and chicken or rabbit.\n"
     ]
    }
   ],
   "source": [
    "task = \"List three popular Egyptian plates.\"\n",
    "\n",
    "print(llm.invoke(task).content)"
   ]
  },
  {
   "cell_type": "code",
   "execution_count": 4,
   "id": "f0f4fbea",
   "metadata": {},
   "outputs": [],
   "source": [
    "output_parser = CommaSeparatedListOutputParser()\n",
    "format_instructions = output_parser.get_format_instructions()"
   ]
  },
  {
   "cell_type": "code",
   "execution_count": 5,
   "id": "64e99e29",
   "metadata": {},
   "outputs": [
    {
     "name": "stdout",
     "output_type": "stream",
     "text": [
      "List three popular Egyptian plates.\n",
      "Your response should be a list of comma separated values, eg: `foo, bar, baz` or `foo,bar,baz`\n"
     ]
    }
   ],
   "source": [
    "prompt = PromptTemplate(\n",
    "    template= \"List three popular {type} plates.\\n{format_instructions}\",\n",
    "    input_variables=['type'],\n",
    "    partial_variables={\"format_instructions\" : format_instructions}\n",
    ")\n",
    "\n",
    "demo_msg = prompt.format(type = 'Egyptian')\n",
    "print(demo_msg)"
   ]
  },
  {
   "cell_type": "code",
   "execution_count": 6,
   "id": "6ddcbcb1",
   "metadata": {},
   "outputs": [
    {
     "name": "stdout",
     "output_type": "stream",
     "text": [
      "Koshari, Ful medames, Molokhia\n"
     ]
    }
   ],
   "source": [
    "print(llm.invoke(demo_msg).content)"
   ]
  },
  {
   "cell_type": "code",
   "execution_count": 7,
   "id": "7748af60",
   "metadata": {},
   "outputs": [
    {
     "data": {
      "text/plain": [
       "['Koshary', 'Ful medames', 'Molokhia']"
      ]
     },
     "execution_count": 7,
     "metadata": {},
     "output_type": "execute_result"
    }
   ],
   "source": [
    "response = llm.invoke(demo_msg).content\n",
    "output = output_parser.parse(response)\n",
    "output"
   ]
  },
  {
   "cell_type": "markdown",
   "id": "a25a50dc",
   "metadata": {},
   "source": [
    "# Custom Output Parser | Listing "
   ]
  },
  {
   "cell_type": "code",
   "execution_count": 8,
   "id": "9b54be12",
   "metadata": {},
   "outputs": [
    {
     "name": "stdout",
     "output_type": "stream",
     "text": [
      "26/2/1946\n"
     ]
    }
   ],
   "source": [
    "format_instruction = \"Replay with a datetime format Day/Month/Year like '12/2/2004'.\"\n",
    "\n",
    "prompt = PromptTemplate(\n",
    "    template= \"when was {person} born\\n{format_instruction}\",\n",
    "    input_variables=['person','format_instruction']\n",
    ")\n",
    "\n",
    "message = prompt.format(person = \"Ahmed Zewail\", format_instruction = format_instruction)\n",
    "\n",
    "print(llm.invoke(message).content)"
   ]
  },
  {
   "cell_type": "markdown",
   "id": "8e5dd826",
   "metadata": {},
   "source": [
    "# PyDantic Magic Parser | Listing"
   ]
  },
  {
   "cell_type": "code",
   "execution_count": null,
   "id": "6e2bb439",
   "metadata": {},
   "outputs": [
    {
     "name": "stdout",
     "output_type": "stream",
     "text": [
      "{\n",
      "  \"plate_name\": \"Shawerma\",\n",
      "  \"ingredients\": [\n",
      "    \"marinated sliced chicken (or beef/lamb)\",\n",
      "    \"pita bread or flatbread\",\n",
      "    \"toum (garlic sauce) or tahini\",\n",
      "    \"tomatoes\",\n",
      "    \"cucumbers\",\n",
      "    \"pickles (cucumber or turnip)\",\n",
      "    \"lettuce\",\n",
      "    \"onions\",\n",
      "    \"shawarma spice mix (paprika, cumin, coriander, turmeric)\",\n",
      "    \"olive oil\",\n",
      "    \"lemon juice\"\n",
      "  ]\n",
      "}\n"
     ]
    }
   ],
   "source": [
    "from pydantic import BaseModel, Field\n",
    "from typing import List\n",
    "from langchain_core.output_parsers import PydanticOutputParser\n",
    "from langchain_core.prompts import PromptTemplate\n",
    "\n",
    "class Plate(BaseModel):\n",
    "    plate_name: str = Field(description='name of the plate')\n",
    "    ingredients: List[str] = Field(description='list of names of the ingredients')\n",
    "    \n",
    "parser = PydanticOutputParser(pydantic_object=Plate)\n",
    "\n",
    "format_instruction = parser.get_format_instructions()\n",
    "\n",
    "prompt = PromptTemplate(\n",
    "    template= 'Answer the query.\\n{plate_name}\\n{format_instruction}', \n",
    "    input_variables=['plate_name'],\n",
    "    partial_variables={'format_instruction' : format_instruction}\n",
    ")\n",
    "\n",
    "plate_name = 'Shawerma'\n",
    "\n",
    "msg = prompt.format_prompt(plate_name = plate_name)\n",
    "\n",
    "print(llm.invoke(msg).content)"
   ]
  },
  {
   "cell_type": "code",
   "execution_count": 14,
   "id": "21c0af3e",
   "metadata": {},
   "outputs": [
    {
     "name": "stdout",
     "output_type": "stream",
     "text": [
      "{\n",
      "  \"plate_name\": \"كفته داوود\",\n",
      "  \"ingredients\": [\n",
      "    \"لحم مفروم (بقري أو غنم)\",\n",
      "    \"بصل مفرور\",\n",
      "    \"ثوم مفروم\",\n",
      "    \"بقدونس مفروم\",\n",
      "    \"بيضة\",\n",
      "    \"فتات خبز (بقسماط) أو خبز مبلل ومعصور\",\n",
      "    \"ملح\",\n",
      "    \"فلفل أسود\",\n",
      "    \"بهارات مشكلة (مثل قرفة أو بهار حلو أو كمون)\",\n",
      "    \"زيت نباتي أو زيت زيتون\",\n",
      "    \"طماطم مفرومة أو صلصة طماطم\",\n",
      "    \"معجون طماطم\",\n",
      "    \"ماء أو مرق\",\n",
      "    \"سكر قليل (لموازنة حموضة الطماطم)\",\n",
      "    \"عصير ليمون أو خل (اختياري)\",\n",
      "    \"بطاطس مقطعة أو مطبوخة (اختياري)\"\n",
      "  ]\n",
      "}\n"
     ]
    }
   ],
   "source": [
    "plate_name = 'كفته داوود'\n",
    "\n",
    "msg = prompt.format_prompt(plate_name = plate_name)\n",
    "\n",
    "print(llm.invoke(msg).content)"
   ]
  }
 ],
 "metadata": {
  "kernelspec": {
   "display_name": "ai_env",
   "language": "python",
   "name": "python3"
  },
  "language_info": {
   "codemirror_mode": {
    "name": "ipython",
    "version": 3
   },
   "file_extension": ".py",
   "mimetype": "text/x-python",
   "name": "python",
   "nbconvert_exporter": "python",
   "pygments_lexer": "ipython3",
   "version": "3.9.23"
  }
 },
 "nbformat": 4,
 "nbformat_minor": 5
}

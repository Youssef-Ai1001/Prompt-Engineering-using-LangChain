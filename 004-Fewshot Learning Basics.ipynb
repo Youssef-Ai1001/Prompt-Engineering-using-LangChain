{
 "cells": [
  {
   "cell_type": "code",
   "execution_count": 48,
   "id": "16911a1d",
   "metadata": {},
   "outputs": [],
   "source": [
    "from langchain_openai import ChatOpenAI\n",
    "from langchain_core.prompts import PromptTemplate, FewShotPromptTemplate\n",
    "from dotenv import dotenv_values\n",
    "\n",
    "env_values = dotenv_values(\".env\")\n",
    "\n",
    "OPENAI_API_KEY = env_values[\"OPEN_ROUTER_API_KEY\"]\n",
    "OPENAI_API_BASE = env_values[\"OPENAI_API_BASE\"]\n",
    "MODEL_NAME = \"openai/gpt-5-mini\"             "
   ]
  },
  {
   "cell_type": "code",
   "execution_count": 49,
   "id": "64ce84fa",
   "metadata": {},
   "outputs": [],
   "source": [
    "llm  = ChatOpenAI(\n",
    "    model=MODEL_NAME,\n",
    "    openai_api_key=OPENAI_API_KEY,\n",
    "    openai_api_base=OPENAI_API_BASE,\n",
    "    temperature = 0.5\n",
    ")"
   ]
  },
  {
   "cell_type": "markdown",
   "id": "e41909b3",
   "metadata": {},
   "source": [
    "# Fewshot Learning Basics"
   ]
  },
  {
   "cell_type": "code",
   "execution_count": 6,
   "id": "d6f56b09",
   "metadata": {},
   "outputs": [
    {
     "data": {
      "text/plain": [
       "'Cairo'"
      ]
     },
     "execution_count": 6,
     "metadata": {},
     "output_type": "execute_result"
    }
   ],
   "source": [
    "demo_msg = \"Type the capital of Egypt\"\n",
    "\n",
    "llm.invoke(demo_msg).content"
   ]
  },
  {
   "cell_type": "code",
   "execution_count": null,
   "id": "252d2e5c",
   "metadata": {},
   "outputs": [
    {
     "name": "stdout",
     "output_type": "stream",
     "text": [
      "Country Name: Canada | Capital Name: Ottawa\n"
     ]
    }
   ],
   "source": [
    "demo_msg = \"\"\"\n",
    "Country Name: Egypt | Capital Name: Cairo\n",
    "Country Name: France | Capital Name: Paris\n",
    "Country Name: Spain | Capital Name: Madrid\n",
    "Country Name: Canada | \n",
    "\"\"\".strip()\n",
    "\n",
    "print(llm.invoke(demo_msg).content)"
   ]
  },
  {
   "cell_type": "code",
   "execution_count": 11,
   "id": "48437090",
   "metadata": {},
   "outputs": [],
   "source": [
    "demo_temp = PromptTemplate(\n",
    "    template= \"Country Name: {country} | Capital Name: {capital}\", \n",
    "    input_variables=[\"country\",\"capital\"] , \n",
    ")\n",
    "\n",
    "examples = [\n",
    "    {\"country\": \"Egypt\", \"capital\": \"Cairo\"},\n",
    "    {\"country\": \"France\", \"capital\": \"Paris\"},\n",
    "    {\"country\": \"Spain\", \"capital\": \"Madrid\"},\n",
    "    {\"country\": \"Canada\", \"capital\": \"Ottawa\"}\n",
    "]\n",
    "\n",
    "prompt = FewShotPromptTemplate(\n",
    "    example_prompt = demo_temp,\n",
    "    examples = examples,\n",
    "    suffix = \"Country Name: {country} |\",\n",
    "    input_variables = ['country'],\n",
    "    \n",
    ")"
   ]
  },
  {
   "cell_type": "code",
   "execution_count": 12,
   "id": "55d53f72",
   "metadata": {},
   "outputs": [],
   "source": [
    "user_country = \"sudan\"\n",
    "\n",
    "message = prompt.format(country = user_country)"
   ]
  },
  {
   "cell_type": "code",
   "execution_count": 14,
   "id": "31114a01",
   "metadata": {},
   "outputs": [
    {
     "name": "stdout",
     "output_type": "stream",
     "text": [
      "Country Name: Egypt | Capital Name: Cairo\n",
      "\n",
      "Country Name: France | Capital Name: Paris\n",
      "\n",
      "Country Name: Spain | Capital Name: Madrid\n",
      "\n",
      "Country Name: Canada | Capital Name: Ottawa\n",
      "\n",
      "Country Name: sudan |\n"
     ]
    }
   ],
   "source": [
    "print(message)"
   ]
  },
  {
   "cell_type": "code",
   "execution_count": 15,
   "id": "6431c4cd",
   "metadata": {},
   "outputs": [
    {
     "name": "stdout",
     "output_type": "stream",
     "text": [
      "Country Name: sudan | Capital Name: Khartoum\n"
     ]
    }
   ],
   "source": [
    "print(llm.invoke(message).content)"
   ]
  },
  {
   "cell_type": "markdown",
   "id": "5a2b6560",
   "metadata": {},
   "source": [
    "# Solving Riddles using Few Shot"
   ]
  },
  {
   "cell_type": "code",
   "execution_count": null,
   "id": "cb4a3d20",
   "metadata": {},
   "outputs": [],
   "source": [
    "riddles_prompt_1 = \"What three numbers give the same result when multiplied and added together?\"  # 1, 2, and 3 (1 + 2 + 3 = 6 and 1 x 2 x 3 = 6)\n",
    "riddles_prompt_2 = \"I am an odd number. Take away a letter and I become even. What number am I?\"   # Seven\n",
    "riddles_prompt_3 = \"If a zookeeper had 100 pairs of animals in her zoo, and two pairs of babies are born for each one of the original animals, then (sadly) 23 animals don’t survive, how many animals do you have left in total?\"   #  977 animals (100 x 2 = 200; 200 + 800 = 1000; 1000 – 23 = 977)\n",
    "riddles_prompt_4 = \"What is 3/7 chicken, 2/3 cat, and 2/4 goat?\"   # Chicago\n",
    "riddles_prompt_5 = \"What two keys can’t open any door?\"     # A monkey and a donkey.\n",
    "riddles_prompt_6 = \"I add 5 to 9 and get 2. The answer is correct, but how?\"        # When it is 9 a.m., adding 5 hours makes it 2 p.m.\n",
    "riddles_prompt_7 = \"انا معايا خمسه برتقالات ومجموع الي مع اخويا واختي ثلاثه اضعاف الي معايا زائد 35\"     # 50"
   ]
  },
  {
   "cell_type": "code",
   "execution_count": 50,
   "id": "f5183e82",
   "metadata": {},
   "outputs": [
    {
     "data": {
      "text/plain": [
       "'1, 2, and 3.\\n\\n1 + 2 + 3 = 6 and 1 × 2 × 3 = 6.\\n\\n(Also the trivial solution 0, 0, 0 works: 0+0+0 = 0 and 0×0×0 = 0.)'"
      ]
     },
     "execution_count": 50,
     "metadata": {},
     "output_type": "execute_result"
    }
   ],
   "source": [
    "llm.invoke(riddles_prompt_1).content"
   ]
  },
  {
   "cell_type": "code",
   "execution_count": null,
   "id": "ab690811",
   "metadata": {},
   "outputs": [
    {
     "data": {
      "text/plain": [
       "'Seven — it\\'s an odd number, and if you take away the letter \"s\" from \"seven\" you get \"even.\"'"
      ]
     },
     "execution_count": 19,
     "metadata": {},
     "output_type": "execute_result"
    }
   ],
   "source": [
    "llm.invoke(riddles_prompt_2).content"
   ]
  },
  {
   "cell_type": "code",
   "execution_count": null,
   "id": "9d80f3f1",
   "metadata": {},
   "outputs": [
    {
     "data": {
      "text/plain": [
       "'100 pairs = 200 original animals.\\nEach original animal has 2 pairs = 4 babies → 200 × 4 = 800 babies.\\nTotal before deaths = 200 + 800 = 1000.\\nAfter 23 die: 1000 − 23 = 977 animals left.'"
      ]
     },
     "execution_count": 20,
     "metadata": {},
     "output_type": "execute_result"
    }
   ],
   "source": [
    "llm.invoke(riddles_prompt_3).content"
   ]
  },
  {
   "cell_type": "code",
   "execution_count": null,
   "id": "310ad1eb",
   "metadata": {},
   "outputs": [
    {
     "data": {
      "text/plain": [
       "'Chicago.\\n\\nExplanation: 3/7 of \"chicken\" = \"chi\", 2/3 of \"cat\" = \"ca\", and 2/4 of \"goat\" = \"go\" → chi + ca + go = Chicago.'"
      ]
     },
     "execution_count": 36,
     "metadata": {},
     "output_type": "execute_result"
    }
   ],
   "source": [
    "llm.invoke(riddles_prompt_4).content"
   ]
  },
  {
   "cell_type": "code",
   "execution_count": 39,
   "id": "3903f6b8",
   "metadata": {},
   "outputs": [
    {
     "data": {
      "text/plain": [
       "'A monkey and a donkey.'"
      ]
     },
     "execution_count": 39,
     "metadata": {},
     "output_type": "execute_result"
    }
   ],
   "source": [
    "llm.invoke(riddles_prompt_5).content"
   ]
  },
  {
   "cell_type": "code",
   "execution_count": 42,
   "id": "7ea85f0a",
   "metadata": {},
   "outputs": [
    {
     "data": {
      "text/plain": [
       "\"You're working on a 12-hour clock. Adding 5 hours to 9 o'clock gives 14:00, which is 2 o'clock. In modular arithmetic: 9 + 5 ≡ 2 (mod 12).\""
      ]
     },
     "execution_count": 42,
     "metadata": {},
     "output_type": "execute_result"
    }
   ],
   "source": [
    "llm.invoke(riddles_prompt_6).content"
   ]
  },
  {
   "cell_type": "code",
   "execution_count": 55,
   "id": "00b9f5d6",
   "metadata": {},
   "outputs": [
    {
     "data": {
      "text/plain": [
       "'المعطى: أنت معاك 5 برتقالات.  \\nالمطلوب: مجموع ما مع أخوك وأختك = 3 أضعاف ما معاك + 35.\\n\\nالحساب: 3 × 5 + 35 = 15 + 35 = 50.\\n\\nإذن مجموع ما مع الأخ والأخت = 50 برتقالة.  \\nلو عايز تعرف كم لكل واحد بالتحديد فمحتاجين معلومة إضافية (مثلاً لو تقسموا بالتساوي يكون كل واحد 25).'"
      ]
     },
     "execution_count": 55,
     "metadata": {},
     "output_type": "execute_result"
    }
   ],
   "source": [
    "llm.invoke(riddles_prompt_7).content"
   ]
  },
  {
   "cell_type": "markdown",
   "id": "bc37f890",
   "metadata": {},
   "source": [
    "---"
   ]
  },
  {
   "cell_type": "markdown",
   "id": "53605508",
   "metadata": {},
   "source": [
    "                 اللغز الأول: (اللعب بالمنطق والسياق الضمني) 🧠 \n",
    "\n",
    "      هذا اللغز يعتمد على أن النموذج قد لا يستطيع ربط سياق عمل إنساني محدد (الحلاقة) بسياق رياضي (قطع مسافات).\n",
    "\n",
    "- اللغز:\n",
    "\n",
    "       \"أنا أحلق كل يوم، ولا ينمو لي لحية. لكنني كلما حلقت، أقطع مسافة تزيد عن خمسين كيلومتراً. فمن أنا؟\"\n",
    "\n",
    "- نقطة الصعوبة للموديل:\n",
    "1.     المغالطة المنطقية: الربط بين فعل \"الحلاقة\" (الشخصية) و \"قطع المسافة\" (المركبة).\n",
    "\n",
    "2.     الإجابة النموذجية (التي سيعطيها النموذج على الأرجح): سيحاول النموذج البحث عن شخص يحلق شعره أو ذقنه ويقطع مسافات (مثل حلاق يسافر، أو رياضي)، ولن يتوقع الإجابة الصحيحة.\n",
    "\n",
    "- الإجابة الصحيحة (للاستخدام في الـ Few Shot):\n",
    "\n",
    "        \"سائق سيارة أجرة (تاكسي).\"\n",
    "        (لأنه \"يحلق\" زبائنه (ينقلهم)، وفي كل نقلة يقطع مسافة طويلة)."
   ]
  },
  {
   "cell_type": "code",
   "execution_count": 56,
   "id": "c22ca210",
   "metadata": {},
   "outputs": [],
   "source": [
    "riddles_prompt_8 = \"أنا أحلق كل يوم، ولا ينمو لي لحية. لكنني كلما حلقت، أقطع مسافة تزيد عن خمسين كيلومتراً. فمن أنا؟\""
   ]
  },
  {
   "cell_type": "code",
   "execution_count": 57,
   "id": "d00e7157",
   "metadata": {},
   "outputs": [
    {
     "data": {
      "text/plain": [
       "'الإجابة: الطائرة.\\n\\nتلاعب بالكلمة: \"أَحْلِق\" تُكتب هكذا دون حركات في الجملة فتُفهم على أنها \"أحلق\" بمعنى أحلق لحيتي، لكنها هنا تعني \"أحلّق\" أي أطير. الطائرة تطير يومياً ولا تنمو لها لحية، وكل رحلة لها عادة تزيد عن 50 كيلومتراً.'"
      ]
     },
     "execution_count": 57,
     "metadata": {},
     "output_type": "execute_result"
    }
   ],
   "source": [
    "llm.invoke(riddles_prompt_8).content"
   ]
  },
  {
   "cell_type": "markdown",
   "id": "1d7bde75",
   "metadata": {},
   "source": [
    "---"
   ]
  },
  {
   "cell_type": "markdown",
   "id": "4d525845",
   "metadata": {},
   "source": [
    "        (Riddle in English: Ambiguity and Context Shift)   \n",
    "This riddle plays on the dual meaning of common words (break, run) and shifts the context from an event to a physical object.\n",
    "\n",
    "- The Riddle:\n",
    "\n",
    "        \"I can break without falling, and run without legs. I have no voice, but my ringing is often the start of a fight. What am I?\"\n",
    "\n",
    "- Difficulty Point for the LLM:\n",
    "1.    Ambiguity: The model will struggle to reconcile \"break without falling\" (e.g., a rule) with \"ringing\" (a physical sound).\n",
    "\n",
    "2.    Misdirection: It uses the common pattern of time/shadow riddles, which might mislead the AI. The AI may try to answer with Time, Silence, or Shadow before getting the correct physical object.\n",
    "\n",
    "- The Correct Answer (for use in Few-Shot):\n",
    "\n",
    "        \"A Bell.\"\n",
    "(It breaks the silence, it runs when struck repeatedly, it has no voice but it rings often to signal the start of a boxing match or a fire)."
   ]
  },
  {
   "cell_type": "code",
   "execution_count": 58,
   "id": "d6d837c0",
   "metadata": {},
   "outputs": [],
   "source": [
    "riddles_prompt_9 = \"I can break without falling, and run without legs. I have no voice, but my ringing is often the start of a fight. What am I?\""
   ]
  },
  {
   "cell_type": "code",
   "execution_count": 59,
   "id": "ed8d3426",
   "metadata": {},
   "outputs": [
    {
     "data": {
      "text/plain": [
       "'Silence.\\n\\nExplanation: Silence can be \"broken\" (break the silence) and can \"run\" (as in \"a silence ran through the room\"). It has no voice, yet when it is broken by a ringing (for example a bell), that ringing often signals the start of a fight (e.g. the bell at the start of a boxing match).'"
      ]
     },
     "execution_count": 59,
     "metadata": {},
     "output_type": "execute_result"
    }
   ],
   "source": [
    "llm.invoke(riddles_prompt_9).content"
   ]
  },
  {
   "cell_type": "code",
   "execution_count": 71,
   "id": "48512fec",
   "metadata": {},
   "outputs": [],
   "source": [
    "examples = [\n",
    "    {\n",
    "        \"riddle\": \"I have cities, but no houses. I have mountains, but no trees. I have water, but no fish. What am I?\",\n",
    "        \"answer\": \"A Map.\"\n",
    "    },\n",
    "    {\n",
    "        \"riddle\": \"What is something that is always coming, but never arrives?\",\n",
    "        \"answer\": \"Tomorrow.\" \n",
    "    }\n",
    "]"
   ]
  },
  {
   "cell_type": "code",
   "execution_count": 75,
   "id": "11bded4d",
   "metadata": {},
   "outputs": [],
   "source": [
    "new_riddle = \"I can break without falling, and run without legs. I have no voice, but my ringing is often the start of a fight. What am I?\"\n",
    "\n",
    "demo_temp = PromptTemplate(\n",
    "    template=\"Riddle: {riddle}\\nAnswer: {answer}\",\n",
    "    input_variables=[\"riddle\", \"answer\"]\n",
    ")\n",
    "\n",
    "prompt = FewShotPromptTemplate(\n",
    "    example_prompt = demo_temp,\n",
    "    examples=examples,\n",
    "    suffix=\"Riddle: {riddle_to_solve}\\n\",\n",
    "    input_variables = ['riddle_to_solve']\n",
    ")\n",
    "\n",
    "msg = prompt.format(riddle_to_solve = new_riddle)"
   ]
  },
  {
   "cell_type": "code",
   "execution_count": 76,
   "id": "3926b523",
   "metadata": {},
   "outputs": [
    {
     "name": "stdout",
     "output_type": "stream",
     "text": [
      "Riddle: I have cities, but no houses. I have mountains, but no trees. I have water, but no fish. What am I?\n",
      "Answer: A Map.\n",
      "\n",
      "Riddle: What is something that is always coming, but never arrives?\n",
      "Answer: Tomorrow.\n",
      "\n",
      "Riddle: I can break without falling, and run without legs. I have no voice, but my ringing is often the start of a fight. What am I?\n",
      "\n"
     ]
    }
   ],
   "source": [
    "print(msg)"
   ]
  },
  {
   "cell_type": "code",
   "execution_count": 65,
   "id": "700e69ce",
   "metadata": {},
   "outputs": [
    {
     "name": "stdout",
     "output_type": "stream",
     "text": [
      "content='Answer: A bell.\\n\\nExplanation: a bell \"breaks\" the silence (without falling), its sound \"runs\" through the air (no legs), and its ringing often signals the start of a fight (e.g., the boxing bell).' additional_kwargs={'refusal': None} response_metadata={'token_usage': {'completion_tokens': 3575, 'prompt_tokens': 98, 'total_tokens': 3673, 'completion_tokens_details': None, 'prompt_tokens_details': None}, 'model_name': 'openai/gpt-5-mini', 'system_fingerprint': None, 'id': 'gen-1760215680-VtwaCYEU2t0kVvmlHgEH', 'service_tier': None, 'finish_reason': 'stop', 'logprobs': None} id='run--609096ed-63d9-45a9-9ed3-1205e7b47fb7-0' usage_metadata={'input_tokens': 98, 'output_tokens': 3575, 'total_tokens': 3673, 'input_token_details': {}, 'output_token_details': {}}\n"
     ]
    }
   ],
   "source": [
    "print(llm.invoke(msg))"
   ]
  },
  {
   "cell_type": "markdown",
   "id": "401c244c",
   "metadata": {},
   "source": [
    "# Fewshot | Recipes Project (Generate Reciepes)"
   ]
  },
  {
   "cell_type": "code",
   "execution_count": 77,
   "id": "2396195a",
   "metadata": {},
   "outputs": [],
   "source": [
    "from langchain.prompts.few_shot import FewShotPromptTemplate\n",
    "from langchain.prompts.prompt import PromptTemplate"
   ]
  },
  {
   "cell_type": "code",
   "execution_count": 88,
   "id": "288aa7c1",
   "metadata": {},
   "outputs": [],
   "source": [
    "examples = [\n",
    "    {\n",
    "        \"recipe\": \"الكشري\",\n",
    "        \"ingredients\": \"\\n\".join([\n",
    "            'مكرونة',\n",
    "            'أرز',\n",
    "            'عدس بجبة',\n",
    "            'حمص',\n",
    "            'شعرية',\n",
    "            'بصل مقلي',\n",
    "            'صلصة طماطم بالخل والثوم'\n",
    "        ])\n",
    "    },\n",
    "    {\n",
    "        \"recipe\": \"المحشي (ورق عنب)\",\n",
    "        \"ingredients\": \"\\n\".join([\n",
    "            'ورق عنب',\n",
    "            'أرز مصري',\n",
    "            'شبت',\n",
    "            'بقدونس',\n",
    "            'كزبرة خضراء',\n",
    "            'طماطم',\n",
    "            'بصل',\n",
    "            'بهارات'\n",
    "        ])        \n",
    "    },\n",
    "    {\n",
    "        \"recipe\": \"الطعمية (الفلافل المصرية)\",\n",
    "        \"ingredients\": \"\\n\".join([\n",
    "            'فول مدشوش (مقشر ومجروش)',\n",
    "            'كزبرة خضراء',\n",
    "            'شبت',\n",
    "            'كرات (بصل أخضر)',\n",
    "            'بصل',\n",
    "            'ثوم',\n",
    "            'كمون',\n",
    "            'ملح'\n",
    "        ])\n",
    "    },\n",
    "    {\n",
    "        \"recipe\": \"البامية الويكا\",\n",
    "        \"ingredients\": \"\\n\".join([\n",
    "            'بامية خضراء (مقطعة شرائح)',\n",
    "            'مرقة لحم أو دجاج',\n",
    "            'ثوم',\n",
    "            'كزبرة ناشفة',\n",
    "            'سمن بلدي'\n",
    "        ])\n",
    "    }\n",
    "]"
   ]
  },
  {
   "cell_type": "code",
   "execution_count": 89,
   "id": "7d39ddfb",
   "metadata": {},
   "outputs": [],
   "source": [
    "new_recipe = \"فتة اللحم\"\n",
    "\n",
    "demo_temp = PromptTemplate(\n",
    "    template=\"الوصفة: {recipe}\\nالمكونات: {ingredients}\",\n",
    "    input_variables=[\"recipe\", \"ingredients\"]\n",
    ")\n",
    "\n",
    "prompt = FewShotPromptTemplate(\n",
    "    example_prompt = demo_temp,\n",
    "    examples=examples,\n",
    "    suffix=\"الوصفة: {recipe}\\n\",\n",
    "    input_variables = ['recipe']\n",
    ")\n",
    "\n",
    "msg = prompt.format(recipe = new_recipe)"
   ]
  },
  {
   "cell_type": "code",
   "execution_count": 90,
   "id": "345e63c1",
   "metadata": {},
   "outputs": [
    {
     "name": "stdout",
     "output_type": "stream",
     "text": [
      "الوصفة: الكشري\n",
      "المكونات: مكرونة\n",
      "أرز\n",
      "عدس بجبة\n",
      "حمص\n",
      "شعرية\n",
      "بصل مقلي\n",
      "صلصة طماطم بالخل والثوم\n",
      "\n",
      "الوصفة: المحشي (ورق عنب)\n",
      "المكونات: ورق عنب\n",
      "أرز مصري\n",
      "شبت\n",
      "بقدونس\n",
      "كزبرة خضراء\n",
      "طماطم\n",
      "بصل\n",
      "بهارات\n",
      "\n",
      "الوصفة: الطعمية (الفلافل المصرية)\n",
      "المكونات: فول مدشوش (مقشر ومجروش)\n",
      "كزبرة خضراء\n",
      "شبت\n",
      "كرات (بصل أخضر)\n",
      "بصل\n",
      "ثوم\n",
      "كمون\n",
      "ملح\n",
      "\n",
      "الوصفة: البامية الويكا\n",
      "المكونات: بامية خضراء (مقطعة شرائح)\n",
      "مرقة لحم أو دجاج\n",
      "ثوم\n",
      "كزبرة ناشفة\n",
      "سمن بلدي\n",
      "\n",
      "الوصفة: فتة اللحم\n",
      "\n"
     ]
    }
   ],
   "source": [
    "print(msg)"
   ]
  },
  {
   "cell_type": "code",
   "execution_count": 91,
   "id": "f61875b8",
   "metadata": {},
   "outputs": [
    {
     "name": "stdout",
     "output_type": "stream",
     "text": [
      "إليك وصفة فتة اللحم المصرية التقليدية (تكفي 6–8 أشخاص):\n",
      "\n",
      "المكونات\n",
      "- لحم بالعظم (كبش/غنم/بقري) 1.5–2 كجم (قطع كبيرة أو سيقان)  \n",
      "- أرز مصري 2 كوب  \n",
      "- خبز بلدي/خبز عربي (أربع إلى ست أرغفة) أو خبز توست سميك مقطع ومحمص  \n",
      "- سمن بلدي أو زبدة 4–6 ملاعق كبيرة (أو زيت نباتي للقلي)  \n",
      "- بصلة كبيرة مقطعة نصفين  \n",
      "- ملح وفلفل أسمر حسب الذوق  \n",
      "- بهارات whole (قرفة 1 عود، ورق غار 2–3، 4–6 حبات قرنفل أو حبهان) اختياري  \n",
      "- ماء أو مرق كافٍ لسلق اللحم وطهي الأرز (حوالي 3–4 لترات لمرق وغمر اللحم)  \n",
      "\n",
      "صلصة الثوم والخل\n",
      "- ثوم مهروس 6–8 فصوص (أو أكثر حسب الرغبة)  \n",
      "- خل أبيض أو خل عنب 4–6 ملاعق كبيرة  \n",
      "- سمن/زيت 2–3 ملاعق كبيرة  \n",
      "- رشة ملح\n",
      "\n",
      "(اختياري) صلصة طماطم: ملعقتان كبيرة معجون طماطم + ماء + ملعقة صغيرة خل أو عصير ليمون + ملح وسكر قليل، يُسخن قليلاً.\n",
      "\n",
      "للتزيين (اختياري): صنوبر محمص، بقدونس مفروم\n",
      "\n",
      "طريقة التحضير\n",
      "1. سلق اللحم:  \n",
      "   - في حلة كبيرة ضع اللحم، البصلة، البهارات، الملح واغمر بالماء. Bring to a boil، ثم زلّ الحرارة وازيل الرغوة. اتركه يغلي على نار هادئة حتى ينضج تمامًا (حوالي 1–1.5 ساعة للغنم، 1.5–2 ساعة للبقر). احتفظ بالمرق بعد التضبيط (صفّه).\n",
      "\n",
      "2. تحضير الخبز:  \n",
      "   - قطع الخبز مكعبات أو شرائح صغيرة. إما أن تقليه في السمن حتى يصبح ذهبي ومقرمش أو تحمّصه في الفرن/المقلاة بالقليل من السمن. ضع جانباً.\n",
      "\n",
      "3. طهي الأرز:  \n",
      "   - اغسل الأرز جيداً، ثم اطبخه في مرق اللحم (بدلاً من الماء) بنسبة سائل مناسبة (حوالي 1 كوب أرز : 1.5–2 كوب مرق حسب نوع الأرز) حتى ينضج ويصبح منفوشاً. اضبط الملح.\n",
      "\n",
      "4. صلصة الثوم والخل:  \n",
      "   - سخن السمن في مقلاة صغيرة، أضف الثوم المهروس وقلّبه بسرعة حتى تفوح رائحته لكن احذر من احتراقه (30–60 ثانية). أضف الخل ثم الملح، ارفع عن النار. (يمكن إضافة قليل من مرق الأرز إذا كانت الصلصة قوية جداً).\n",
      "\n",
      "5. (اختياري) تحضير صلصة الطماطم:  \n",
      "   - سخن ملعقتين سمن، أضف معجون الطماطم وقلّبه، أضف قليل من الماء، ملح، رشة سكر وملعقة خل، اتركه يغلي ثم اطفئ.\n",
      "\n",
      "6. تجميع الفتة:  \n",
      "   - في طبق تقديم كبير ضع طبقة من الخبز المحمص. اسكب فوقها بعض المرق الساخن لكي يتشرب الخبز.  \n",
      "   - ضع فوقها طبقة من الأرز المطبوخ.  \n",
      "   - رتب فوق الأرز قطع اللحم (يمكنك تقطيعها أو تقديم الشوكة كاملة).  \n",
      "   - اسكب فوق الوجه صلصة الثوم والخل بالتساوي، وأضف صلصة الطماطم إن رغبت.  \n",
      "   - زيّن بالصنوبر المحمص والبقدونس.\n",
      "\n",
      "نصائح\n",
      "- طعم الفتة يتوازن بين مرق اللحم والخل والثوم؛ اضبط كمية الخل حسب الذوق.  \n",
      "- استخدام مرق اللحم لطهي الأرز يعطي نكهة أقوى.  \n",
      "- يمكن تقديم الفتة مع سلطة طحينة خفيفة أو مخللات جانباً.  \n",
      "\n",
      "إذا رغبت، أرسل لي عدد الأشخاص أو نوع اللحم (غنم/بقر) وأعطيك كميات دقيقة ووقت طهي مضبوط.\n"
     ]
    }
   ],
   "source": [
    "print(llm.invoke(msg).content)"
   ]
  }
 ],
 "metadata": {
  "kernelspec": {
   "display_name": "ai_env",
   "language": "python",
   "name": "python3"
  },
  "language_info": {
   "codemirror_mode": {
    "name": "ipython",
    "version": 3
   },
   "file_extension": ".py",
   "mimetype": "text/x-python",
   "name": "python",
   "nbconvert_exporter": "python",
   "pygments_lexer": "ipython3",
   "version": "3.9.23"
  }
 },
 "nbformat": 4,
 "nbformat_minor": 5
}

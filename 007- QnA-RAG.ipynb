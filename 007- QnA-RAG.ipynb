{
 "cells": [
  {
   "cell_type": "markdown",
   "id": "bbd8b7b1",
   "metadata": {},
   "source": [
    "- QnA/RAG | Intro\n",
    "- QnA/RAG | extractive and generative QnA\n",
    "- QnA/RAG | Closed & Open QnA\n",
    "- QnA/RAG | NLP Vectors\n",
    "- QnA/RAG | QnA Data Parsing\n",
    "- QnA/RAG | QnA Data Indexing\n",
    "- QnA/RAG | QnA Semantic Search\n",
    "- QnA/RAG | Generate Answers"
   ]
  },
  {
   "cell_type": "code",
   "execution_count": 2,
   "id": "ac800e85",
   "metadata": {},
   "outputs": [],
   "source": [
    "# from langchain_openai import ChatOpenAI\n",
    "from langchain_ollama import OllamaLLM, ChatOllama\n",
    "\n",
    "MODEL_NAME = \"llama3:latest\""
   ]
  },
  {
   "cell_type": "code",
   "execution_count": null,
   "id": "323f5319",
   "metadata": {},
   "outputs": [],
   "source": [
    "llm = OllamaLLM(\n",
    "    model=MODEL_NAME,\n",
    "    temperature=0.7\n",
    ")"
   ]
  },
  {
   "cell_type": "markdown",
   "id": "2b56f555",
   "metadata": {},
   "source": [
    "# 1. RAG Documents Loading and Chunking\n",
    "You will learn about:\n",
    "- How to load docs using Pandas\n",
    "- How to load docs from URLs\n",
    "- How to load docs from Wikipedia\n",
    "- How to load docs from PDFs\n",
    "- How to load docs from Dictionaries\n",
    "\n",
    "- How to split/chunk on Characters\n",
    "- How to split/chunk using NLTK\n",
    "- How to split/chunk using TikToken\n",
    "- How to split/chunk using Transformers Tokenizers"
   ]
  },
  {
   "cell_type": "code",
   "execution_count": null,
   "id": "37bf5231",
   "metadata": {},
   "outputs": [],
   "source": [
    "# E.35| Prompt Engineering using LangChain 🦜️🔗 | RAG Documents Loading and Chunking | Ch.9 1/3\n"
   ]
  },
  {
   "cell_type": "markdown",
   "id": "49f7b979",
   "metadata": {},
   "source": [
    "# 2. RAG Documents Embedding and Indexing\n",
    "You will learn about:\n",
    "- OpenAI Embedding\n",
    "- Cohere Embedding\n",
    "- HuggingFace Embedding\n",
    "- Indexing using FAISS\n",
    "- Indexing using ChromaDB"
   ]
  },
  {
   "cell_type": "code",
   "execution_count": null,
   "id": "422fb439",
   "metadata": {},
   "outputs": [],
   "source": []
  },
  {
   "cell_type": "markdown",
   "id": "2881308f",
   "metadata": {},
   "source": [
    "# 3. RAG QnA Chains\n",
    "You will learn about:\n",
    "- QnA Stuff Chain\n",
    "- QnA MapReduce Chain\n",
    "- QnA Refine Chain\n"
   ]
  },
  {
   "cell_type": "code",
   "execution_count": null,
   "id": "e0af3796",
   "metadata": {},
   "outputs": [],
   "source": []
  }
 ],
 "metadata": {
  "kernelspec": {
   "display_name": "ai_env",
   "language": "python",
   "name": "python3"
  },
  "language_info": {
   "codemirror_mode": {
    "name": "ipython",
    "version": 3
   },
   "file_extension": ".py",
   "mimetype": "text/x-python",
   "name": "python",
   "nbconvert_exporter": "python",
   "pygments_lexer": "ipython3",
   "version": "3.9.23"
  }
 },
 "nbformat": 4,
 "nbformat_minor": 5
}

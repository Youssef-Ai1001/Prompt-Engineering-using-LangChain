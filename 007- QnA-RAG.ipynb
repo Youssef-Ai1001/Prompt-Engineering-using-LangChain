{
 "cells": [
  {
   "cell_type": "markdown",
   "id": "2b56f555",
   "metadata": {},
   "source": [
    "---\n",
    "# 1. RAG Documents Loading and Chunking\n",
    "\n",
    "---\n",
    "You will learn about:\n",
    "- How to load docs using Pandas\n",
    "- How to load docs from URLs\n",
    "- How to load docs from Wikipedia\n",
    "- How to load docs from PDFs\n",
    "- How to load docs from Dictionaries\n",
    "\n",
    "- How to split/chunk on Characters\n",
    "- How to split/chunk using NLTK\n",
    "- How to split/chunk using TikToken\n",
    "- How to split/chunk using Transformers Tokenizers"
   ]
  },
  {
   "cell_type": "markdown",
   "id": "0a3a4fe2",
   "metadata": {},
   "source": [
    "### SetUp"
   ]
  },
  {
   "cell_type": "code",
   "execution_count": 3,
   "id": "570b25ef",
   "metadata": {},
   "outputs": [],
   "source": [
    "from langchain_google_genai import ChatGoogleGenerativeAI\n",
    "from langchain_community.document_loaders import DataFrameLoader\n",
    "from langchain_community.document_loaders import UnstructuredURLLoader\n",
    "from langchain_community.document_loaders import WikipediaLoader\n",
    "\n",
    "from dotenv import load_dotenv\n",
    "import os\n",
    "import pandas as pd\n",
    "\n",
    "_ = load_dotenv()\n",
    "GOOGLE_API_KEY = os.getenv(\"GOOGLE_API_KEY\")\n",
    "MODEL_NAME = \"gemini-2.5-flash\"\n",
    "\n",
    "llm = ChatGoogleGenerativeAI(\n",
    "    model=MODEL_NAME,\n",
    "    api_key=GOOGLE_API_KEY,\n",
    "    temperature=0,\n",
    "    max_tokens=None,\n",
    "    timeout=None,\n",
    "    max_retries=2,\n",
    ")"
   ]
  },
  {
   "cell_type": "markdown",
   "id": "bccfa1e8",
   "metadata": {},
   "source": [
    "### Loaders | Pandas"
   ]
  },
  {
   "cell_type": "code",
   "execution_count": 4,
   "id": "3b37daaa",
   "metadata": {},
   "outputs": [
    {
     "name": "stdout",
     "output_type": "stream",
     "text": [
      "--2025-10-17 15:14:27--  https://raw.githubusercontent.com/Petlja/JupyterBookSrCyr/master/podaci/Top%2025%20YouTubers.csv\n",
      "Resolving raw.githubusercontent.com (raw.githubusercontent.com)... 185.199.108.133, 185.199.111.133, 185.199.110.133, ...\n",
      "Connecting to raw.githubusercontent.com (raw.githubusercontent.com)|185.199.108.133|:443... connected.\n",
      "HTTP request sent, awaiting response... 200 OK\n",
      "Length: 1153 (1.1K) [text/plain]\n",
      "Saving to: ‘youtube-sub.csv’\n",
      "\n",
      "youtube-sub.csv     100%[===================>]   1.13K  --.-KB/s    in 0s      \n",
      "\n",
      "2025-10-17 15:14:27 (65.7 MB/s) - ‘youtube-sub.csv’ saved [1153/1153]\n",
      "\n"
     ]
    }
   ],
   "source": [
    "!wget -O youtube-sub.csv https://raw.githubusercontent.com/Petlja/JupyterBookSrCyr/master/podaci/Top%2025%20YouTubers.csv"
   ]
  },
  {
   "cell_type": "code",
   "execution_count": 5,
   "id": "10323b48",
   "metadata": {},
   "outputs": [
    {
     "data": {
      "application/vnd.microsoft.datawrangler.viewer.v0+json": {
       "columns": [
        {
         "name": "index",
         "rawType": "int64",
         "type": "integer"
        },
        {
         "name": "RANK",
         "rawType": "int64",
         "type": "integer"
        },
        {
         "name": "GRADE",
         "rawType": "object",
         "type": "string"
        },
        {
         "name": "NAME",
         "rawType": "object",
         "type": "string"
        },
        {
         "name": "VIDEOS",
         "rawType": "int64",
         "type": "integer"
        },
        {
         "name": "SUBSCRIBERS",
         "rawType": "int64",
         "type": "integer"
        },
        {
         "name": "VIEWES",
         "rawType": "int64",
         "type": "integer"
        }
       ],
       "ref": "fa4ef37a-88c0-4d6a-b563-36f91599fbe6",
       "rows": [
        [
         "0",
         "1",
         "A++",
         "T-Series",
         "13629",
         "105783888",
         "76945588449"
        ],
        [
         "1",
         "2",
         "A",
         "PewDiePie",
         "3898",
         "97853589",
         "22298927681"
        ],
        [
         "2",
         "3",
         "A+",
         "5-Minute Crafts",
         "3341",
         "58629572",
         "14860695079"
        ],
        [
         "3",
         "4",
         "A++",
         "Cocomelon - Nursery Rhymes",
         "441",
         "53163816",
         "33519273951"
        ],
        [
         "4",
         "5",
         "A++",
         "SET India",
         "31923",
         "51784081",
         "36464793233"
        ]
       ],
       "shape": {
        "columns": 6,
        "rows": 5
       }
      },
      "text/html": [
       "<div>\n",
       "<style scoped>\n",
       "    .dataframe tbody tr th:only-of-type {\n",
       "        vertical-align: middle;\n",
       "    }\n",
       "\n",
       "    .dataframe tbody tr th {\n",
       "        vertical-align: top;\n",
       "    }\n",
       "\n",
       "    .dataframe thead th {\n",
       "        text-align: right;\n",
       "    }\n",
       "</style>\n",
       "<table border=\"1\" class=\"dataframe\">\n",
       "  <thead>\n",
       "    <tr style=\"text-align: right;\">\n",
       "      <th></th>\n",
       "      <th>RANK</th>\n",
       "      <th>GRADE</th>\n",
       "      <th>NAME</th>\n",
       "      <th>VIDEOS</th>\n",
       "      <th>SUBSCRIBERS</th>\n",
       "      <th>VIEWES</th>\n",
       "    </tr>\n",
       "  </thead>\n",
       "  <tbody>\n",
       "    <tr>\n",
       "      <th>0</th>\n",
       "      <td>1</td>\n",
       "      <td>A++</td>\n",
       "      <td>T-Series</td>\n",
       "      <td>13629</td>\n",
       "      <td>105783888</td>\n",
       "      <td>76945588449</td>\n",
       "    </tr>\n",
       "    <tr>\n",
       "      <th>1</th>\n",
       "      <td>2</td>\n",
       "      <td>A</td>\n",
       "      <td>PewDiePie</td>\n",
       "      <td>3898</td>\n",
       "      <td>97853589</td>\n",
       "      <td>22298927681</td>\n",
       "    </tr>\n",
       "    <tr>\n",
       "      <th>2</th>\n",
       "      <td>3</td>\n",
       "      <td>A+</td>\n",
       "      <td>5-Minute Crafts</td>\n",
       "      <td>3341</td>\n",
       "      <td>58629572</td>\n",
       "      <td>14860695079</td>\n",
       "    </tr>\n",
       "    <tr>\n",
       "      <th>3</th>\n",
       "      <td>4</td>\n",
       "      <td>A++</td>\n",
       "      <td>Cocomelon - Nursery Rhymes</td>\n",
       "      <td>441</td>\n",
       "      <td>53163816</td>\n",
       "      <td>33519273951</td>\n",
       "    </tr>\n",
       "    <tr>\n",
       "      <th>4</th>\n",
       "      <td>5</td>\n",
       "      <td>A++</td>\n",
       "      <td>SET India</td>\n",
       "      <td>31923</td>\n",
       "      <td>51784081</td>\n",
       "      <td>36464793233</td>\n",
       "    </tr>\n",
       "  </tbody>\n",
       "</table>\n",
       "</div>"
      ],
      "text/plain": [
       "   RANK GRADE                        NAME  VIDEOS  SUBSCRIBERS       VIEWES\n",
       "0     1   A++                    T-Series   13629    105783888  76945588449\n",
       "1     2     A                   PewDiePie    3898     97853589  22298927681\n",
       "2     3    A+             5-Minute Crafts    3341     58629572  14860695079\n",
       "3     4   A++  Cocomelon - Nursery Rhymes     441     53163816  33519273951\n",
       "4     5   A++                   SET India   31923     51784081  36464793233"
      ]
     },
     "execution_count": 5,
     "metadata": {},
     "output_type": "execute_result"
    }
   ],
   "source": [
    "df = pd.read_csv(\"youtube-sub.csv\", sep=\",\")\n",
    "df.head()"
   ]
  },
  {
   "cell_type": "code",
   "execution_count": 6,
   "id": "0e453ad2",
   "metadata": {},
   "outputs": [
    {
     "data": {
      "application/vnd.microsoft.datawrangler.viewer.v0+json": {
       "columns": [
        {
         "name": "index",
         "rawType": "int64",
         "type": "integer"
        },
        {
         "name": "NAME",
         "rawType": "object",
         "type": "string"
        },
        {
         "name": "VIDEOS",
         "rawType": "int64",
         "type": "integer"
        },
        {
         "name": "SUBSCRIBERS",
         "rawType": "int64",
         "type": "integer"
        },
        {
         "name": "VIEWES",
         "rawType": "int64",
         "type": "integer"
        }
       ],
       "ref": "20252467-10af-45f3-badb-7d7e1f070278",
       "rows": [
        [
         "0",
         "T-Series",
         "13629",
         "105783888",
         "76945588449"
        ],
        [
         "1",
         "PewDiePie",
         "3898",
         "97853589",
         "22298927681"
        ],
        [
         "2",
         "5-Minute Crafts",
         "3341",
         "58629572",
         "14860695079"
        ],
        [
         "3",
         "Cocomelon - Nursery Rhymes",
         "441",
         "53163816",
         "33519273951"
        ],
        [
         "4",
         "SET India",
         "31923",
         "51784081",
         "36464793233"
        ]
       ],
       "shape": {
        "columns": 4,
        "rows": 5
       }
      },
      "text/html": [
       "<div>\n",
       "<style scoped>\n",
       "    .dataframe tbody tr th:only-of-type {\n",
       "        vertical-align: middle;\n",
       "    }\n",
       "\n",
       "    .dataframe tbody tr th {\n",
       "        vertical-align: top;\n",
       "    }\n",
       "\n",
       "    .dataframe thead th {\n",
       "        text-align: right;\n",
       "    }\n",
       "</style>\n",
       "<table border=\"1\" class=\"dataframe\">\n",
       "  <thead>\n",
       "    <tr style=\"text-align: right;\">\n",
       "      <th></th>\n",
       "      <th>NAME</th>\n",
       "      <th>VIDEOS</th>\n",
       "      <th>SUBSCRIBERS</th>\n",
       "      <th>VIEWES</th>\n",
       "    </tr>\n",
       "  </thead>\n",
       "  <tbody>\n",
       "    <tr>\n",
       "      <th>0</th>\n",
       "      <td>T-Series</td>\n",
       "      <td>13629</td>\n",
       "      <td>105783888</td>\n",
       "      <td>76945588449</td>\n",
       "    </tr>\n",
       "    <tr>\n",
       "      <th>1</th>\n",
       "      <td>PewDiePie</td>\n",
       "      <td>3898</td>\n",
       "      <td>97853589</td>\n",
       "      <td>22298927681</td>\n",
       "    </tr>\n",
       "    <tr>\n",
       "      <th>2</th>\n",
       "      <td>5-Minute Crafts</td>\n",
       "      <td>3341</td>\n",
       "      <td>58629572</td>\n",
       "      <td>14860695079</td>\n",
       "    </tr>\n",
       "    <tr>\n",
       "      <th>3</th>\n",
       "      <td>Cocomelon - Nursery Rhymes</td>\n",
       "      <td>441</td>\n",
       "      <td>53163816</td>\n",
       "      <td>33519273951</td>\n",
       "    </tr>\n",
       "    <tr>\n",
       "      <th>4</th>\n",
       "      <td>SET India</td>\n",
       "      <td>31923</td>\n",
       "      <td>51784081</td>\n",
       "      <td>36464793233</td>\n",
       "    </tr>\n",
       "  </tbody>\n",
       "</table>\n",
       "</div>"
      ],
      "text/plain": [
       "                         NAME  VIDEOS  SUBSCRIBERS       VIEWES\n",
       "0                    T-Series   13629    105783888  76945588449\n",
       "1                   PewDiePie    3898     97853589  22298927681\n",
       "2             5-Minute Crafts    3341     58629572  14860695079\n",
       "3  Cocomelon - Nursery Rhymes     441     53163816  33519273951\n",
       "4                   SET India   31923     51784081  36464793233"
      ]
     },
     "execution_count": 6,
     "metadata": {},
     "output_type": "execute_result"
    }
   ],
   "source": [
    "datafarme = df[['NAME', 'VIDEOS', 'SUBSCRIBERS', 'VIEWES']]\n",
    "datafarme.head()"
   ]
  },
  {
   "cell_type": "code",
   "execution_count": 7,
   "id": "fc9d1f5c",
   "metadata": {},
   "outputs": [
    {
     "data": {
      "text/plain": [
       "(25, 4)"
      ]
     },
     "execution_count": 7,
     "metadata": {},
     "output_type": "execute_result"
    }
   ],
   "source": [
    "datafarme.shape"
   ]
  },
  {
   "cell_type": "code",
   "execution_count": 8,
   "id": "d2919033",
   "metadata": {},
   "outputs": [
    {
     "name": "stdout",
     "output_type": "stream",
     "text": [
      "25\n"
     ]
    },
    {
     "data": {
      "text/plain": [
       "{'id': None,\n",
       " 'metadata': {'VIDEOS': 13629,\n",
       "  'SUBSCRIBERS': 105783888,\n",
       "  'VIEWES': 76945588449},\n",
       " 'page_content': 'T-Series',\n",
       " 'type': 'Document'}"
      ]
     },
     "execution_count": 8,
     "metadata": {},
     "output_type": "execute_result"
    }
   ],
   "source": [
    "llm_loader = DataFrameLoader(\n",
    "    data_frame= datafarme, \n",
    "    page_content_column=\"NAME\",\n",
    ")\n",
    "\n",
    "llm_data = llm_loader.load()\n",
    "\n",
    "print(len(llm_data))\n",
    "llm_data[0].model_dump()"
   ]
  },
  {
   "cell_type": "markdown",
   "id": "5737d6db",
   "metadata": {},
   "source": [
    "### Loaders | URLs"
   ]
  },
  {
   "cell_type": "code",
   "execution_count": 9,
   "id": "a406f1a7",
   "metadata": {},
   "outputs": [
    {
     "name": "stdout",
     "output_type": "stream",
     "text": [
      "2\n"
     ]
    },
    {
     "data": {
      "text/plain": [
       "{'id': None,\n",
       " 'metadata': {'source': 'https://www.apple.com/legal/sales-support/'},\n",
       " 'page_content': 'Sales & Support\\n\\nGet familiar with the policies, terms, and conditions for the purchase, support, and servicing of your Apple products.\\n\\nAppleCare One\\n\\nAppleCare One covers up to three devices (with the option to add more) with all the benefits of AppleCare+ and includes up to three incidents of theft or loss for Apple Watch, iPhone, and iPad every 12 months.\\n\\nSee the AppleCare One Terms and Conditions\\n\\nAppleCare+ with Theft and Loss\\n\\nAppleCare+ with Theft and Loss provides everything included in AppleCare+ and up to two incidents of theft or loss coverage every 12 months.\\n\\nView the Theft and Loss Insurance Documents\\n\\nAppleCare+\\n\\nAppleCare+ provides additional hardware service and technical support from Apple, including coverage for unlimited incidents of accidental damage per device covered.\\n\\nExplore AppleCare+ Terms and Conditions\\n\\nAppleCare Plans\\n\\nSome services and repairs are covered under AppleCare plans. Check the terms and conditions of specific plans to verify which support services may be included with your Apple products.\\n\\nAppleCare Protection Plan for Macs, iPods, Apple TV\\n\\nAppleCare Protection Plan for iPhone\\n\\nAppleCare Protection Plan for iPad\\n\\nAppleCare for Enterprise\\n\\nAppleCare+ for Business Essentials\\n\\nAppleCare+ for Business Essentials Service Plan Support\\n\\nAppleCare+ for Schools\\n\\nAppleCare Repair Agreement\\n\\nAppleCare Parts Agreement\\n\\nAppleCare Technical Support Services Terms and Conditions\\n\\nAppleCare Protection Plan for 1:1 Learning Solutions\\n\\nAppleCare Service Plan\\n\\nAppleCare Cooperative Support Terms and Conditions\\n\\nRepairs\\n\\nInformation about repairs or service for Apple products that are not covered under an Apple warranty, extended service contract, or statutory warranty rights.\\n\\nExplore Repair Terms and Conditions\\n\\nExpress Replacement Service\\n\\nView the terms of our Express Replacement Service.\\n\\nWarranty or AppleCare Plan\\n\\nOut of Warranty\\n\\nRemote Access Technical Assistance Terms and Conditions\\n\\nFind provisions specific to your country in the Remote Access Technical Assistance terms and conditions.\\n\\nRead the Technical Support terms\\n\\nRemote Support Terms and Conditions (Bomgar Software)\\n\\nFor details on the use of Bomgar™Software and the provision of remote support by Apple, review the terms and conditions (not applicable in Europe, the Middle East, Africa, or India).\\n\\nSee the Bomgar terms\\n\\nSupport Assistant Terms of Use\\n\\nTerms of Use for using Support Assistant, the chat support tool within the Support App.\\n\\nSee the Support Assistant Terms of Use\\n\\nSales Policies\\n\\nRead the sales, purchase, return, and refund policies for various Apple sales channels.\\n\\nApple Online Store\\n\\nApple Online Store for Enterprise\\n\\nApple Online Store for K-12 Schools\\n\\nApple Online Store for Higher Education\\n\\nApple Online Store for Education Individuals\\n\\nApple Retail Store\\n\\nApple Authorized Reseller\\n\\nGlobal Trade Compliance\\n\\niPhone Upgrade Program\\n\\nLearn about the Terms &Conditions related to the purchase of an iPhone under the iPhone Upgrade Program.\\n\\niPhone Upgrade Program\\n\\niPhone Upgrade Program Text Notifications\\n\\niPhone Payments\\n\\nTerms and Conditions for purchasing an iPhone with iPhone Payments.\\n\\nLearn about iPhone Payments\\n\\nTrade In\\n\\nTerms and Conditions for trading in a device under the Trade In program.\\n\\nLearn about the Trade In program\\n\\nApple Reuse & Recycle Program\\n\\nTerms and Conditions for recycling a device under the Apple Reuse & Recycling program.\\n\\nLearn about Apple Reuse & Recycle Program\\n\\nApple Gift Cards and Codes\\n\\nTerms and conditions for the Apple Gift Card and App Store & iTunes gift card.\\n\\nReview Apple Gift Card terms\\n\\nTraining Service Terms and Conditions\\n\\nSpecifics about the training and services provided by Apple at customers’ requests.\\n\\nLearn about Training Service\\n\\nCertification Agreements and Policies\\n\\nParticipation in Apple Training and Certification programs is dependent on adherence to the program terms and conditions that are, or were, in effect at the time of the relevant certification exam or training.\\n\\nExplore Training and Certification\\n\\nSupport Communities Terms of Use\\n\\nGuidelines for participating in the Apple Discussion Forums.\\n\\nLearn about Support Communities\\n\\n1 If you purchased AppleCare+ with Theft and Loss prior to September 15, 2020, your coverage is an insurance product providing two claims for accidental damage from handling, theft or loss every 24 months. View the Theft and Loss Insurance Documents applicable to your coverage.',\n",
       " 'type': 'Document'}"
      ]
     },
     "execution_count": 9,
     "metadata": {},
     "output_type": "execute_result"
    }
   ],
   "source": [
    "urls = [\n",
    "    \"https://www.apple.com/in/support/products/faqs.html\",\n",
    "    \"https://www.apple.com/legal/sales-support/\",\n",
    "]\n",
    "\n",
    "llm_loader = UnstructuredURLLoader(\n",
    "    urls=urls\n",
    ")\n",
    "\n",
    "llm_data = llm_loader.load()\n",
    "\n",
    "print(len(llm_data))\n",
    "llm_data[1].model_dump()"
   ]
  },
  {
   "cell_type": "markdown",
   "id": "4fa44e73",
   "metadata": {},
   "source": [
    "### Loaders | WikiPedia"
   ]
  },
  {
   "cell_type": "code",
   "execution_count": 10,
   "id": "494b0576",
   "metadata": {},
   "outputs": [
    {
     "name": "stdout",
     "output_type": "stream",
     "text": [
      "5\n"
     ]
    },
    {
     "data": {
      "text/plain": [
       "{'id': None,\n",
       " 'metadata': {'title': 'List of presidents of Egypt',\n",
       "  'summary': \"The office of President of Egypt was established in 1953. The president is the head of state of Egypt and the Supreme Commander of the Egyptian Armed Forces. The current president is Abdel Fattah el-Sisi, who has effectively controlled the country since the 2013 coup d'état, and was officially elected president in 2014.\",\n",
       "  'source': 'https://en.wikipedia.org/wiki/List_of_presidents_of_Egypt'},\n",
       " 'page_content': \"The office of President of Egypt was established in 1953. The president is the head of state of Egypt and the Supreme Commander of the Egyptian Armed Forces. The current president is Abdel Fattah el-Sisi, who has effectively controlled the country since the 2013 coup d'état, and was officially elected president in 2014.\\n\\n\\n== Background ==\\nThe first president of Egypt was Mohamed Naguib, one of the leaders of the Free Officers Movement who led the Egyptian Revolution of 1952, and who took office on 18 June 1953, the day on which Egypt was declared a republic. Since then the office has been held by five further people: Gamal Abdel Nasser, Anwar Sadat, Hosni Mubarak, Mohamed Morsi and Abdel Fattah el-Sisi. In addition, Sufi Abu Taleb acted as president between Sadat's assassination and Mubarak's election as his successor, and Adly Mansour acted as president after Morsi's overthrow in the 2013 coup d'état.\\nFollowing Mubarak's resignation on 11 February 2011 in the Egyptian Revolution of 2011, the office was vacant, with the functions of head of state and head of government being discharged by the chairman of the Supreme Council of the Armed Forces (SCAF), Field Marshal Muhammad Hussein Tantawy.\\nMorsi took office on 30 June 2012, after being elected by the presidential election held on 23–24 May and 16–17 June 2012. He was deposed by the Egyptian Armed Forces in a coup d'état on 3 July 2013, following massive protests calling for his resignation. He was succeeded by Mansour, the head of the Supreme Constitutional Court of Egypt, as Acting President. Mansour was sworn into office in front of the Supreme Constitutional Court on 4 July 2013.\\nCurrent President el-Sisi took office on 8 June 2014, after being elected by the presidential election held on 26–28 May 2014. He was re-elected twice (by the presidential election held on 26–28 March 2018 and by the presidential election held on 10–12 December 2023).\\n\\n\\n== List of officeholders ==\\nPolitical parties\\n\\nOther affiliations\\n\\nStatus\\n\\nSymbols\\nP  Presidential referendum\\nCT  Constitutional and term extension referendum\\n†  Died in office\\n\\n\\n== Timeline ==\\n\\n\\n== See also ==\\nMuhammad Ali dynasty\\nList of monarchs of the Muhammad Ali dynasty\\nPresident of Egypt\\nVice President of Egypt\\nPrime Minister of Egypt\\nList of prime ministers of Egypt\\nSpeaker of the House of Representatives (Egypt)\\nList of speakers of the House of Representatives (Egypt)\\n\\n\\n== References ==\\n\\n\\n=== Citations ===\\n\\n\\n=== Sources ===\",\n",
       " 'type': 'Document'}"
      ]
     },
     "execution_count": 10,
     "metadata": {},
     "output_type": "execute_result"
    }
   ],
   "source": [
    "query = \"عبد الفتاح السيسي\"\n",
    "\n",
    "llm_loader = WikipediaLoader(\n",
    "    query=query,\n",
    "    load_max_docs=5,\n",
    "    doc_content_chars_max=20000\n",
    ")\n",
    "\n",
    "llm_data = llm_loader.load()\n",
    "\n",
    "print(len(llm_data))\n",
    "llm_data[1].model_dump()\n",
    "\n",
    "# llm_data[1].page_content\n",
    "# llm_data[1].metadata"
   ]
  },
  {
   "cell_type": "markdown",
   "id": "68a3f047",
   "metadata": {},
   "source": [
    "### Loaders | PDF"
   ]
  },
  {
   "cell_type": "code",
   "execution_count": 11,
   "id": "1209efd2",
   "metadata": {},
   "outputs": [],
   "source": [
    "from langchain_community.document_loaders.pdf import PyPDFLoader\n",
    "\n",
    "file_path = \"/home/mango/Coding/Prompt Engineering using LangChain/conda-cheatsheet.pdf\"\n",
    "\n",
    "llm_loader = PyPDFLoader(file_path=file_path)\n",
    "\n",
    "# pages = llm_loader.load_and_split()\n",
    "\n",
    "pages = []\n",
    "\n",
    "async for page in llm_loader.alazy_load():\n",
    "    pages.append(page)"
   ]
  },
  {
   "cell_type": "code",
   "execution_count": 12,
   "id": "2f4fc22a",
   "metadata": {},
   "outputs": [
    {
     "name": "stdout",
     "output_type": "stream",
     "text": [
      "2\n",
      "{'producer': 'macOS Version 15.3.2 (Build 24D81) Quartz PDFContext', 'creator': 'MKITFPdf v2.26 based on PDFKIT', 'creationdate': \"D:20250625205157Z00'00'\", 'moddate': \"D:20250625205157Z00'00'\", 'source': '/home/mango/Coding/Prompt Engineering using LangChain/conda-cheatsheet.pdf', 'total_pages': 2, 'page': 0, 'page_label': '1'}\n",
      "\n",
      "Quickstart\n",
      "Tip: It is recommended to create a new environment for any new project or workflow.\n",
      "verify conda install and check version conda info\n",
      "conda update --name base conda\n",
      "conda install anaconda\n",
      "conda create --name ENVNAME\n",
      "conda activate ENVNAME\n",
      "update conda in base environment \n",
      "install latest anaconda distribution \n",
      "create a new environment\n",
      "(tip: name environment descriptively) \n",
      "activate environment\n",
      "(do this before installing packages)\n",
      "Cheatsheet\n",
      "conda list\n",
      "conda list --show-channel-urls\n",
      "conda update --all\n",
      "conda install --channel CHANNELNAME PKGNAME\n",
      "conda install CHANNELNAME::PKGNAME\n",
      "conda install \"PKGNAME>2.5,<3.2\"\n",
      "conda install \"PKGNAME [version='2.5|3.2']\"\n",
      "conda uninstall PKGNAME\n",
      "conda config --show-sources\n",
      "conda config --add channels CHANNELNAME\n",
      "conda config --set channel_priority strict\n",
      "list installed packages \n",
      "list installed packages with source info \n",
      "update all packages \n",
      "install a package from specific channel \n",
      "install package with AND logic \n",
      "install package with OR logic \n",
      "uninstall package \n",
      "view channel sources \n",
      "add channel \n",
      "set default channel for pkg fetching\n",
      "Channels and Packages\n",
      "Tip: Package dependencies and platform specifics are automatically resolved when using conda.\n",
      "Working with Conda Environments\n",
      "Tip: List environments at the beginning of your session. Environments with an asterisk are active.\n",
      "conda info --envs\n",
      "conda list --name ENVNAME --show-channel-urls\n",
      "conda install --name ENVNAME PKGNAME1 PKGNAME2\n",
      "conda uninstall --name ENVNAME PKGNAME\n",
      "conda update --all --name ENVNAME\n",
      "list all environments and locations \n",
      "list all packages + source channels \n",
      "install packages in environment \n",
      "remove package from environment \n",
      "update all packages in environment\n"
     ]
    }
   ],
   "source": [
    "print(len(pages))\n",
    "\n",
    "\n",
    "print(f\"{pages[0].metadata}\\n\")\n",
    "print(pages[0].page_content)"
   ]
  },
  {
   "cell_type": "markdown",
   "id": "0a6374d4",
   "metadata": {},
   "source": [
    "### Loaders | Directories"
   ]
  },
  {
   "cell_type": "code",
   "execution_count": 13,
   "id": "3683ebbf",
   "metadata": {},
   "outputs": [
    {
     "name": "stderr",
     "output_type": "stream",
     "text": [
      "100%|██████████| 4/4 [00:00<00:00, 274.81it/s]\n"
     ]
    },
    {
     "data": {
      "text/plain": [
       "[Document(metadata={'source': '/home/mango/Coding/Prompt Engineering using LangChain/Data/1.txt'}, page_content='Youssef\\n\\nTaha\\n\\nBadawi'),\n",
       " Document(metadata={'source': '/home/mango/Coding/Prompt Engineering using LangChain/Data/2.txt'}, page_content='Major : AI'),\n",
       " Document(metadata={'source': '/home/mango/Coding/Prompt Engineering using LangChain/Data/4.txt'}, page_content='Age : 21'),\n",
       " Document(metadata={'source': '/home/mango/Coding/Prompt Engineering using LangChain/Data/3.txt'}, page_content='BD : 12 / 2 / 2004')]"
      ]
     },
     "execution_count": 13,
     "metadata": {},
     "output_type": "execute_result"
    }
   ],
   "source": [
    "from langchain_community.document_loaders import DirectoryLoader\n",
    "\n",
    "llm_loader = DirectoryLoader(\n",
    "    path=\"/home/mango/Coding/Prompt Engineering using LangChain/Data\",\n",
    "    glob=\"*.txt\",\n",
    "    show_progress=True,\n",
    ")\n",
    "\n",
    "llm_data = llm_loader.load()\n",
    "\n",
    "llm_data"
   ]
  },
  {
   "cell_type": "code",
   "execution_count": 14,
   "id": "23c0f75c",
   "metadata": {},
   "outputs": [
    {
     "data": {
      "text/plain": [
       "[Document(metadata={'producer': 'macOS Version 15.3.2 (Build 24D81) Quartz PDFContext', 'creator': 'MKITFPdf v2.26 based on PDFKIT', 'creationdate': \"D:20250625205157Z00'00'\", 'moddate': \"D:20250625205157Z00'00'\", 'source': '/home/mango/Coding/Prompt Engineering using LangChain/Data/conda-cheatsheet.pdf', 'total_pages': 2, 'page': 0, 'page_label': '1'}, page_content='Quickstart\\nTip: It is recommended to create a new environment for any new project or workflow.\\nverify conda install and check version conda info\\nconda update --name base conda\\nconda install anaconda\\nconda create --name ENVNAME\\nconda activate ENVNAME\\nupdate conda in base environment \\ninstall latest anaconda distribution \\ncreate a new environment\\n(tip: name environment descriptively) \\nactivate environment\\n(do this before installing packages)\\nCheatsheet\\nconda list\\nconda list --show-channel-urls\\nconda update --all\\nconda install --channel CHANNELNAME PKGNAME\\nconda install CHANNELNAME::PKGNAME\\nconda install \"PKGNAME>2.5,<3.2\"\\nconda install \"PKGNAME [version=\\'2.5|3.2\\']\"\\nconda uninstall PKGNAME\\nconda config --show-sources\\nconda config --add channels CHANNELNAME\\nconda config --set channel_priority strict\\nlist installed packages \\nlist installed packages with source info \\nupdate all packages \\ninstall a package from specific channel \\ninstall package with AND logic \\ninstall package with OR logic \\nuninstall package \\nview channel sources \\nadd channel \\nset default channel for pkg fetching\\nChannels and Packages\\nTip: Package dependencies and platform specifics are automatically resolved when using conda.\\nWorking with Conda Environments\\nTip: List environments at the beginning of your session. Environments with an asterisk are active.\\nconda info --envs\\nconda list --name ENVNAME --show-channel-urls\\nconda install --name ENVNAME PKGNAME1 PKGNAME2\\nconda uninstall --name ENVNAME PKGNAME\\nconda update --all --name ENVNAME\\nlist all environments and locations \\nlist all packages + source channels \\ninstall packages in environment \\nremove package from environment \\nupdate all packages in environment'),\n",
       " Document(metadata={'producer': 'macOS Version 15.3.2 (Build 24D81) Quartz PDFContext', 'creator': 'MKITFPdf v2.26 based on PDFKIT', 'creationdate': \"D:20250625205157Z00'00'\", 'moddate': \"D:20250625205157Z00'00'\", 'source': '/home/mango/Coding/Prompt Engineering using LangChain/Data/conda-cheatsheet.pdf', 'total_pages': 2, 'page': 1, 'page_label': '2'}, page_content='Cheatsheet\\nconda create --name ENVNAME python=3.12\\nconda create --clone ENVNAME --name NEWENV\\nconda rename --name ENVNAME NEWENVNAME\\nconda remove --name ENVNAME --all\\nconda list --name ENVNAME --revisions\\nconda install --name ENVNAME --revision NUMBER\\nconda remove --name ENVNAME\\n--channel CHANNELNAME PKGNAME\\ncreate environment with Python version \\nclone environment \\nrename environment \\ndelete environment by name \\nlist revisions made to environment \\nrestore environment to a revision \\nuninstall package from specific channel \\nEnvironment Management\\nTip: Specifying the environment name confines conda commands to that environment.\\nconda export --from-history>ENV.yml\\nconda export ENVNAME>ENV.yml\\nconda list --explicit>ENV.txt\\ncross-platform compatible\\nplatform + package specific\\nplatform + package + channel specific\\nExporting Environments\\nRecommendation: Name the export file \"environment\". Your environment name will be preserved.\\nImporting Environments\\nTip: When importing an environment, conda resolves platform and package specifics.\\nconda env create --name ENVNAME --file ENV.yml\\nconda create --name ENVNAME --file ENV.txt\\nfrom a .yml file \\nfrom a .txt file\\nconda COMMAND --help\\nconda search PKGNAME --info\\nconda clean --all\\nconda COMMAND ARG --yes \\nconda install PKGNAME1 PKGNAME2 --yes\\nconda config --show\\nget help for any command \\nget info for any package \\nrun commands w/o user prompteg, \\ninstalling multiple packages\\nremove all unused files \\nexamine conda configuration \\nAdditional Hints\\nWebsite: conda.org GitHub: https://github.com/conda Documentation: conda.io Chat: https://conda.zulipchat.com')]"
      ]
     },
     "execution_count": 14,
     "metadata": {},
     "output_type": "execute_result"
    }
   ],
   "source": [
    "from langchain_community.document_loaders import PyPDFDirectoryLoader\n",
    "\n",
    "llm_loader = PyPDFDirectoryLoader(\n",
    "    path=\"/home/mango/Coding/Prompt Engineering using LangChain/Data\",\n",
    ")\n",
    "\n",
    "llm_data = llm_loader.load()\n",
    "llm_data"
   ]
  },
  {
   "cell_type": "markdown",
   "id": "2c58e724",
   "metadata": {},
   "source": [
    "### Text Splitter\n"
   ]
  },
  {
   "cell_type": "code",
   "execution_count": 15,
   "id": "569ece68",
   "metadata": {},
   "outputs": [
    {
     "name": "stdout",
     "output_type": "stream",
     "text": [
      "Ahmed Hassan Zewail (February 26, 1946 – August 2, 2016) was an Egyptian-American chemist, known as the \"father of femtochemistry\". He was awarded the 1999 Nobel Prize in Chemistry for his work on femtochemistry and became the first Egyptian and Arab to win a Nobel Prize in a scientific field, and also the first African to win a Nobel Prize in Chemistry. He was a professor of chemistry and physics at the California Institute of Technology (Caltech), where he was the first Caltech faculty member to be named the Linus Pauling Chair of Chemical Physics and served as the director of the Physical Biology Center for Ultrafast Science and Technology.\n",
      "\n",
      "\n",
      "== Early life and education ==\n",
      "Ahmed Hassan Zewail was born on February 26, 1946, in Damanhur, Egypt, and was raised in Desouk. He received Bachelor of Science and Master of Science degrees in chemistry from Alexandria University before moving to the United States to complete his PhD at the University of Pennsylvania under the supervision of Robin M. Hochstrasser.\n",
      "\n",
      "\n",
      "== Career ==\n",
      "After completing his PHD, Zewail did postdoctoral research at the University of California, Berkeley, supervised by Charles B. Harris. Following this, he was awarded a faculty appointment at the California Institute of Technology in 1976, and eventually became the first Linus Pauling Chair in Chemical Physics there. He became a naturalized citizen of the United States on March 5, 1982. Zewail was the director of the Physical Biology Center for Ultrafast Science and Technology at the California Institute of Technology.\n",
      "\n",
      "Zewail was nominated and participated in President Barack Obama's Presidential Council of Advisors on Science and Technology (PCAST), an advisory group of the nation's leading scientists and engineers to advise the President and Vice President and formulate policy in the areas of science, technology, and innovation.\n",
      "\n",
      "\n",
      "== Research ==\n",
      "Zewail's key work was a pioneer of femtochemistry—i.e. the study of chemical reactions across femtoseconds. Using a rapid ultrafast laser technique (consisting of ultrashort laser flashes), the technique allows the description of reactions on very short time scales – short enough to analyse transition states in selected chemical reactions. \n",
      "Zewail became known as the \"father of femtochemistry\". He also made critical contributions in ultrafast electron diffraction, which uses short electron pulses rather than light pulses to study chemical reaction dynamics.\n",
      "\n",
      "\n",
      "== Political work ==\n",
      "In a speech at Cairo University on June 4, 2009, US President Barack Obama proclaimed a new Science Envoy program as part of a \"new beginning between the United States and Muslims around the world.\" In January 2010, Ahmed Zewail, Elias Zerhouni, and Bruce Alberts became the first US science envoys to the Muslim world, visiting Muslim-majority countries from North Africa to Southeast Asia.When asked about rumors that he might contest the 2012 Egyptian presidential election, Ahmed Zewail said: \"I am a frank man... I have no political ambition, as I have stressed repeatedly that I only want to serve Egypt in the field of science and die as a scientist.\"\n",
      "During the 2011 Egyptian protests he announced his return to the country. Zewail said that he would join a committee for constitutional reform alongside Ayman Nour, Mubarak's rival at the 2005 presidential elections and a leading lawyer.\n",
      "Zewail was later mentioned as a respected figure working as an intermediary between the military regime ruling after Mubarak's resignation, and revolutionary youth groups such as the April 6 Youth Movement and young supporters of Mohamed ElBaradei. He played a critical role during this time as described by Egyptian Media.\n",
      "\n",
      "\n",
      "== Awards and honours ==\n",
      "Zewail's work brought him international attention, receiving awards and honors throughout most of his career for his work in chemistry and physics. In 1999, Zewail became the first Egyptian to receive a science Nobel Prize when he was awarded the Nobel Prize in Chemistry. Zewail gave his Nobel Lecture on \"Femtochemistry: Atomic-Scale Dynamics of the Chemical Bond Using Ultrafast Lasers\".\n",
      "In 1999, he received Egypt's highest state honour, the Grand Collar of the Nile. Other notable awards include the Alexander von Humboldt Senior Scientist Award (1983), the King Faisal International Prize (1989), the Wolf Prize in Chemistry (1993), the Earle K. Plyler Prize (1993), the Herbert P. Broida Prize (1995), the Peter Debye Award (1996), the Tolman Award (1997), the Robert A. Welch Award (1997), the Linus Pauling Medal (1997), the Franklin Medal (1998) and the Golden Plate Award of the American Academy of Achievement (2000). In October 2006, Zewail received the Albert Einstein World Award of Science for \"his pioneering development of the new field of femtoscience and for his seminal contributions to the revolutionary discipline of physical biology, creating new ways for better understanding the functional behavior of biological systems by directly visualizing them in the four dimensions of space and time.\" Zewail was awarded the Othmer Gold Medal (2009), the Priestley Medal (2011) from the American Chemical Society and the Davy Medal (2011) from the Royal Society.\n",
      "In 1982 he was named as a Fellow of the American Physical Society. Zewail became a member of the National Academy of Sciences in 1989, the American Academy of Arts and Sciences in 1993, and the American Philosophical Society in 1998. Zewail was elected a Foreign Member of the Royal Society (ForMemRS) in 2001. He was also elected as a Fellow of the African Academy of Sciences in 2001.\n",
      "Zewail was made a Foreign Member of the Royal Swedish Academy of Sciences. In 2005, the Ahmed Zewail Award for Ultrafast Science and Technology was established by the American Chemical Society and the Newport Corporation in his honor. In 2010 the journal Chemical Physics Letters established the Ahmed Zewail Prize in Molecular Sciences. In May 2010, Zewail gave the commencement address at Southwestern University. The Zewail City of Science and Technology, established in 2000 and revived in 2011, is named in his honour.\n",
      "\n",
      "\n",
      "=== Honorary degrees ===\n",
      "Zewail was bestowed honorary degrees by the following institutions: \n",
      "University of Oxford, UK (1991); \n",
      "The American University in Cairo, Egypt (1993);\n",
      "Katholieke Universiteit, Leuven, Belgium (1997);\n",
      "University of Pennsylvania, US (1997);\n",
      "University of Lausanne, Switzerland (1997);\n",
      "Swinburne University of Technology, Australia (1999);\n",
      "Arab Academy for Science, Technology & Maritime Transport, Egypt (1999);\n",
      "D.Sc. Alexandria University, Egypt (1999); \n",
      "D.Sc. University of New Brunswick, Canada (2000); \n",
      "Sapienza University of Rome, Italy (2000);\n",
      "University of Liège, Belgium (2000);\n",
      "Heriot-Watt University, Scotland (2002);\n",
      "Lund University, Sweden (2003);\n",
      "Cambridge University (2006); \n",
      "Complutense University of Madrid, Spain (2008); \n",
      "University of Jordan, Jordan (2009); \n",
      "University of Glasgow, Scotland (2011); \n",
      "Yale University, US (2014).\n",
      "\n",
      "\n",
      "=== Egyptian national honours ===\n",
      " Egypt\n",
      "\n",
      "Grand Cross of the Order of Merit (Egypt) (1995)\n",
      "Grand Cordon of the Order of the Arab Republic of Egypt (1998)\n",
      "Grand Collar of the Order of the Nile (1999)\n",
      "\n",
      "\n",
      "=== Foreign honours ===\n",
      " France\n",
      "\n",
      "Knight of the Legion of Honour\n",
      "Officier of the National Order of Merit\n",
      " Lebanon\n",
      "\n",
      "Grand Cordon of the National Order of the Cedar\n",
      " Sudan\n",
      "\n",
      "Grand Officer of the Order of the Two Niles\n",
      " Tunisia\n",
      "\n",
      "Commander of the Order of the Republic\n",
      " United Arab Emirates\n",
      "\n",
      "Grand Officer of Order of Zayed\n",
      "\n",
      "\n",
      "== Personal life ==\n",
      "Zewail and his first wife, Mervat, were married in 1967, just before leaving Egypt to attend the University of Pennsylvania for his PhD. He had two daughters with Mervat, Maha and Amani. Mervat and Ahmed however, separated in 1979.\n",
      "Zewail married Dema Faham in 1989. Zewail and Faham had two sons, Nabeel and Hani.\n",
      "\n",
      "\n",
      "== Death and funeral ==\n",
      "Zewail died aged 70 on the morning of August 2, 2016. He was recovering from cancer, however, the exact cause of his death is unknown. Zewail returned to Egypt, but only his body was received at Cairo Airport. A military funeral was held for Zewail on August 7, 2016, at the El-Mosheer Tantawy mosque in Cairo, Egypt. Those attending included President Abdel Fattah el-Sisi, Prime Minister Sherif Ismail, al-Azhar Grand Imam Ahmed el-Tayeb, Defence Minister Sedki Sobhi, former President Adly Mansour, former Prime Minister Ibrahim Mahlab and heart surgeon Magdi Yacoub. The funeral prayers were led by Ali Gomaa, former Grand Mufti of Egypt.\n",
      "\n",
      "\n",
      "== Publications ==\n",
      "\n",
      "\n",
      "== See also ==\n",
      "Zewail City of Science and Technology (ZCST)\n",
      "Ahmed founded ZCST and even donated his entire Nobel prize money in order to establish this university. Due to his need of wanting help Egypt to excel and advance academically the first batch of students were exempted from fees due to their scientific brilliance.\n",
      "List of Egyptian scientists\n",
      "\n",
      "\n",
      "== References ==\n",
      "\n",
      "\n",
      "== External links ==\n",
      "\n",
      "Official website Captured from the Wayback Machine, June 28, 2018, accessed July 20, 2020\n",
      "Ahmed Zewail's publications indexed by the Scopus bibliographic database. (subscription required)\n",
      "Ahmed Zewail publications indexed by Google Scholar\n",
      "Interview with Ahmed Zewail Caltech Oral Histories, California Institute of Technology\n",
      "Ahmed Zewail on Nobelprize.org\n"
     ]
    }
   ],
   "source": [
    "from langchain_community.document_loaders import WikipediaLoader\n",
    "\n",
    "query_1 = \"Ahmed Zewail\"\n",
    "query_2 = \"Mohamed Salah\"\n",
    "\n",
    "###########################################\n",
    "\n",
    "docs_1 = WikipediaLoader(\n",
    "    query=query_1, load_max_docs=1, doc_content_chars_max=20_000\n",
    ").load()\n",
    "\n",
    "text_documents_1 = docs_1[0].page_content\n",
    "\n",
    "############################################\n",
    "\n",
    "docs_2 = WikipediaLoader(\n",
    "    query=query_2, load_max_docs=1, doc_content_chars_max=20_000\n",
    ").load()\n",
    "\n",
    "text_documents_2 = docs_2[0].page_content\n",
    "\n",
    "############################################\n",
    "\n",
    "print(text_documents_1)"
   ]
  },
  {
   "cell_type": "code",
   "execution_count": 16,
   "id": "f3e11385",
   "metadata": {},
   "outputs": [],
   "source": [
    "documents = [text_documents_1, text_documents_2]\n",
    "\n",
    "metadata = [{\"document_title\": query_1}, {\"document_title\": query_2}]"
   ]
  },
  {
   "cell_type": "code",
   "execution_count": 17,
   "id": "234027d0",
   "metadata": {},
   "outputs": [
    {
     "data": {
      "text/plain": [
       "('Ahmed Hassan Zewail (February 26, 1946 – August 2, 2016) was an Egyptian-American chemist, known as the \"father of femtochemistry\". He was awarded the 1999 Nobel Prize in Chemistry for his work on femtochemistry and became the first Egyptian and Arab to win a Nobel Prize in a scientific field, and also the first African to win a Nobel Prize in Chemistry. He was a professor of chemistry and physics at the California Institute of Technology (Caltech), where he was the first Caltech faculty member to be named the Linus Pauling Chair of Chemical Physics and served as the director of the Physical Biology Center for Ultrafast Science and Technology.\\n\\n\\n== Early life and education ==\\nAhmed Hassan Zewail was born on February 26, 1946, in Damanhur, Egypt, and was raised in Desouk. He received Bachelor of Science and Master of Science degrees in chemistry from Alexandria University before moving to the United States to complete his PhD at the University of Pennsylvania under the supervision of Robin M. Hochstrasser.\\n\\n\\n== Career ==\\nAfter completing his PHD, Zewail did postdoctoral research at the University of California, Berkeley, supervised by Charles B. Harris. Following this, he was awarded a faculty appointment at the California Institute of Technology in 1976, and eventually became the first Linus Pauling Chair in Chemical Physics there. He became a naturalized citizen of the United States on March 5, 1982. Zewail was the director of the Physical Biology Center for Ultrafast Science and Technology at the California Institute of Technology.\\n\\nZewail was nominated and participated in President Barack Obama\\'s Presidential Council of Advisors on Science and Technology (PCAST), an advisory group of the nation\\'s leading scientists and engineers to advise the President and Vice President and formulate policy in the areas of science, technology, and innovation.\\n\\n\\n== Research ==\\nZewail\\'s key work was a pioneer of femtochemistry—i.e. the study of chemical reactions across femtoseconds. Using a rapid ultrafast laser technique (consisting of ultrashort laser flashes), the technique allows the description of reactions on very short time scales – short enough to analyse transition states in selected chemical reactions. \\nZewail became known as the \"father of femtochemistry\". He also made critical contributions in ultrafast electron diffraction, which uses short electron pulses rather than light pulses to study chemical reaction dynamics.\\n\\n\\n== Political work ==\\nIn a speech at Cairo University on June 4, 2009, US President Barack Obama proclaimed a new Science Envoy program as part of a \"new beginning between the United States and Muslims around the world.\" In January 2010, Ahmed Zewail, Elias Zerhouni, and Bruce Alberts became the first US science envoys to the Muslim world, visiting Muslim-majority countries from North Africa to Southeast Asia.When asked about rumors that he might contest the 2012 Egyptian presidential election, Ahmed Zewail said: \"I am a frank man... I have no political ambition, as I have stressed repeatedly that I only want to serve Egypt in the field of science and die as a scientist.\"\\nDuring the 2011 Egyptian protests he announced his return to the country. Zewail said that he would join a committee for constitutional reform alongside Ayman Nour, Mubarak\\'s rival at the 2005 presidential elections and a leading lawyer.\\nZewail was later mentioned as a respected figure working as an intermediary between the military regime ruling after Mubarak\\'s resignation, and revolutionary youth groups such as the April 6 Youth Movement and young supporters of Mohamed ElBaradei. He played a critical role during this time as described by Egyptian Media.\\n\\n\\n== Awards and honours ==\\nZewail\\'s work brought him international attention, receiving awards and honors throughout most of his career for his work in chemistry and physics. In 1999, Zewail became the first Egyptian to receive a science Nobel Prize when he was awarded the Nobel Prize in Chemistry. Zewail gave his Nobel Lecture on \"Femtochemistry: Atomic-Scale Dynamics of the Chemical Bond Using Ultrafast Lasers\".\\nIn 1999, he received Egypt\\'s highest state honour, the Grand Collar of the Nile. Other notable awards include the Alexander von Humboldt Senior Scientist Award (1983), the King Faisal International Prize (1989), the Wolf Prize in Chemistry (1993), the Earle K. Plyler Prize (1993), the Herbert P. Broida Prize (1995), the Peter Debye Award (1996), the Tolman Award (1997), the Robert A. Welch Award (1997), the Linus Pauling Medal (1997), the Franklin Medal (1998) and the Golden Plate Award of the American Academy of Achievement (2000). In October 2006, Zewail received the Albert Einstein World Award of Science for \"his pioneering development of the new field of femtoscience and for his seminal contributions to the revolutionary discipline of physical biology, creating new ways for better understanding the functional behavior of biological systems by directly visualizing them in the four dimensions of space and time.\" Zewail was awarded the Othmer Gold Medal (2009), the Priestley Medal (2011) from the American Chemical Society and the Davy Medal (2011) from the Royal Society.\\nIn 1982 he was named as a Fellow of the American Physical Society. Zewail became a member of the National Academy of Sciences in 1989, the American Academy of Arts and Sciences in 1993, and the American Philosophical Society in 1998. Zewail was elected a Foreign Member of the Royal Society (ForMemRS) in 2001. He was also elected as a Fellow of the African Academy of Sciences in 2001.\\nZewail was made a Foreign Member of the Royal Swedish Academy of Sciences. In 2005, the Ahmed Zewail Award for Ultrafast Science and Technology was established by the American Chemical Society and the Newport Corporation in his honor. In 2010 the journal Chemical Physics Letters established the Ahmed Zewail Prize in Molecular Sciences. In May 2010, Zewail gave the commencement address at Southwestern University. The Zewail City of Science and Technology, established in 2000 and revived in 2011, is named in his honour.\\n\\n\\n=== Honorary degrees ===\\nZewail was bestowed honorary degrees by the following institutions: \\nUniversity of Oxford, UK (1991); \\nThe American University in Cairo, Egypt (1993);\\nKatholieke Universiteit, Leuven, Belgium (1997);\\nUniversity of Pennsylvania, US (1997);\\nUniversity of Lausanne, Switzerland (1997);\\nSwinburne University of Technology, Australia (1999);\\nArab Academy for Science, Technology & Maritime Transport, Egypt (1999);\\nD.Sc. Alexandria University, Egypt (1999); \\nD.Sc. University of New Brunswick, Canada (2000); \\nSapienza University of Rome, Italy (2000);\\nUniversity of Liège, Belgium (2000);\\nHeriot-Watt University, Scotland (2002);\\nLund University, Sweden (2003);\\nCambridge University (2006); \\nComplutense University of Madrid, Spain (2008); \\nUniversity of Jordan, Jordan (2009); \\nUniversity of Glasgow, Scotland (2011); \\nYale University, US (2014).\\n\\n\\n=== Egyptian national honours ===\\n Egypt\\n\\nGrand Cross of the Order of Merit (Egypt) (1995)\\nGrand Cordon of the Order of the Arab Republic of Egypt (1998)\\nGrand Collar of the Order of the Nile (1999)\\n\\n\\n=== Foreign honours ===\\n France\\n\\nKnight of the Legion of Honour\\nOfficier of the National Order of Merit\\n Lebanon\\n\\nGrand Cordon of the National Order of the Cedar\\n Sudan\\n\\nGrand Officer of the Order of the Two Niles\\n Tunisia\\n\\nCommander of the Order of the Republic\\n United Arab Emirates\\n\\nGrand Officer of Order of Zayed\\n\\n\\n== Personal life ==\\nZewail and his first wife, Mervat, were married in 1967, just before leaving Egypt to attend the University of Pennsylvania for his PhD. He had two daughters with Mervat, Maha and Amani. Mervat and Ahmed however, separated in 1979.\\nZewail married Dema Faham in 1989. Zewail and Faham had two sons, Nabeel and Hani.\\n\\n\\n== Death and funeral ==\\nZewail died aged 70 on the morning of August 2, 2016. He was recovering from cancer, however, the exact cause of his death is unknown. Zewail returned to Egypt, but only his body was received at Cairo Airport. A military funeral was held for Zewail on August 7, 2016, at the El-Mosheer Tantawy mosque in Cairo, Egypt. Those attending included President Abdel Fattah el-Sisi, Prime Minister Sherif Ismail, al-Azhar Grand Imam Ahmed el-Tayeb, Defence Minister Sedki Sobhi, former President Adly Mansour, former Prime Minister Ibrahim Mahlab and heart surgeon Magdi Yacoub. The funeral prayers were led by Ali Gomaa, former Grand Mufti of Egypt.\\n\\n\\n== Publications ==\\n\\n\\n== See also ==\\nZewail City of Science and Technology (ZCST)\\nAhmed founded ZCST and even donated his entire Nobel prize money in order to establish this university. Due to his need of wanting help Egypt to excel and advance academically the first batch of students were exempted from fees due to their scientific brilliance.\\nList of Egyptian scientists\\n\\n\\n== References ==\\n\\n\\n== External links ==\\n\\nOfficial website Captured from the Wayback Machine, June 28, 2018, accessed July 20, 2020\\nAhmed Zewail\\'s publications indexed by the Scopus bibliographic database. (subscription required)\\nAhmed Zewail publications indexed by Google Scholar\\nInterview with Ahmed Zewail Caltech Oral Histories, California Institute of Technology\\nAhmed Zewail on Nobelprize.org',\n",
       " {'document_title': 'Ahmed Zewail'})"
      ]
     },
     "execution_count": 17,
     "metadata": {},
     "output_type": "execute_result"
    }
   ],
   "source": [
    "documents[0] , metadata[0]"
   ]
  },
  {
   "cell_type": "code",
   "execution_count": 18,
   "id": "dd4d3716",
   "metadata": {},
   "outputs": [
    {
     "data": {
      "text/plain": [
       "2"
      ]
     },
     "execution_count": 18,
     "metadata": {},
     "output_type": "execute_result"
    }
   ],
   "source": [
    "len(documents)"
   ]
  },
  {
   "cell_type": "markdown",
   "id": "446a6a8e",
   "metadata": {},
   "source": [
    "#### Text Splitters | Characters"
   ]
  },
  {
   "cell_type": "code",
   "execution_count": 19,
   "id": "d367fe56",
   "metadata": {},
   "outputs": [],
   "source": [
    "from langchain_text_splitters import CharacterTextSplitter\n",
    "\n",
    "text_splitter = CharacterTextSplitter(\n",
    "    separator=\"\",\n",
    "    chunk_size=100,\n",
    "    chunk_overlap=10,\n",
    "    length_function=len,\n",
    ")\n",
    "\n",
    "normal_chunks = text_splitter.create_documents(texts=documents, metadatas=metadata)"
   ]
  },
  {
   "cell_type": "code",
   "execution_count": 20,
   "id": "247b2376",
   "metadata": {},
   "outputs": [
    {
     "data": {
      "text/plain": [
       "327"
      ]
     },
     "execution_count": 20,
     "metadata": {},
     "output_type": "execute_result"
    }
   ],
   "source": [
    "len(normal_chunks)"
   ]
  },
  {
   "cell_type": "code",
   "execution_count": 21,
   "id": "3d770e04",
   "metadata": {},
   "outputs": [
    {
     "data": {
      "text/plain": [
       "'Ahmed Hassan Zewail (February 26, 1946 – August 2, 2016) was an Egyptian-American chemist, known as'"
      ]
     },
     "execution_count": 21,
     "metadata": {},
     "output_type": "execute_result"
    }
   ],
   "source": [
    "normal_chunks[0].page_content"
   ]
  },
  {
   "cell_type": "code",
   "execution_count": 22,
   "id": "4fe0fcec",
   "metadata": {},
   "outputs": [
    {
     "data": {
      "text/plain": [
       "'known as the \"father of femtochemistry\". He was awarded the 1999 Nobel Prize in Chemistry for his w'"
      ]
     },
     "execution_count": 22,
     "metadata": {},
     "output_type": "execute_result"
    }
   ],
   "source": [
    "normal_chunks[1].page_content"
   ]
  },
  {
   "cell_type": "markdown",
   "id": "54290fb4",
   "metadata": {},
   "source": [
    "#### NLTK | Splitter\n"
   ]
  },
  {
   "cell_type": "code",
   "execution_count": 23,
   "id": "59a18c78",
   "metadata": {},
   "outputs": [
    {
     "name": "stderr",
     "output_type": "stream",
     "text": [
      "[nltk_data] Downloading package punkt to /home/mango/nltk_data...\n",
      "[nltk_data]   Package punkt is already up-to-date!\n"
     ]
    },
    {
     "data": {
      "text/plain": [
       "True"
      ]
     },
     "execution_count": 23,
     "metadata": {},
     "output_type": "execute_result"
    }
   ],
   "source": [
    "import nltk\n",
    "from langchain_text_splitters import NLTKTextSplitter\n",
    "\n",
    "nltk.download(\"punkt\")"
   ]
  },
  {
   "cell_type": "code",
   "execution_count": 24,
   "id": "197264a9",
   "metadata": {},
   "outputs": [
    {
     "name": "stderr",
     "output_type": "stream",
     "text": [
      "Created a chunk of size 677, which is longer than the specified 500\n"
     ]
    }
   ],
   "source": [
    "text_splitter = NLTKTextSplitter(\n",
    "    chunk_size=500,\n",
    "    language=\"english\",\n",
    ")\n",
    "\n",
    "nltk_chunks = text_splitter.create_documents(texts=documents, metadatas=metadata)"
   ]
  },
  {
   "cell_type": "code",
   "execution_count": 25,
   "id": "50d089ec",
   "metadata": {},
   "outputs": [
    {
     "name": "stdout",
     "output_type": "stream",
     "text": [
      "91\n",
      "--------------------------------------------------\n",
      "Ahmed Hassan Zewail (February 26, 1946 – August 2, 2016) was an Egyptian-American chemist, known as the \"father of femtochemistry\".\n",
      "\n",
      "He was awarded the 1999 Nobel Prize in Chemistry for his work on femtochemistry and became the first Egyptian and Arab to win a Nobel Prize in a scientific field, and also the first African to win a Nobel Prize in Chemistry.\n",
      "{'document_title': 'Ahmed Zewail'}\n",
      "--------------------------------------------------\n",
      "He was a professor of chemistry and physics at the California Institute of Technology (Caltech), where he was the first Caltech faculty member to be named the Linus Pauling Chair of Chemical Physics and served as the director of the Physical Biology Center for Ultrafast Science and Technology.\n",
      "\n",
      "== Early life and education ==\n",
      "Ahmed Hassan Zewail was born on February 26, 1946, in Damanhur, Egypt, and was raised in Desouk.\n",
      "{'document_title': 'Ahmed Zewail'}\n"
     ]
    }
   ],
   "source": [
    "print(len(nltk_chunks))\n",
    "print('-' * 50)\n",
    "\n",
    "print(nltk_chunks[0].page_content) \n",
    "print(nltk_chunks[0].metadata)\n",
    "print('-' * 50)\n",
    "\n",
    "print(nltk_chunks[1].page_content)\n",
    "print(nltk_chunks[1].metadata)"
   ]
  },
  {
   "cell_type": "markdown",
   "id": "e7f98a17",
   "metadata": {},
   "source": [
    "#### Tokens | TikToken"
   ]
  },
  {
   "cell_type": "code",
   "execution_count": 26,
   "id": "a2d173be",
   "metadata": {},
   "outputs": [],
   "source": [
    "from langchain_text_splitters import TokenTextSplitter\n",
    "\n",
    "\n",
    "text_splitter = TokenTextSplitter(\n",
    "    encoding_name=\"cl100k_base\",\n",
    "    chunk_size=100,\n",
    "    chunk_overlap=20,\n",
    ")"
   ]
  },
  {
   "cell_type": "code",
   "execution_count": 27,
   "id": "ab663b4c",
   "metadata": {},
   "outputs": [],
   "source": [
    "tokens_chunks = text_splitter.create_documents(\n",
    "    texts = documents, metadatas=metadata\n",
    ")"
   ]
  },
  {
   "cell_type": "code",
   "execution_count": 28,
   "id": "07058768",
   "metadata": {},
   "outputs": [
    {
     "name": "stdout",
     "output_type": "stream",
     "text": [
      "85\n",
      "--------------------------------------------------\n",
      "Ahmed Hassan Zewail (February 26, 1946 – August 2, 2016) was an Egyptian-American chemist, known as the \"father of femtochemistry\". He was awarded the 1999 Nobel Prize in Chemistry for his work on femtochemistry and became the first Egyptian and Arab to win a Nobel Prize in a scientific field, and also the first African to win a Nobel Prize in Chemistry. He was a professor of chemistry and physics at the California Institute\n",
      "{'document_title': 'Ahmed Zewail'}\n",
      "--------------------------------------------------\n",
      " to win a Nobel Prize in Chemistry. He was a professor of chemistry and physics at the California Institute of Technology (Caltech), where he was the first Caltech faculty member to be named the Linus Pauling Chair of Chemical Physics and served as the director of the Physical Biology Center for Ultrafast Science and Technology.\n",
      "\n",
      "\n",
      "== Early life and education ==\n",
      "Ahmed Hassan Zewail was born on February 26, 1946, in Damanhur, Egypt, and was raised in Des\n",
      "{'document_title': 'Ahmed Zewail'}\n"
     ]
    }
   ],
   "source": [
    "print(len(tokens_chunks))\n",
    "print('-' * 50)\n",
    "\n",
    "print(tokens_chunks[0].page_content) \n",
    "print(tokens_chunks[0].metadata)\n",
    "print('-' * 50)\n",
    "\n",
    "print(tokens_chunks[1].page_content)\n",
    "print(tokens_chunks[1].metadata)"
   ]
  },
  {
   "cell_type": "markdown",
   "id": "371d0a85",
   "metadata": {},
   "source": [
    "#### Tokens | Transformers Tokens\n"
   ]
  },
  {
   "cell_type": "code",
   "execution_count": 29,
   "id": "c2cc579d",
   "metadata": {},
   "outputs": [],
   "source": [
    "from transformers import AutoTokenizer\n",
    "from langchain.text_splitter import CharacterTextSplitter\n",
    "\n",
    "model_id = \"stabilityai/stablelm-tuned-alpha-3b\"\n",
    "\n",
    "tokenizer = AutoTokenizer.from_pretrained(model_id)"
   ]
  },
  {
   "cell_type": "code",
   "execution_count": 30,
   "id": "0bd700b1",
   "metadata": {},
   "outputs": [
    {
     "name": "stderr",
     "output_type": "stream",
     "text": [
      "Created a chunk of size 518, which is longer than the specified 400\n",
      "Created a chunk of size 786, which is longer than the specified 400\n",
      "Created a chunk of size 701, which is longer than the specified 400\n"
     ]
    }
   ],
   "source": [
    "text_splitter = CharacterTextSplitter.from_huggingface_tokenizer(\n",
    "    tokenizer,\n",
    "    chunk_size=400,\n",
    "    chunk_overlap=0\n",
    ")\n",
    "\n",
    "tokens_chunks = text_splitter.create_documents(\n",
    "    texts = documents, metadatas=metadata\n",
    ")"
   ]
  },
  {
   "cell_type": "code",
   "execution_count": 31,
   "id": "4b791e5f",
   "metadata": {},
   "outputs": [
    {
     "name": "stdout",
     "output_type": "stream",
     "text": [
      "18\n",
      "--------------------------------------------------\n",
      "Ahmed Hassan Zewail (February 26, 1946 – August 2, 2016) was an Egyptian-American chemist, known as the \"father of femtochemistry\". He was awarded the 1999 Nobel Prize in Chemistry for his work on femtochemistry and became the first Egyptian and Arab to win a Nobel Prize in a scientific field, and also the first African to win a Nobel Prize in Chemistry. He was a professor of chemistry and physics at the California Institute of Technology (Caltech), where he was the first Caltech faculty member to be named the Linus Pauling Chair of Chemical Physics and served as the director of the Physical Biology Center for Ultrafast Science and Technology.\n",
      "\n",
      "\n",
      "== Early life and education ==\n",
      "Ahmed Hassan Zewail was born on February 26, 1946, in Damanhur, Egypt, and was raised in Desouk. He received Bachelor of Science and Master of Science degrees in chemistry from Alexandria University before moving to the United States to complete his PhD at the University of Pennsylvania under the supervision of Robin M. Hochstrasser.\n",
      "\n",
      "\n",
      "== Career ==\n",
      "After completing his PHD, Zewail did postdoctoral research at the University of California, Berkeley, supervised by Charles B. Harris. Following this, he was awarded a faculty appointment at the California Institute of Technology in 1976, and eventually became the first Linus Pauling Chair in Chemical Physics there. He became a naturalized citizen of the United States on March 5, 1982. Zewail was the director of the Physical Biology Center for Ultrafast Science and Technology at the California Institute of Technology.\n",
      "\n",
      "Zewail was nominated and participated in President Barack Obama's Presidential Council of Advisors on Science and Technology (PCAST), an advisory group of the nation's leading scientists and engineers to advise the President and Vice President and formulate policy in the areas of science, technology, and innovation.\n",
      "{'document_title': 'Ahmed Zewail'}\n",
      "--------------------------------------------------\n",
      "== Research ==\n",
      "Zewail's key work was a pioneer of femtochemistry—i.e. the study of chemical reactions across femtoseconds. Using a rapid ultrafast laser technique (consisting of ultrashort laser flashes), the technique allows the description of reactions on very short time scales – short enough to analyse transition states in selected chemical reactions. \n",
      "Zewail became known as the \"father of femtochemistry\". He also made critical contributions in ultrafast electron diffraction, which uses short electron pulses rather than light pulses to study chemical reaction dynamics.\n",
      "\n",
      "\n",
      "== Political work ==\n",
      "In a speech at Cairo University on June 4, 2009, US President Barack Obama proclaimed a new Science Envoy program as part of a \"new beginning between the United States and Muslims around the world.\" In January 2010, Ahmed Zewail, Elias Zerhouni, and Bruce Alberts became the first US science envoys to the Muslim world, visiting Muslim-majority countries from North Africa to Southeast Asia.When asked about rumors that he might contest the 2012 Egyptian presidential election, Ahmed Zewail said: \"I am a frank man... I have no political ambition, as I have stressed repeatedly that I only want to serve Egypt in the field of science and die as a scientist.\"\n",
      "During the 2011 Egyptian protests he announced his return to the country. Zewail said that he would join a committee for constitutional reform alongside Ayman Nour, Mubarak's rival at the 2005 presidential elections and a leading lawyer.\n",
      "Zewail was later mentioned as a respected figure working as an intermediary between the military regime ruling after Mubarak's resignation, and revolutionary youth groups such as the April 6 Youth Movement and young supporters of Mohamed ElBaradei. He played a critical role during this time as described by Egyptian Media.\n",
      "{'document_title': 'Ahmed Zewail'}\n"
     ]
    }
   ],
   "source": [
    "print(len(tokens_chunks))\n",
    "print(\"-\" * 50)\n",
    "\n",
    "print(tokens_chunks[0].page_content)\n",
    "print(tokens_chunks[0].metadata)\n",
    "print(\"-\" * 50)\n",
    "\n",
    "print(tokens_chunks[1].page_content)\n",
    "print(tokens_chunks[1].metadata)"
   ]
  },
  {
   "cell_type": "markdown",
   "id": "24a2d108",
   "metadata": {},
   "source": [
    "---\n",
    "# 2. RAG Documents Embedding and Indexing\n",
    "\n",
    "---\n",
    "You will learn about:\n",
    "- OpenAI Embedding\n",
    "- Cohere Embedding\n",
    "- HuggingFace Embedding\n",
    "- Indexing using FAISS\n",
    "- Indexing using ChromaDB"
   ]
  },
  {
   "cell_type": "markdown",
   "id": "7754c1de",
   "metadata": {},
   "source": [
    "## Embedding"
   ]
  },
  {
   "cell_type": "code",
   "execution_count": null,
   "id": "422fb439",
   "metadata": {},
   "outputs": [],
   "source": [
    "from langchain_community.document_loaders import WikipediaLoader\n",
    "\n",
    "query_1 = \"Albert Einstein\"\n",
    "query_2 = \"Isaac Newton\"\n",
    "\n",
    "###########################################\n",
    "docs_1 = WikipediaLoader(\n",
    "    query=query_1, load_max_docs=1, doc_content_chars_max=20_000\n",
    ").load()\n",
    "\n",
    "text_documents_1 = docs_1[0].page_content\n",
    "\n",
    "#############################################\n",
    "\n",
    "docs_2 = WikipediaLoader(\n",
    "    query=query_2, load_max_docs=1, doc_content_chars_max=20_000\n",
    ").load()\n",
    "\n",
    "text_documents_2 = docs_2[0].page_content\n",
    "\n",
    "#############################################\n",
    "\n",
    "documents = [text_documents_1, text_documents_2]\n",
    "metadata = [{\"document_title\": query_1}, {\"document_title\": query_2}]"
   ]
  },
  {
   "cell_type": "code",
   "execution_count": 34,
   "id": "db5ee9df",
   "metadata": {},
   "outputs": [
    {
     "name": "stderr",
     "output_type": "stream",
     "text": [
      "[nltk_data] Downloading package punkt to /home/mango/nltk_data...\n",
      "[nltk_data]   Package punkt is already up-to-date!\n",
      "Created a chunk of size 337, which is longer than the specified 300\n",
      "Created a chunk of size 336, which is longer than the specified 300\n",
      "Created a chunk of size 332, which is longer than the specified 300\n",
      "Created a chunk of size 322, which is longer than the specified 300\n",
      "Created a chunk of size 353, which is longer than the specified 300\n",
      "Created a chunk of size 304, which is longer than the specified 300\n",
      "Created a chunk of size 314, which is longer than the specified 300\n",
      "Created a chunk of size 383, which is longer than the specified 300\n",
      "Created a chunk of size 406, which is longer than the specified 300\n",
      "Created a chunk of size 439, which is longer than the specified 300\n",
      "Created a chunk of size 651, which is longer than the specified 300\n",
      "Created a chunk of size 332, which is longer than the specified 300\n",
      "Created a chunk of size 330, which is longer than the specified 300\n",
      "Created a chunk of size 385, which is longer than the specified 300\n",
      "Created a chunk of size 392, which is longer than the specified 300\n"
     ]
    }
   ],
   "source": [
    "import nltk\n",
    "from langchain_text_splitters import NLTKTextSplitter\n",
    "\n",
    "nltk.download(\"punkt\")\n",
    "\n",
    "text_splitter = NLTKTextSplitter(\n",
    "    chunk_size=300,\n",
    "    chunk_overlap=50,\n",
    ")\n",
    "tokens_chunks = text_splitter.create_documents(texts=documents, metadatas=metadata)"
   ]
  },
  {
   "cell_type": "markdown",
   "id": "7969aa83",
   "metadata": {},
   "source": [
    "#### Embeddings | HuggingFace"
   ]
  },
  {
   "cell_type": "code",
   "execution_count": 73,
   "id": "e120f321",
   "metadata": {},
   "outputs": [
    {
     "data": {
      "application/vnd.jupyter.widget-view+json": {
       "model_id": "b567545ddc9246caaf8b2fdf2f38fed0",
       "version_major": 2,
       "version_minor": 0
      },
      "text/plain": [
       "Batches:   0%|          | 0/6 [00:00<?, ?it/s]"
      ]
     },
     "metadata": {},
     "output_type": "display_data"
    },
    {
     "data": {
      "application/vnd.jupyter.widget-view+json": {
       "model_id": "64d5b86200aa4798819c69214ed7f7eb",
       "version_major": 2,
       "version_minor": 0
      },
      "text/plain": [
       "Batches:   0%|          | 0/1 [00:00<?, ?it/s]"
      ]
     },
     "metadata": {},
     "output_type": "display_data"
    }
   ],
   "source": [
    "from langchain_huggingface import HuggingFaceEmbeddings\n",
    "from sentence_transformers import SentenceTransformer\n",
    "\n",
    "model_name = \"sentence-transformers/all-MiniLM-L6-v2\"\n",
    "model_kwargs = {\"device\": \"cuda\"}\n",
    "encode_kwargs = {\"normalize_embeddings\": False}\n",
    "\n",
    "\n",
    "hf_embeddings_model = HuggingFaceEmbeddings(\n",
    "    model_name=model_name,\n",
    "    model_kwargs=model_kwargs,\n",
    "    encode_kwargs=encode_kwargs,\n",
    "    show_progress=True\n",
    ")\n",
    "\n",
    "# Source Data\n",
    "docs_text = [chunk.page_content for chunk in tokens_chunks]\n",
    "docs_embeddings = hf_embeddings_model.embed_documents(docs_text)\n",
    "\n",
    "len(docs_embeddings[0])      # 384\n",
    "\n",
    "# query\n",
    "query_text = \"Can you list a number of Nikola Tesla's inventions?\"\n",
    "query_embedding = hf_embeddings_model.embed_query(query_text)"
   ]
  },
  {
   "cell_type": "markdown",
   "id": "6319014b",
   "metadata": {},
   "source": [
    "#### Embeddings | Cohere"
   ]
  },
  {
   "cell_type": "code",
   "execution_count": null,
   "id": "354748e0",
   "metadata": {},
   "outputs": [],
   "source": [
    "from langchain_cohere import CohereEmbeddings\n",
    "\n",
    "from dotenv import load_dotenv\n",
    "import os\n",
    "\n",
    "_ = load_dotenv()\n",
    "\n",
    "COHERE_API_KEY = os.getenv(\"COHERE_API_KEY\")\n",
    "\n",
    "co_embedding_llm = CohereEmbeddings(\n",
    "    model=\"embed-english-v3.0\", cohere_api_key=COHERE_API_KEY\n",
    ")\n",
    "\n",
    "# source data\n",
    "docs_text = [ chunk.page_content  for chunk in tokens_chunks ]\n",
    "docs_embeddings = co_embedding_llm.embed_documents(docs_text)\n",
    "\n",
    "len(docs_embeddings[0])          # 1024\n",
    "\n",
    "# query\n",
    "query_text = \"What is the name of Nikola Tesla's mother?\"\n",
    "query_embedding = co_embedding_llm.embed_query(query_text)"
   ]
  },
  {
   "cell_type": "markdown",
   "id": "c74507d8",
   "metadata": {},
   "source": [
    "## Vectors Stores"
   ]
  },
  {
   "cell_type": "markdown",
   "id": "9a7460c0",
   "metadata": {},
   "source": [
    "#### Vector Stores | FAISS"
   ]
  },
  {
   "cell_type": "code",
   "execution_count": null,
   "id": "e714f730",
   "metadata": {},
   "outputs": [
    {
     "data": {
      "application/vnd.jupyter.widget-view+json": {
       "model_id": "8d9ccda1edf340aab5817e5d49d1ad53",
       "version_major": 2,
       "version_minor": 0
      },
      "text/plain": [
       "Batches:   0%|          | 0/6 [00:00<?, ?it/s]"
      ]
     },
     "metadata": {},
     "output_type": "display_data"
    }
   ],
   "source": [
    "from langchain_community.vectorstores import FAISS\n",
    "\n",
    "vector_db = FAISS.from_documents(documents=tokens_chunks, embedding=hf_embeddings_model)\n",
    "\n",
    "query_text = \"Albert Einstein adn his contributions to physics\"\n",
    "\n",
    "similar_docs = vector_db.similarity_search(query_text)"
   ]
  },
  {
   "cell_type": "code",
   "execution_count": 103,
   "id": "9b93d7bf",
   "metadata": {},
   "outputs": [
    {
     "data": {
      "text/plain": [
       "'Albert Einstein (14 March 1879 – 18 April 1955) was a German-born theoretical physicist best known for developing the theory of relativity.\\n\\nEinstein also made important contributions to quantum theory.'"
      ]
     },
     "execution_count": 103,
     "metadata": {},
     "output_type": "execute_result"
    }
   ],
   "source": [
    "similar_docs[0].page_content"
   ]
  },
  {
   "cell_type": "markdown",
   "id": "e4193b69",
   "metadata": {},
   "source": [
    "#### Vector Stores | Chroma"
   ]
  },
  {
   "cell_type": "code",
   "execution_count": null,
   "id": "5597babe",
   "metadata": {},
   "outputs": [
    {
     "data": {
      "application/vnd.jupyter.widget-view+json": {
       "model_id": "0c06484c2a144d639f8e5325678cb42b",
       "version_major": 2,
       "version_minor": 0
      },
      "text/plain": [
       "Batches:   0%|          | 0/6 [00:00<?, ?it/s]"
      ]
     },
     "metadata": {},
     "output_type": "display_data"
    }
   ],
   "source": [
    "from langchain_chroma import Chroma\n",
    "\n",
    "# store text documents as vectors\n",
    "save_to_dir = \"./wiki_chroma_db\"\n",
    "\n",
    "docs_ids = list(range(len(tokens_chunks)))\n",
    "docs_ids = [str(d) for d in docs_ids]\n",
    "\n",
    "vector_db = Chroma.from_documents(\n",
    "    documents = tokens_chunks,\n",
    "    embedding = hf_embeddings_model,\n",
    "    persist_directory=save_to_dir,\n",
    "    ids=docs_ids\n",
    ")"
   ]
  },
  {
   "cell_type": "code",
   "execution_count": null,
   "id": "2f2811a6",
   "metadata": {},
   "outputs": [
    {
     "data": {
      "application/vnd.jupyter.widget-view+json": {
       "model_id": "7a590ac7b1f94b4f84d05496e4ad9526",
       "version_major": 2,
       "version_minor": 0
      },
      "text/plain": [
       "Batches:   0%|          | 0/1 [00:00<?, ?it/s]"
      ]
     },
     "metadata": {},
     "output_type": "display_data"
    },
    {
     "data": {
      "text/plain": [
       "'Albert Einstein (14 March 1879 – 18 April 1955) was a German-born theoretical physicist best known for developing the theory of relativity.\\n\\nEinstein also made important contributions to quantum theory.'"
      ]
     },
     "execution_count": 108,
     "metadata": {},
     "output_type": "execute_result"
    }
   ],
   "source": [
    "# search for most similar document to a query\n",
    "query_text = \"Albert Einstein adn his contributions to physics\"\n",
    "\n",
    "similar_docs = vector_db.similarity_search(\n",
    "    query_text,\n",
    "    k=5,\n",
    "    filter={\"document_title\": \"Albert Einstein\"}\n",
    ")\n",
    "\n",
    "similar_docs[0].page_content"
   ]
  },
  {
   "cell_type": "code",
   "execution_count": 112,
   "id": "7b1dc4c5",
   "metadata": {},
   "outputs": [],
   "source": [
    "## Load from disk\n",
    "load_from_dir = \"./wiki_chroma_db\"\n",
    "\n",
    "loaded_vector_db = Chroma(\n",
    "    persist_directory=load_from_dir,\n",
    "    embedding_function=hf_embeddings_model\n",
    ")"
   ]
  },
  {
   "cell_type": "code",
   "execution_count": 119,
   "id": "ce0ae943",
   "metadata": {},
   "outputs": [
    {
     "data": {
      "application/vnd.jupyter.widget-view+json": {
       "model_id": "d35d5e5970f04d178bef2f5862ef309d",
       "version_major": 2,
       "version_minor": 0
      },
      "text/plain": [
       "Batches:   0%|          | 0/1 [00:00<?, ?it/s]"
      ]
     },
     "metadata": {},
     "output_type": "display_data"
    },
    {
     "name": "stdout",
     "output_type": "stream",
     "text": [
      "Albert Einstein (14 March 1879 – 18 April 1955) was a German-born theoretical physicist best known for developing the theory of relativity.\n",
      "\n",
      "Einstein also made important contributions to quantum theory.\n"
     ]
    }
   ],
   "source": [
    "# search for most similar document to a query\n",
    "query_text = \"Albert Einstein adn his contributions to physics\"\n",
    "\n",
    "similar_docs = loaded_vector_db.similarity_search(\n",
    "    query_text, k=5, filter={\"document_title\": \"Albert Einstein\"}\n",
    ")\n",
    "\n",
    "print(similar_docs[0].page_content)"
   ]
  },
  {
   "cell_type": "markdown",
   "id": "2881308f",
   "metadata": {},
   "source": [
    "---\n",
    "# 3. RAG QnA Chains\n",
    "\n",
    "---\n",
    "You will learn about:\n",
    "- QnA Stuff Chain\n",
    "- QnA MapReduce Chain\n",
    "- QnA Refine Chain\n"
   ]
  },
  {
   "cell_type": "code",
   "execution_count": null,
   "id": "8c34220d",
   "metadata": {},
   "outputs": [],
   "source": []
  },
  {
   "cell_type": "code",
   "execution_count": null,
   "id": "25ab8c7c",
   "metadata": {},
   "outputs": [],
   "source": []
  },
  {
   "cell_type": "code",
   "execution_count": null,
   "id": "2485af35",
   "metadata": {},
   "outputs": [],
   "source": []
  },
  {
   "cell_type": "code",
   "execution_count": null,
   "id": "dc3bdbd7",
   "metadata": {},
   "outputs": [],
   "source": []
  },
  {
   "cell_type": "code",
   "execution_count": null,
   "id": "bef7641c",
   "metadata": {},
   "outputs": [],
   "source": []
  },
  {
   "cell_type": "code",
   "execution_count": null,
   "id": "85680c19",
   "metadata": {},
   "outputs": [],
   "source": []
  },
  {
   "cell_type": "code",
   "execution_count": null,
   "id": "d0844c25",
   "metadata": {},
   "outputs": [],
   "source": []
  }
 ],
 "metadata": {
  "kernelspec": {
   "display_name": "ai_env",
   "language": "python",
   "name": "python3"
  },
  "language_info": {
   "codemirror_mode": {
    "name": "ipython",
    "version": 3
   },
   "file_extension": ".py",
   "mimetype": "text/x-python",
   "name": "python",
   "nbconvert_exporter": "python",
   "pygments_lexer": "ipython3",
   "version": "3.9.23"
  }
 },
 "nbformat": 4,
 "nbformat_minor": 5
}
